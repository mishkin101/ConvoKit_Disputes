{
 "cells": [
  {
   "cell_type": "markdown",
   "id": "86e7eeaf",
   "metadata": {},
   "source": [
    "---\n",
    "title: \"Fine-Tining Kodis\"\n",
    "author: \"Michelle Gelman\"\n",
    "date: \"04/30/2025\"\n",
    "format: \n",
    "  html:\n",
    "    code-fold: true\n",
    "    toc: true\n",
    "    execute:\n",
    "      eval: false\n",
    "      echo: True\n",
    "      cache: True\n",
    "jupyter: python3\n",
    "---\n"
   ]
  },
  {
   "cell_type": "markdown",
   "metadata": {},
   "source": [
    "# Notes\n",
    "- According to craft paper, only context prior to derailment comment is used in training. \n",
    "    - \"Note that by construction, the last comment of each conversation is the one marked as derailment, and that our earlier code was therefore set up to not look at the last comment, meaning that all forecasts we obtained are forecasts made prior to derailment. This simplifies the computation of forecast accuracy as we now do not need to explicitly consider when a forecast was made.\" \n",
    "    - [Reproducible code for CMV data](https://colab.research.google.com/drive/1GvICZN0VwZQSWw3pJaEVY-EQGoO-L5lH#scrollTo=FYxW_AuWszqX)\n",
    "    - [Reproducible code for WIKI data (fine-tuning + inference)](https://github.com/jpwchang/CRAFT/blob/main/fine_tuning_demo.ipynb)\n",
    "    - [New Forecaster Framework says to follow training on last_only context tuple (all commens up to final)](https://github.com/CornellNLP/ConvoKit/blob/master/examples/forecaster/CRAFT%20Forecaster%20demo.ipynb)\n",
    "    - Claim all samples in train/val set for CMV/WIKI use \"last only\" context (entire convo up to last comment) for training-- therefor assume that last comment has the derailed event in train set. **However, my plot for utterances after derailment comment for wiki test set says otherwise? There are comments after the derailment comment in test set**\n",
    "    - In Horizon paper, explicity stated \"  if cₑ is the first toxic utterance at index e, we generate tuples for n=1…e–1 otherwise (a non-derailing convo), for n=1…N–1. Only WIKI was annotated at comment using \"comment_has_personal_attack\" meta data for each utterance.\n",
    "    - Can we assume that an \"impasse\" is a derailed conversation?\n",
    "# Main Resources to Consider\n",
    "- [Paper on experiements in 2022 to de-escalate convo by intervention to inform users of tension (same authors as Horizon)](https://www.cs.cornell.edu/~cristian/Thread_With_Caution.html)\n",
    "- [Jonathan Change PhD Thesis on Conversational Forecasting, \"TOWARDS COMPUTATIONAL METHODS FOR\n",
    "PROACTIVELY SUPPORTING HEALTHIER\n",
    "ONLINE DISCUSSIONS\"](https://www.cs.cornell.edu/~cristian/papers/chang_thesis.pdf)\n",
    "# Todo:\n",
    "- [ ] A [paper](https://arxiv.org/pdf/1805.05345) from paper from Jonathan P. Cheng (Horizon paper) that preceeeds the CRAFT model defines pragmatic devices—such as politeness strategies and rhetorical prompts—used to start a conversation, and analyze their relation to its future trajectory.\n",
    "    - [ ] Convokit has a [notebook](https://github.com/CornellNLP/ConvoKit/blob/master/examples/conversations-gone-awry/Conversations_Gone_Awry_Prediction.ipynb) (very recent-2025) that creates Prompt Types/politeness strategy labels for paired utterances to make derailement predicitons\n",
    "- [ ] Plot utterances frequenices across context length dimension (averaged across all conversations)"
   ]
  },
  {
   "cell_type": "markdown",
   "id": "edd08a2c",
   "metadata": {},
   "source": [
    "# Corpus Pre-processing"
   ]
  },
  {
   "cell_type": "code",
   "execution_count": 46,
   "id": "8b8ce84d",
   "metadata": {},
   "outputs": [],
   "source": [
    "%%capture\n",
    "from tqdm import tqdm\n",
    "from convokit import Corpus, Speaker, Utterance\n",
    "from collections import defaultdict\n",
    "import pandas as pd\n",
    "import pprint as pp\n",
    "from IPython.display import display\n",
    "from modules.DataPreprocesser import DataPreprocesser\n",
    "from modules import CorpusUtils as corp\n",
    "import torch\n",
    "import pickle\n",
    "import random\n",
    "from pathlib import Path \n",
    "import json\n",
    "\n",
    "# Add the src directory to the path\n",
    "import sys\n",
    "import os\n",
    "\n",
    "# Add the src\n",
    "sys.path.append(os.path.abspath(\".\"))\n",
    "import import_ipynb\n",
    "\n",
    "#Convokit Imports\n",
    "from convokit.forecaster.CRAFTModel import CRAFTModel\n",
    "from convokit.forecaster.forecaster import Forecaster\n",
    "from convokit import download\n",
    "from convokit.convokitConfig import ConvoKitConfig\n",
    "\n",
    "from modules.DataPreprocesser import DataPreprocesser\n",
    "from modules import CorpusUtils as corp"
   ]
  },
  {
   "cell_type": "markdown",
   "id": "f6733476",
   "metadata": {},
   "source": [
    "### Corpus Imports"
   ]
  },
  {
   "cell_type": "code",
   "execution_count": 2,
   "id": "a7b2368b",
   "metadata": {},
   "outputs": [],
   "source": [
    "from convokit import download, Corpus, Forecaster, CRAFTModel\n",
    "from functools import partial"
   ]
  },
  {
   "cell_type": "code",
   "execution_count": null,
   "id": "5e8e0b4e",
   "metadata": {},
   "outputs": [],
   "source": [
    "corpus = Corpus(filename=download(\"conversations-gone-awry-corpus\"))"
   ]
  },
  {
   "cell_type": "code",
   "execution_count": 61,
   "id": "8a506656",
   "metadata": {},
   "outputs": [
    {
     "name": "stdout",
     "output_type": "stream",
     "text": [
      "Row Index not in columns\n"
     ]
    },
    {
     "name": "stderr",
     "output_type": "stream",
     "text": [
      "/Users/mishkin/Desktop/Research/Convo_Kit/ConvoKit_Disputes/src/modules/DataPreprocesser.py:111: FutureWarning: Setting an item of incompatible dtype is deprecated and will raise an error in a future version of pandas. Value '1702723625' has dtype incompatible with float64, please explicitly cast to a compatible dtype first.\n",
      "  self.utterancesDF.loc[13988, 'timestamp']= '1702723625'\n"
     ]
    },
    {
     "name": "stdout",
     "output_type": "stream",
     "text": [
      "Row Index not in columns\n"
     ]
    },
    {
     "name": "stderr",
     "output_type": "stream",
     "text": [
      "/Users/mishkin/Desktop/Research/Convo_Kit/ConvoKit_Disputes/src/modules/DataPreprocesser.py:111: FutureWarning: Setting an item of incompatible dtype is deprecated and will raise an error in a future version of pandas. Value '1702723625' has dtype incompatible with float64, please explicitly cast to a compatible dtype first.\n",
      "  self.utterancesDF.loc[13988, 'timestamp']= '1702723625'\n"
     ]
    },
    {
     "name": "stdout",
     "output_type": "stream",
     "text": [
      "Row Index not in columns\n"
     ]
    },
    {
     "name": "stderr",
     "output_type": "stream",
     "text": [
      "/Users/mishkin/Desktop/Research/Convo_Kit/ConvoKit_Disputes/src/modules/DataPreprocesser.py:111: FutureWarning: Setting an item of incompatible dtype is deprecated and will raise an error in a future version of pandas. Value '1702723625' has dtype incompatible with float64, please explicitly cast to a compatible dtype first.\n",
      "  self.utterancesDF.loc[13988, 'timestamp']= '1702723625'\n"
     ]
    },
    {
     "name": "stdout",
     "output_type": "stream",
     "text": [
      "Row Index not in columns\n"
     ]
    },
    {
     "name": "stderr",
     "output_type": "stream",
     "text": [
      "/Users/mishkin/Desktop/Research/Convo_Kit/ConvoKit_Disputes/src/modules/DataPreprocesser.py:111: FutureWarning: Setting an item of incompatible dtype is deprecated and will raise an error in a future version of pandas. Value '1702723625' has dtype incompatible with float64, please explicitly cast to a compatible dtype first.\n",
      "  self.utterancesDF.loc[13988, 'timestamp']= '1702723625'\n"
     ]
    },
    {
     "name": "stdout",
     "output_type": "stream",
     "text": [
      "Row Index not in columns\n"
     ]
    },
    {
     "name": "stderr",
     "output_type": "stream",
     "text": [
      "/Users/mishkin/Desktop/Research/Convo_Kit/ConvoKit_Disputes/src/modules/DataPreprocesser.py:111: FutureWarning: Setting an item of incompatible dtype is deprecated and will raise an error in a future version of pandas. Value '1702723625' has dtype incompatible with float64, please explicitly cast to a compatible dtype first.\n",
      "  self.utterancesDF.loc[13988, 'timestamp']= '1702723625'\n"
     ]
    },
    {
     "name": "stdout",
     "output_type": "stream",
     "text": [
      "Row Index not in columns\n"
     ]
    },
    {
     "name": "stderr",
     "output_type": "stream",
     "text": [
      "/Users/mishkin/Desktop/Research/Convo_Kit/ConvoKit_Disputes/src/modules/DataPreprocesser.py:111: FutureWarning: Setting an item of incompatible dtype is deprecated and will raise an error in a future version of pandas. Value '1702723625' has dtype incompatible with float64, please explicitly cast to a compatible dtype first.\n",
      "  self.utterancesDF.loc[13988, 'timestamp']= '1702723625'\n",
      "27498it [00:00, 67649.43it/s]\n",
      "25391it [00:00, 66968.19it/s]\n",
      "23117it [00:00, 70699.83it/s]\n"
     ]
    },
    {
     "data": {
      "application/vnd.microsoft.datawrangler.viewer.v0+json": {
       "columns": [
        {
         "name": "id",
         "rawType": "object",
         "type": "string"
        },
        {
         "name": "timestamp",
         "rawType": "object",
         "type": "unknown"
        },
        {
         "name": "text",
         "rawType": "object",
         "type": "string"
        },
        {
         "name": "speaker",
         "rawType": "object",
         "type": "string"
        },
        {
         "name": "reply_to",
         "rawType": "object",
         "type": "unknown"
        },
        {
         "name": "conversation_id",
         "rawType": "object",
         "type": "string"
        },
        {
         "name": "vectors",
         "rawType": "object",
         "type": "unknown"
        }
       ],
       "conversionMethod": "pd.DataFrame",
       "ref": "c7a9873b-2f76-4ac9-8003-585d5c3c1fba",
       "rows": [
        [
         "utt0_con1",
         "1699388451",
         "Hi there! I believe I received the wrong jersey from you! I was wondering if I could get a refund on my purchase?",
         "Buyer_1",
         null,
         "utt0_con1",
         "[]"
        ],
        [
         "utt1_con1",
         "1699388553",
         "Good afternoon! I looked over your purchase record, and I'm afraid it looks like you bought the right item--it's advertised as a generic jersey, not one for a specific player. Given that, I'm afraid I can't issue you a refund. I'm sorry for the inconvenience!",
         "Seller_1",
         "utt0_con1",
         "utt0_con1",
         "[]"
        ],
        [
         "utt2_con1",
         "1699388719",
         "I appreciate your timely response! I can understand how there is confusion. There were two options on the site. One for the generic jersey and a couple of specific jerseys. I had chosen the very specific one for my nephew and I think maybe I was shipped the incorrect order unfortunately! Is there anyway we could do a partial refund for me today?",
         "Buyer_1",
         "utt1_con1",
         "utt0_con1",
         "[]"
        ],
        [
         "utt3_con1",
         "1699388896",
         "Of course! We try to reach all our customers as quickly as we can. I'd be more than happy to get the correct item to you--how about we spit the difference? If you can return the generic jersey, I'll get the correct one shipped to you. While were talking, I was hoping we could talk about the negative review you left on my business--as you can imagine, that can be very damaging. Could I convince you to retract that review?",
         "Seller_1",
         "utt2_con1",
         "utt0_con1",
         "[]"
        ],
        [
         "utt4_con1",
         "1699389108",
         "I can return the generic jersey, no problem! I wrote a bad review on your site because you wrote a bad review of me. I apologize. I will retract my review of me if can you remove your negative review on mine and if you apologize. How does that sound?",
         "Buyer_1",
         "utt3_con1",
         "utt0_con1",
         "[]"
        ],
        [
         "utt5_con1",
         "1699389202",
         "You know, that's a good idea. You seem really reasonable--how about we retract both negative reviews, each write an apology giving someone who stumbles by the review the full context, and we get the correct jerseys to each other?",
         "Seller_1",
         "utt4_con1",
         "utt0_con1",
         "[]"
        ],
        [
         "utt6_con1",
         "1699389315",
         "This seems very reasonable to me. I think at the end of the day we both just want a positive out come out of this so I am very happy with this result and I really appreciate you working with me on this.",
         "Buyer_1",
         "utt5_con1",
         "utt0_con1",
         "[]"
        ],
        [
         "utt7_con1",
         "1699389355",
         "Agreed! I'm grateful for your time. Hope you have a great rest of your day!",
         "Seller_1",
         "utt6_con1",
         "utt0_con1",
         "[]"
        ],
        [
         "utt8_con1",
         "1699389381",
         "I believe theres a few things left to say!!",
         "Buyer_1",
         "utt7_con1",
         "utt0_con1",
         "[]"
        ],
        [
         "utt9_con1",
         "1699389423",
         "Oh? I beg your pardon. What can I do for you?",
         "Seller_1",
         "utt8_con1",
         "utt0_con1",
         "[]"
        ],
        [
         "utt10_con1",
         "1699389451",
         "I was just going to say have a great rest of your day!",
         "Buyer_1",
         "utt9_con1",
         "utt0_con1",
         "[]"
        ],
        [
         "utt11_con1",
         "1699389479",
         "Thank you, you too!",
         "Seller_1",
         "utt10_con1",
         "utt0_con1",
         "[]"
        ],
        [
         "utt12_con1",
         "1699389486",
         "Submitted agreement: Buyer gets partial refund, buyer retracted their review, seller retracted their review, buyer did apologize, and seller did apologize.",
         "Buyer_1",
         "utt11_con1",
         "utt0_con1",
         "[]"
        ],
        [
         "utt13_con1",
         "1699389501",
         "Accept Deal",
         "Seller_1",
         "utt12_con1",
         "utt0_con1",
         "[]"
        ],
        [
         "utt0_con6",
         "1699389969",
         "Hello. I need you to make this right. This is for my nephew thats really sick",
         "Buyer_6",
         null,
         "utt0_con6",
         "[]"
        ],
        [
         "utt1_con6",
         "1699389993",
         "can you explain the problem with the product?",
         "Seller_6",
         "utt0_con6",
         "utt0_con6",
         "[]"
        ],
        [
         "utt2_con6",
         "1699390064",
         "Sorry. Guess i should have started with that. Just upset. Im gonna start over. Hope you are well. I have an issue that needs addressed. You sent me the wrong jersey. It supposed to be kobe bryant.",
         "Buyer_6",
         "utt1_con6",
         "utt0_con6",
         "[]"
        ],
        [
         "utt3_con6",
         "1699390107",
         "the website clearly states that this is a championship jersey, nowhere does it say Kobe Bryant on it",
         "Seller_6",
         "utt2_con6",
         "utt0_con6",
         "[]"
        ],
        [
         "utt4_con6",
         "1699390191",
         "I have burnt by online purchase before. Therfore i take screenshots of items i purchase. I would be happy to send it if you like. It clearly shows the listing for kobe bryant and its my nephews favorite player.",
         "Buyer_6",
         "utt3_con6",
         "utt0_con6",
         "[]"
        ],
        [
         "utt5_con6",
         "1699390248",
         "I can see your order here, and it was a purchase of a championship jersey. If you would like to return the jersey we can offer a refund upon receipt",
         "Seller_6",
         "utt4_con6",
         "utt0_con6",
         "[]"
        ],
        [
         "utt6_con6",
         "1699390322",
         "I will return it but i think you should",
         "Buyer_6",
         "utt5_con6",
         "utt0_con6",
         "[]"
        ],
        [
         "utt7_con6",
         "1699390352",
         "we will be happy to refund your purchase upon receipt of the merchandise]",
         "Seller_6",
         "utt6_con6",
         "utt0_con6",
         "[]"
        ],
        [
         "utt8_con6",
         "1699390414",
         "Ok. Im going to need a post paid label. Im sure this is a misunderstanding but an apology would be nice. Someone on your staff obviosuly made a mistake. I screenshotted it",
         "Buyer_6",
         "utt7_con6",
         "utt0_con6",
         "[]"
        ],
        [
         "utt9_con6",
         "1699390488",
         "we will provide you with a return label, and refund your purchase price, but again, the item you purchased was a championship jersey, not a kobe bryant jersey. Is there anything else I can assist you with today?",
         "Seller_6",
         "utt8_con6",
         "utt0_con6",
         "[]"
        ],
        [
         "utt10_con6",
         "1699390531",
         "I have proof and your not willing to look at it.",
         "Buyer_6",
         "utt9_con6",
         "utt0_con6",
         "[]"
        ],
        [
         "utt11_con6",
         "1699390594",
         "I am looking at your order right now, and am willing to issue a refund, will this satisfactorily conclude our business today?",
         "Seller_6",
         "utt10_con6",
         "utt0_con6",
         "[]"
        ],
        [
         "utt12_con6",
         "1699390617",
         "Submitted agreement: Buyer gets full refund, buyer kept their review, seller kept their review, buyer didn't apologize, and seller didn't apologize.",
         "Buyer_6",
         "utt11_con6",
         "utt0_con6",
         "[]"
        ],
        [
         "utt13_con6",
         "1699390631",
         "Accept Deal",
         "Seller_6",
         "utt12_con6",
         "utt0_con6",
         "[]"
        ],
        [
         "utt0_con9",
         "1699392080",
         "I would prefer a refund as the item was described as a Kobe jersey. It is a gift for my nephew who is ill in the hospital and I'm not willing to disappoint him.",
         "Buyer_9",
         null,
         "utt0_con9",
         "[]"
        ],
        [
         "utt1_con9",
         "1699392149",
         "I am very sorry to hear that. I understand that this may be frustrating. The ad that I have does not say that it is a Kobe jersey. A store policy is that all sales are final.",
         "Seller_9",
         "utt0_con9",
         "utt0_con9",
         "[]"
        ],
        [
         "utt2_con9",
         "1699392234",
         "I understand that the ad doesn't say that now, but it did when I purchased the jersey. I would be more than happy to exchange it for the correct jersey and amend my review if that's done.",
         "Buyer_9",
         "utt1_con9",
         "utt0_con9",
         "[]"
        ],
        [
         "utt3_con9",
         "1699392347",
         "Well we are not selling the Kobe jersies for that price. The most I would be willing to do is that I will give you a refund for the jersey you have once you have sent it back to me, as well as removed the negative review for me.",
         "Seller_9",
         "utt2_con9",
         "utt0_con9",
         "[]"
        ],
        [
         "utt4_con9",
         "1699392376",
         "I agree to a refund upon return receipt of the jersey and removal of the negative review so long as you remove the one left for me as well.",
         "Buyer_9",
         "utt3_con9",
         "utt0_con9",
         "[]"
        ],
        [
         "utt5_con9",
         "1699392437",
         "Ok. I am willing to retract my review as well.",
         "Seller_9",
         "utt4_con9",
         "utt0_con9",
         "[]"
        ],
        [
         "utt6_con9",
         "1699392459",
         "Perfect, I am appreciative we were able to resolve this. Do we have an agreement then?",
         "Buyer_9",
         "utt5_con9",
         "utt0_con9",
         "[]"
        ],
        [
         "utt7_con9",
         "1699392479",
         "I think that we do.",
         "Seller_9",
         "utt6_con9",
         "utt0_con9",
         "[]"
        ],
        [
         "utt8_con9",
         "1699392513",
         "Wonderful. Thank you kindly. I know we need to continue to correspond, so do you know when your Kobe jersey's will arrive?",
         "Buyer_9",
         "utt7_con9",
         "utt0_con9",
         "[]"
        ],
        [
         "utt9_con9",
         "1699392568",
         "I do have a shipment coming in next week. That one costs more but I could get you one if you wish.",
         "Seller_9",
         "utt8_con9",
         "utt0_con9",
         "[]"
        ],
        [
         "utt10_con9",
         "1699392599",
         "That is fine. I'm more than happy to pay more for the jersey that will make him happy. I'll send this jersey back tomorrow with tracking information for you.",
         "Buyer_9",
         "utt9_con9",
         "utt0_con9",
         "[]"
        ],
        [
         "utt11_con9",
         "1699392615",
         "Submitted agreement: Buyer gets full refund, buyer retracted their review, seller retracted their review, buyer didn't apologize, and seller didn't apologize.",
         "Seller_9",
         "utt10_con9",
         "utt0_con9",
         "[]"
        ],
        [
         "utt12_con9",
         "1699392624",
         "Accept Deal",
         "Buyer_9",
         "utt11_con9",
         "utt0_con9",
         "[]"
        ],
        [
         "utt0_con10",
         "1699392404",
         "I didn't receive the correct item. Please refund my money and I will return the item I received",
         "Buyer_10",
         null,
         "utt0_con10",
         "[]"
        ],
        [
         "utt1_con10",
         "1699392443",
         "I would be happy to refund your money. Please return the item and I will send a refund when I receive it.",
         "Seller_10",
         "utt0_con10",
         "utt0_con10",
         "[]"
        ],
        [
         "utt2_con10",
         "1699392497",
         "Thanks, it's been shipped",
         "Buyer_10",
         "utt1_con10",
         "utt0_con10",
         "[]"
        ],
        [
         "utt3_con10",
         "1699392531",
         "Awesome. Would you be willing to amend your negative review? I would be happy to amend mine as well.",
         "Seller_10",
         "utt2_con10",
         "utt0_con10",
         "[]"
        ],
        [
         "utt4_con10",
         "1699392555",
         "Yes of course, It's been amended",
         "Buyer_10",
         "utt3_con10",
         "utt0_con10",
         "[]"
        ],
        [
         "utt5_con10",
         "1699392580",
         "I will amend mine right away as well.",
         "Seller_10",
         "utt4_con10",
         "utt0_con10",
         "[]"
        ],
        [
         "utt6_con10",
         "1699392618",
         "I apologize for losing my cool before, and appreciate your willingness to negotiate",
         "Buyer_10",
         "utt5_con10",
         "utt0_con10",
         "[]"
        ],
        [
         "utt7_con10",
         "1699392652",
         "I apologize for losing my temper and acting rashly.",
         "Seller_10",
         "utt6_con10",
         "utt0_con10",
         "[]"
        ],
        [
         "utt8_con10",
         "1699392693",
         "Thanks glad we could come to an agreement",
         "Buyer_10",
         "utt7_con10",
         "utt0_con10",
         "[]"
        ]
       ],
       "shape": {
        "columns": 6,
        "rows": 27498
       }
      },
      "text/html": [
       "<div>\n",
       "<style scoped>\n",
       "    .dataframe tbody tr th:only-of-type {\n",
       "        vertical-align: middle;\n",
       "    }\n",
       "\n",
       "    .dataframe tbody tr th {\n",
       "        vertical-align: top;\n",
       "    }\n",
       "\n",
       "    .dataframe thead th {\n",
       "        text-align: right;\n",
       "    }\n",
       "</style>\n",
       "<table border=\"1\" class=\"dataframe\">\n",
       "  <thead>\n",
       "    <tr style=\"text-align: right;\">\n",
       "      <th></th>\n",
       "      <th>timestamp</th>\n",
       "      <th>text</th>\n",
       "      <th>speaker</th>\n",
       "      <th>reply_to</th>\n",
       "      <th>conversation_id</th>\n",
       "      <th>vectors</th>\n",
       "    </tr>\n",
       "    <tr>\n",
       "      <th>id</th>\n",
       "      <th></th>\n",
       "      <th></th>\n",
       "      <th></th>\n",
       "      <th></th>\n",
       "      <th></th>\n",
       "      <th></th>\n",
       "    </tr>\n",
       "  </thead>\n",
       "  <tbody>\n",
       "    <tr>\n",
       "      <th>utt0_con1</th>\n",
       "      <td>1699388451</td>\n",
       "      <td>Hi there! I believe I received the wrong jerse...</td>\n",
       "      <td>Buyer_1</td>\n",
       "      <td>None</td>\n",
       "      <td>utt0_con1</td>\n",
       "      <td>[]</td>\n",
       "    </tr>\n",
       "    <tr>\n",
       "      <th>utt1_con1</th>\n",
       "      <td>1699388553</td>\n",
       "      <td>Good afternoon! I looked over your purchase re...</td>\n",
       "      <td>Seller_1</td>\n",
       "      <td>utt0_con1</td>\n",
       "      <td>utt0_con1</td>\n",
       "      <td>[]</td>\n",
       "    </tr>\n",
       "    <tr>\n",
       "      <th>utt2_con1</th>\n",
       "      <td>1699388719</td>\n",
       "      <td>I appreciate your timely response! I can under...</td>\n",
       "      <td>Buyer_1</td>\n",
       "      <td>utt1_con1</td>\n",
       "      <td>utt0_con1</td>\n",
       "      <td>[]</td>\n",
       "    </tr>\n",
       "    <tr>\n",
       "      <th>utt3_con1</th>\n",
       "      <td>1699388896</td>\n",
       "      <td>Of course! We try to reach all our customers a...</td>\n",
       "      <td>Seller_1</td>\n",
       "      <td>utt2_con1</td>\n",
       "      <td>utt0_con1</td>\n",
       "      <td>[]</td>\n",
       "    </tr>\n",
       "    <tr>\n",
       "      <th>utt4_con1</th>\n",
       "      <td>1699389108</td>\n",
       "      <td>I can return the generic jersey, no problem! I...</td>\n",
       "      <td>Buyer_1</td>\n",
       "      <td>utt3_con1</td>\n",
       "      <td>utt0_con1</td>\n",
       "      <td>[]</td>\n",
       "    </tr>\n",
       "    <tr>\n",
       "      <th>...</th>\n",
       "      <td>...</td>\n",
       "      <td>...</td>\n",
       "      <td>...</td>\n",
       "      <td>...</td>\n",
       "      <td>...</td>\n",
       "      <td>...</td>\n",
       "    </tr>\n",
       "    <tr>\n",
       "      <th>utt6_con2880</th>\n",
       "      <td>1718879513</td>\n",
       "      <td>Cool no problem, so just to clarify, you will ...</td>\n",
       "      <td>Buyer_2880</td>\n",
       "      <td>utt5_con2880</td>\n",
       "      <td>utt0_con2880</td>\n",
       "      <td>[]</td>\n",
       "    </tr>\n",
       "    <tr>\n",
       "      <th>utt7_con2880</th>\n",
       "      <td>1718879641</td>\n",
       "      <td>I will refund you after you have sent the item...</td>\n",
       "      <td>Seller_2880</td>\n",
       "      <td>utt6_con2880</td>\n",
       "      <td>utt0_con2880</td>\n",
       "      <td>[]</td>\n",
       "    </tr>\n",
       "    <tr>\n",
       "      <th>utt8_con2880</th>\n",
       "      <td>1718879680</td>\n",
       "      <td>Great thanks for this outcome, enjoy the rest ...</td>\n",
       "      <td>Buyer_2880</td>\n",
       "      <td>utt7_con2880</td>\n",
       "      <td>utt0_con2880</td>\n",
       "      <td>[]</td>\n",
       "    </tr>\n",
       "    <tr>\n",
       "      <th>utt9_con2880</th>\n",
       "      <td>1718879753</td>\n",
       "      <td>Submitted agreement: Buyer gets full refund, s...</td>\n",
       "      <td>Seller_2880</td>\n",
       "      <td>utt8_con2880</td>\n",
       "      <td>utt0_con2880</td>\n",
       "      <td>[]</td>\n",
       "    </tr>\n",
       "    <tr>\n",
       "      <th>utt10_con2880</th>\n",
       "      <td>1718879772</td>\n",
       "      <td>Accept Deal</td>\n",
       "      <td>Buyer_2880</td>\n",
       "      <td>utt9_con2880</td>\n",
       "      <td>utt0_con2880</td>\n",
       "      <td>[]</td>\n",
       "    </tr>\n",
       "  </tbody>\n",
       "</table>\n",
       "<p>27498 rows × 6 columns</p>\n",
       "</div>"
      ],
      "text/plain": [
       "                timestamp                                               text  \\\n",
       "id                                                                             \n",
       "utt0_con1      1699388451  Hi there! I believe I received the wrong jerse...   \n",
       "utt1_con1      1699388553  Good afternoon! I looked over your purchase re...   \n",
       "utt2_con1      1699388719  I appreciate your timely response! I can under...   \n",
       "utt3_con1      1699388896  Of course! We try to reach all our customers a...   \n",
       "utt4_con1      1699389108  I can return the generic jersey, no problem! I...   \n",
       "...                   ...                                                ...   \n",
       "utt6_con2880   1718879513  Cool no problem, so just to clarify, you will ...   \n",
       "utt7_con2880   1718879641  I will refund you after you have sent the item...   \n",
       "utt8_con2880   1718879680  Great thanks for this outcome, enjoy the rest ...   \n",
       "utt9_con2880   1718879753  Submitted agreement: Buyer gets full refund, s...   \n",
       "utt10_con2880  1718879772                                        Accept Deal   \n",
       "\n",
       "                   speaker      reply_to conversation_id vectors  \n",
       "id                                                                \n",
       "utt0_con1          Buyer_1          None       utt0_con1      []  \n",
       "utt1_con1         Seller_1     utt0_con1       utt0_con1      []  \n",
       "utt2_con1          Buyer_1     utt1_con1       utt0_con1      []  \n",
       "utt3_con1         Seller_1     utt2_con1       utt0_con1      []  \n",
       "utt4_con1          Buyer_1     utt3_con1       utt0_con1      []  \n",
       "...                    ...           ...             ...     ...  \n",
       "utt6_con2880    Buyer_2880  utt5_con2880    utt0_con2880      []  \n",
       "utt7_con2880   Seller_2880  utt6_con2880    utt0_con2880      []  \n",
       "utt8_con2880    Buyer_2880  utt7_con2880    utt0_con2880      []  \n",
       "utt9_con2880   Seller_2880  utt8_con2880    utt0_con2880      []  \n",
       "utt10_con2880   Buyer_2880  utt9_con2880    utt0_con2880      []  \n",
       "\n",
       "[27498 rows x 6 columns]"
      ]
     },
     "metadata": {},
     "output_type": "display_data"
    },
    {
     "data": {
      "application/vnd.microsoft.datawrangler.viewer.v0+json": {
       "columns": [
        {
         "name": "id",
         "rawType": "object",
         "type": "string"
        },
        {
         "name": "timestamp",
         "rawType": "object",
         "type": "unknown"
        },
        {
         "name": "text",
         "rawType": "object",
         "type": "string"
        },
        {
         "name": "speaker",
         "rawType": "object",
         "type": "string"
        },
        {
         "name": "reply_to",
         "rawType": "object",
         "type": "unknown"
        },
        {
         "name": "conversation_id",
         "rawType": "object",
         "type": "string"
        },
        {
         "name": "vectors",
         "rawType": "object",
         "type": "unknown"
        }
       ],
       "conversionMethod": "pd.DataFrame",
       "ref": "83e5b49e-5589-4755-8196-506dd2aa0718",
       "rows": [
        [
         "utt0_con1",
         "1699388451",
         "Hi there! I believe I received the wrong jersey from you! I was wondering if I could get a refund on my purchase?",
         "Buyer_1",
         null,
         "utt0_con1",
         "[]"
        ],
        [
         "utt1_con1",
         "1699388553",
         "Good afternoon! I looked over your purchase record, and I'm afraid it looks like you bought the right item--it's advertised as a generic jersey, not one for a specific player. Given that, I'm afraid I can't issue you a refund. I'm sorry for the inconvenience!",
         "Seller_1",
         "utt0_con1",
         "utt0_con1",
         "[]"
        ],
        [
         "utt2_con1",
         "1699388719",
         "I appreciate your timely response! I can understand how there is confusion. There were two options on the site. One for the generic jersey and a couple of specific jerseys. I had chosen the very specific one for my nephew and I think maybe I was shipped the incorrect order unfortunately! Is there anyway we could do a partial refund for me today?",
         "Buyer_1",
         "utt1_con1",
         "utt0_con1",
         "[]"
        ],
        [
         "utt3_con1",
         "1699388896",
         "Of course! We try to reach all our customers as quickly as we can. I'd be more than happy to get the correct item to you--how about we spit the difference? If you can return the generic jersey, I'll get the correct one shipped to you. While were talking, I was hoping we could talk about the negative review you left on my business--as you can imagine, that can be very damaging. Could I convince you to retract that review?",
         "Seller_1",
         "utt2_con1",
         "utt0_con1",
         "[]"
        ],
        [
         "utt4_con1",
         "1699389108",
         "I can return the generic jersey, no problem! I wrote a bad review on your site because you wrote a bad review of me. I apologize. I will retract my review of me if can you remove your negative review on mine and if you apologize. How does that sound?",
         "Buyer_1",
         "utt3_con1",
         "utt0_con1",
         "[]"
        ],
        [
         "utt5_con1",
         "1699389202",
         "You know, that's a good idea. You seem really reasonable--how about we retract both negative reviews, each write an apology giving someone who stumbles by the review the full context, and we get the correct jerseys to each other?",
         "Seller_1",
         "utt4_con1",
         "utt0_con1",
         "[]"
        ],
        [
         "utt6_con1",
         "1699389315",
         "This seems very reasonable to me. I think at the end of the day we both just want a positive out come out of this so I am very happy with this result and I really appreciate you working with me on this.",
         "Buyer_1",
         "utt5_con1",
         "utt0_con1",
         "[]"
        ],
        [
         "utt7_con1",
         "1699389355",
         "Agreed! I'm grateful for your time. Hope you have a great rest of your day!",
         "Seller_1",
         "utt6_con1",
         "utt0_con1",
         "[]"
        ],
        [
         "utt8_con1",
         "1699389381",
         "I believe theres a few things left to say!!",
         "Buyer_1",
         "utt7_con1",
         "utt0_con1",
         "[]"
        ],
        [
         "utt9_con1",
         "1699389423",
         "Oh? I beg your pardon. What can I do for you?",
         "Seller_1",
         "utt8_con1",
         "utt0_con1",
         "[]"
        ],
        [
         "utt10_con1",
         "1699389451",
         "I was just going to say have a great rest of your day!",
         "Buyer_1",
         "utt9_con1",
         "utt0_con1",
         "[]"
        ],
        [
         "utt11_con1",
         "1699389479",
         "Thank you, you too!",
         "Seller_1",
         "utt10_con1",
         "utt0_con1",
         "[]"
        ],
        [
         "utt12_con1",
         "1699389486",
         "Submitted agreement: Buyer gets partial refund, buyer retracted their review, seller retracted their review, buyer did apologize, and seller did apologize.",
         "Buyer_1",
         "utt11_con1",
         "utt0_con1",
         "[]"
        ],
        [
         "utt0_con6",
         "1699389969",
         "Hello. I need you to make this right. This is for my nephew thats really sick",
         "Buyer_6",
         null,
         "utt0_con6",
         "[]"
        ],
        [
         "utt1_con6",
         "1699389993",
         "can you explain the problem with the product?",
         "Seller_6",
         "utt0_con6",
         "utt0_con6",
         "[]"
        ],
        [
         "utt2_con6",
         "1699390064",
         "Sorry. Guess i should have started with that. Just upset. Im gonna start over. Hope you are well. I have an issue that needs addressed. You sent me the wrong jersey. It supposed to be kobe bryant.",
         "Buyer_6",
         "utt1_con6",
         "utt0_con6",
         "[]"
        ],
        [
         "utt3_con6",
         "1699390107",
         "the website clearly states that this is a championship jersey, nowhere does it say Kobe Bryant on it",
         "Seller_6",
         "utt2_con6",
         "utt0_con6",
         "[]"
        ],
        [
         "utt4_con6",
         "1699390191",
         "I have burnt by online purchase before. Therfore i take screenshots of items i purchase. I would be happy to send it if you like. It clearly shows the listing for kobe bryant and its my nephews favorite player.",
         "Buyer_6",
         "utt3_con6",
         "utt0_con6",
         "[]"
        ],
        [
         "utt5_con6",
         "1699390248",
         "I can see your order here, and it was a purchase of a championship jersey. If you would like to return the jersey we can offer a refund upon receipt",
         "Seller_6",
         "utt4_con6",
         "utt0_con6",
         "[]"
        ],
        [
         "utt6_con6",
         "1699390322",
         "I will return it but i think you should",
         "Buyer_6",
         "utt5_con6",
         "utt0_con6",
         "[]"
        ],
        [
         "utt7_con6",
         "1699390352",
         "we will be happy to refund your purchase upon receipt of the merchandise]",
         "Seller_6",
         "utt6_con6",
         "utt0_con6",
         "[]"
        ],
        [
         "utt8_con6",
         "1699390414",
         "Ok. Im going to need a post paid label. Im sure this is a misunderstanding but an apology would be nice. Someone on your staff obviosuly made a mistake. I screenshotted it",
         "Buyer_6",
         "utt7_con6",
         "utt0_con6",
         "[]"
        ],
        [
         "utt9_con6",
         "1699390488",
         "we will provide you with a return label, and refund your purchase price, but again, the item you purchased was a championship jersey, not a kobe bryant jersey. Is there anything else I can assist you with today?",
         "Seller_6",
         "utt8_con6",
         "utt0_con6",
         "[]"
        ],
        [
         "utt10_con6",
         "1699390531",
         "I have proof and your not willing to look at it.",
         "Buyer_6",
         "utt9_con6",
         "utt0_con6",
         "[]"
        ],
        [
         "utt11_con6",
         "1699390594",
         "I am looking at your order right now, and am willing to issue a refund, will this satisfactorily conclude our business today?",
         "Seller_6",
         "utt10_con6",
         "utt0_con6",
         "[]"
        ],
        [
         "utt12_con6",
         "1699390617",
         "Submitted agreement: Buyer gets full refund, buyer kept their review, seller kept their review, buyer didn't apologize, and seller didn't apologize.",
         "Buyer_6",
         "utt11_con6",
         "utt0_con6",
         "[]"
        ],
        [
         "utt0_con9",
         "1699392080",
         "I would prefer a refund as the item was described as a Kobe jersey. It is a gift for my nephew who is ill in the hospital and I'm not willing to disappoint him.",
         "Buyer_9",
         null,
         "utt0_con9",
         "[]"
        ],
        [
         "utt1_con9",
         "1699392149",
         "I am very sorry to hear that. I understand that this may be frustrating. The ad that I have does not say that it is a Kobe jersey. A store policy is that all sales are final.",
         "Seller_9",
         "utt0_con9",
         "utt0_con9",
         "[]"
        ],
        [
         "utt2_con9",
         "1699392234",
         "I understand that the ad doesn't say that now, but it did when I purchased the jersey. I would be more than happy to exchange it for the correct jersey and amend my review if that's done.",
         "Buyer_9",
         "utt1_con9",
         "utt0_con9",
         "[]"
        ],
        [
         "utt3_con9",
         "1699392347",
         "Well we are not selling the Kobe jersies for that price. The most I would be willing to do is that I will give you a refund for the jersey you have once you have sent it back to me, as well as removed the negative review for me.",
         "Seller_9",
         "utt2_con9",
         "utt0_con9",
         "[]"
        ],
        [
         "utt4_con9",
         "1699392376",
         "I agree to a refund upon return receipt of the jersey and removal of the negative review so long as you remove the one left for me as well.",
         "Buyer_9",
         "utt3_con9",
         "utt0_con9",
         "[]"
        ],
        [
         "utt5_con9",
         "1699392437",
         "Ok. I am willing to retract my review as well.",
         "Seller_9",
         "utt4_con9",
         "utt0_con9",
         "[]"
        ],
        [
         "utt6_con9",
         "1699392459",
         "Perfect, I am appreciative we were able to resolve this. Do we have an agreement then?",
         "Buyer_9",
         "utt5_con9",
         "utt0_con9",
         "[]"
        ],
        [
         "utt7_con9",
         "1699392479",
         "I think that we do.",
         "Seller_9",
         "utt6_con9",
         "utt0_con9",
         "[]"
        ],
        [
         "utt8_con9",
         "1699392513",
         "Wonderful. Thank you kindly. I know we need to continue to correspond, so do you know when your Kobe jersey's will arrive?",
         "Buyer_9",
         "utt7_con9",
         "utt0_con9",
         "[]"
        ],
        [
         "utt9_con9",
         "1699392568",
         "I do have a shipment coming in next week. That one costs more but I could get you one if you wish.",
         "Seller_9",
         "utt8_con9",
         "utt0_con9",
         "[]"
        ],
        [
         "utt10_con9",
         "1699392599",
         "That is fine. I'm more than happy to pay more for the jersey that will make him happy. I'll send this jersey back tomorrow with tracking information for you.",
         "Buyer_9",
         "utt9_con9",
         "utt0_con9",
         "[]"
        ],
        [
         "utt11_con9",
         "1699392615",
         "Submitted agreement: Buyer gets full refund, buyer retracted their review, seller retracted their review, buyer didn't apologize, and seller didn't apologize.",
         "Seller_9",
         "utt10_con9",
         "utt0_con9",
         "[]"
        ],
        [
         "utt0_con10",
         "1699392404",
         "I didn't receive the correct item. Please refund my money and I will return the item I received",
         "Buyer_10",
         null,
         "utt0_con10",
         "[]"
        ],
        [
         "utt1_con10",
         "1699392443",
         "I would be happy to refund your money. Please return the item and I will send a refund when I receive it.",
         "Seller_10",
         "utt0_con10",
         "utt0_con10",
         "[]"
        ],
        [
         "utt2_con10",
         "1699392497",
         "Thanks, it's been shipped",
         "Buyer_10",
         "utt1_con10",
         "utt0_con10",
         "[]"
        ],
        [
         "utt3_con10",
         "1699392531",
         "Awesome. Would you be willing to amend your negative review? I would be happy to amend mine as well.",
         "Seller_10",
         "utt2_con10",
         "utt0_con10",
         "[]"
        ],
        [
         "utt4_con10",
         "1699392555",
         "Yes of course, It's been amended",
         "Buyer_10",
         "utt3_con10",
         "utt0_con10",
         "[]"
        ],
        [
         "utt5_con10",
         "1699392580",
         "I will amend mine right away as well.",
         "Seller_10",
         "utt4_con10",
         "utt0_con10",
         "[]"
        ],
        [
         "utt6_con10",
         "1699392618",
         "I apologize for losing my cool before, and appreciate your willingness to negotiate",
         "Buyer_10",
         "utt5_con10",
         "utt0_con10",
         "[]"
        ],
        [
         "utt7_con10",
         "1699392652",
         "I apologize for losing my temper and acting rashly.",
         "Seller_10",
         "utt6_con10",
         "utt0_con10",
         "[]"
        ],
        [
         "utt8_con10",
         "1699392693",
         "Thanks glad we could come to an agreement",
         "Buyer_10",
         "utt7_con10",
         "utt0_con10",
         "[]"
        ],
        [
         "utt9_con10",
         "1699392710",
         "Me too. Thank you again. Take care.",
         "Seller_10",
         "utt8_con10",
         "utt0_con10",
         "[]"
        ],
        [
         "utt10_con10",
         "1699392734",
         "Submitted agreement: Buyer gets full refund, buyer retracted their review, seller retracted their review, buyer did apologize, and seller did apologize.",
         "Buyer_10",
         "utt9_con10",
         "utt0_con10",
         "[]"
        ],
        [
         "utt0_con12",
         "1699393461",
         "Hello! I need you to refund the money for the t-shirt or send me the correct t-shirt that I purchased",
         "Buyer_12",
         null,
         "utt0_con12",
         "[]"
        ]
       ],
       "shape": {
        "columns": 6,
        "rows": 25391
       }
      },
      "text/html": [
       "<div>\n",
       "<style scoped>\n",
       "    .dataframe tbody tr th:only-of-type {\n",
       "        vertical-align: middle;\n",
       "    }\n",
       "\n",
       "    .dataframe tbody tr th {\n",
       "        vertical-align: top;\n",
       "    }\n",
       "\n",
       "    .dataframe thead th {\n",
       "        text-align: right;\n",
       "    }\n",
       "</style>\n",
       "<table border=\"1\" class=\"dataframe\">\n",
       "  <thead>\n",
       "    <tr style=\"text-align: right;\">\n",
       "      <th></th>\n",
       "      <th>timestamp</th>\n",
       "      <th>text</th>\n",
       "      <th>speaker</th>\n",
       "      <th>reply_to</th>\n",
       "      <th>conversation_id</th>\n",
       "      <th>vectors</th>\n",
       "    </tr>\n",
       "    <tr>\n",
       "      <th>id</th>\n",
       "      <th></th>\n",
       "      <th></th>\n",
       "      <th></th>\n",
       "      <th></th>\n",
       "      <th></th>\n",
       "      <th></th>\n",
       "    </tr>\n",
       "  </thead>\n",
       "  <tbody>\n",
       "    <tr>\n",
       "      <th>utt0_con1</th>\n",
       "      <td>1699388451</td>\n",
       "      <td>Hi there! I believe I received the wrong jerse...</td>\n",
       "      <td>Buyer_1</td>\n",
       "      <td>None</td>\n",
       "      <td>utt0_con1</td>\n",
       "      <td>[]</td>\n",
       "    </tr>\n",
       "    <tr>\n",
       "      <th>utt1_con1</th>\n",
       "      <td>1699388553</td>\n",
       "      <td>Good afternoon! I looked over your purchase re...</td>\n",
       "      <td>Seller_1</td>\n",
       "      <td>utt0_con1</td>\n",
       "      <td>utt0_con1</td>\n",
       "      <td>[]</td>\n",
       "    </tr>\n",
       "    <tr>\n",
       "      <th>utt2_con1</th>\n",
       "      <td>1699388719</td>\n",
       "      <td>I appreciate your timely response! I can under...</td>\n",
       "      <td>Buyer_1</td>\n",
       "      <td>utt1_con1</td>\n",
       "      <td>utt0_con1</td>\n",
       "      <td>[]</td>\n",
       "    </tr>\n",
       "    <tr>\n",
       "      <th>utt3_con1</th>\n",
       "      <td>1699388896</td>\n",
       "      <td>Of course! We try to reach all our customers a...</td>\n",
       "      <td>Seller_1</td>\n",
       "      <td>utt2_con1</td>\n",
       "      <td>utt0_con1</td>\n",
       "      <td>[]</td>\n",
       "    </tr>\n",
       "    <tr>\n",
       "      <th>utt4_con1</th>\n",
       "      <td>1699389108</td>\n",
       "      <td>I can return the generic jersey, no problem! I...</td>\n",
       "      <td>Buyer_1</td>\n",
       "      <td>utt3_con1</td>\n",
       "      <td>utt0_con1</td>\n",
       "      <td>[]</td>\n",
       "    </tr>\n",
       "    <tr>\n",
       "      <th>...</th>\n",
       "      <td>...</td>\n",
       "      <td>...</td>\n",
       "      <td>...</td>\n",
       "      <td>...</td>\n",
       "      <td>...</td>\n",
       "      <td>...</td>\n",
       "    </tr>\n",
       "    <tr>\n",
       "      <th>utt5_con2880</th>\n",
       "      <td>1718879412</td>\n",
       "      <td>No problem. It happens sometimes. It will be a...</td>\n",
       "      <td>Seller_2880</td>\n",
       "      <td>utt4_con2880</td>\n",
       "      <td>utt0_con2880</td>\n",
       "      <td>[]</td>\n",
       "    </tr>\n",
       "    <tr>\n",
       "      <th>utt6_con2880</th>\n",
       "      <td>1718879513</td>\n",
       "      <td>Cool no problem, so just to clarify, you will ...</td>\n",
       "      <td>Buyer_2880</td>\n",
       "      <td>utt5_con2880</td>\n",
       "      <td>utt0_con2880</td>\n",
       "      <td>[]</td>\n",
       "    </tr>\n",
       "    <tr>\n",
       "      <th>utt7_con2880</th>\n",
       "      <td>1718879641</td>\n",
       "      <td>I will refund you after you have sent the item...</td>\n",
       "      <td>Seller_2880</td>\n",
       "      <td>utt6_con2880</td>\n",
       "      <td>utt0_con2880</td>\n",
       "      <td>[]</td>\n",
       "    </tr>\n",
       "    <tr>\n",
       "      <th>utt8_con2880</th>\n",
       "      <td>1718879680</td>\n",
       "      <td>Great thanks for this outcome, enjoy the rest ...</td>\n",
       "      <td>Buyer_2880</td>\n",
       "      <td>utt7_con2880</td>\n",
       "      <td>utt0_con2880</td>\n",
       "      <td>[]</td>\n",
       "    </tr>\n",
       "    <tr>\n",
       "      <th>utt9_con2880</th>\n",
       "      <td>1718879753</td>\n",
       "      <td>Submitted agreement: Buyer gets full refund, s...</td>\n",
       "      <td>Seller_2880</td>\n",
       "      <td>utt8_con2880</td>\n",
       "      <td>utt0_con2880</td>\n",
       "      <td>[]</td>\n",
       "    </tr>\n",
       "  </tbody>\n",
       "</table>\n",
       "<p>25391 rows × 6 columns</p>\n",
       "</div>"
      ],
      "text/plain": [
       "               timestamp                                               text  \\\n",
       "id                                                                            \n",
       "utt0_con1     1699388451  Hi there! I believe I received the wrong jerse...   \n",
       "utt1_con1     1699388553  Good afternoon! I looked over your purchase re...   \n",
       "utt2_con1     1699388719  I appreciate your timely response! I can under...   \n",
       "utt3_con1     1699388896  Of course! We try to reach all our customers a...   \n",
       "utt4_con1     1699389108  I can return the generic jersey, no problem! I...   \n",
       "...                  ...                                                ...   \n",
       "utt5_con2880  1718879412  No problem. It happens sometimes. It will be a...   \n",
       "utt6_con2880  1718879513  Cool no problem, so just to clarify, you will ...   \n",
       "utt7_con2880  1718879641  I will refund you after you have sent the item...   \n",
       "utt8_con2880  1718879680  Great thanks for this outcome, enjoy the rest ...   \n",
       "utt9_con2880  1718879753  Submitted agreement: Buyer gets full refund, s...   \n",
       "\n",
       "                  speaker      reply_to conversation_id vectors  \n",
       "id                                                               \n",
       "utt0_con1         Buyer_1          None       utt0_con1      []  \n",
       "utt1_con1        Seller_1     utt0_con1       utt0_con1      []  \n",
       "utt2_con1         Buyer_1     utt1_con1       utt0_con1      []  \n",
       "utt3_con1        Seller_1     utt2_con1       utt0_con1      []  \n",
       "utt4_con1         Buyer_1     utt3_con1       utt0_con1      []  \n",
       "...                   ...           ...             ...     ...  \n",
       "utt5_con2880  Seller_2880  utt4_con2880    utt0_con2880      []  \n",
       "utt6_con2880   Buyer_2880  utt5_con2880    utt0_con2880      []  \n",
       "utt7_con2880  Seller_2880  utt6_con2880    utt0_con2880      []  \n",
       "utt8_con2880   Buyer_2880  utt7_con2880    utt0_con2880      []  \n",
       "utt9_con2880  Seller_2880  utt8_con2880    utt0_con2880      []  \n",
       "\n",
       "[25391 rows x 6 columns]"
      ]
     },
     "metadata": {},
     "output_type": "display_data"
    },
    {
     "data": {
      "application/vnd.microsoft.datawrangler.viewer.v0+json": {
       "columns": [
        {
         "name": "id",
         "rawType": "object",
         "type": "string"
        },
        {
         "name": "timestamp",
         "rawType": "object",
         "type": "unknown"
        },
        {
         "name": "text",
         "rawType": "object",
         "type": "string"
        },
        {
         "name": "speaker",
         "rawType": "object",
         "type": "string"
        },
        {
         "name": "reply_to",
         "rawType": "object",
         "type": "unknown"
        },
        {
         "name": "conversation_id",
         "rawType": "object",
         "type": "string"
        },
        {
         "name": "vectors",
         "rawType": "object",
         "type": "unknown"
        }
       ],
       "conversionMethod": "pd.DataFrame",
       "ref": "3e39dc2d-9920-4538-a385-508dc370f89a",
       "rows": [
        [
         "utt0_con1",
         "1699388451",
         "Hi there! I believe I received the wrong jersey from you! I was wondering if I could get a refund on my purchase?",
         "Buyer_1",
         null,
         "utt0_con1",
         "[]"
        ],
        [
         "utt1_con1",
         "1699388553",
         "Good afternoon! I looked over your purchase record, and I'm afraid it looks like you bought the right item--it's advertised as a generic jersey, not one for a specific player. Given that, I'm afraid I can't issue you a refund. I'm sorry for the inconvenience!",
         "Seller_1",
         "utt0_con1",
         "utt0_con1",
         "[]"
        ],
        [
         "utt2_con1",
         "1699388719",
         "I appreciate your timely response! I can understand how there is confusion. There were two options on the site. One for the generic jersey and a couple of specific jerseys. I had chosen the very specific one for my nephew and I think maybe I was shipped the incorrect order unfortunately! Is there anyway we could do a partial refund for me today?",
         "Buyer_1",
         "utt1_con1",
         "utt0_con1",
         "[]"
        ],
        [
         "utt3_con1",
         "1699388896",
         "Of course! We try to reach all our customers as quickly as we can. I'd be more than happy to get the correct item to you--how about we spit the difference? If you can return the generic jersey, I'll get the correct one shipped to you. While were talking, I was hoping we could talk about the negative review you left on my business--as you can imagine, that can be very damaging. Could I convince you to retract that review?",
         "Seller_1",
         "utt2_con1",
         "utt0_con1",
         "[]"
        ],
        [
         "utt4_con1",
         "1699389108",
         "I can return the generic jersey, no problem! I wrote a bad review on your site because you wrote a bad review of me. I apologize. I will retract my review of me if can you remove your negative review on mine and if you apologize. How does that sound?",
         "Buyer_1",
         "utt3_con1",
         "utt0_con1",
         "[]"
        ],
        [
         "utt5_con1",
         "1699389202",
         "You know, that's a good idea. You seem really reasonable--how about we retract both negative reviews, each write an apology giving someone who stumbles by the review the full context, and we get the correct jerseys to each other?",
         "Seller_1",
         "utt4_con1",
         "utt0_con1",
         "[]"
        ],
        [
         "utt6_con1",
         "1699389315",
         "This seems very reasonable to me. I think at the end of the day we both just want a positive out come out of this so I am very happy with this result and I really appreciate you working with me on this.",
         "Buyer_1",
         "utt5_con1",
         "utt0_con1",
         "[]"
        ],
        [
         "utt7_con1",
         "1699389355",
         "Agreed! I'm grateful for your time. Hope you have a great rest of your day!",
         "Seller_1",
         "utt6_con1",
         "utt0_con1",
         "[]"
        ],
        [
         "utt8_con1",
         "1699389381",
         "I believe theres a few things left to say!!",
         "Buyer_1",
         "utt7_con1",
         "utt0_con1",
         "[]"
        ],
        [
         "utt9_con1",
         "1699389423",
         "Oh? I beg your pardon. What can I do for you?",
         "Seller_1",
         "utt8_con1",
         "utt0_con1",
         "[]"
        ],
        [
         "utt10_con1",
         "1699389451",
         "I was just going to say have a great rest of your day!",
         "Buyer_1",
         "utt9_con1",
         "utt0_con1",
         "[]"
        ],
        [
         "utt11_con1",
         "1699389479",
         "Thank you, you too!",
         "Seller_1",
         "utt10_con1",
         "utt0_con1",
         "[]"
        ],
        [
         "utt0_con6",
         "1699389969",
         "Hello. I need you to make this right. This is for my nephew thats really sick",
         "Buyer_6",
         null,
         "utt0_con6",
         "[]"
        ],
        [
         "utt1_con6",
         "1699389993",
         "can you explain the problem with the product?",
         "Seller_6",
         "utt0_con6",
         "utt0_con6",
         "[]"
        ],
        [
         "utt2_con6",
         "1699390064",
         "Sorry. Guess i should have started with that. Just upset. Im gonna start over. Hope you are well. I have an issue that needs addressed. You sent me the wrong jersey. It supposed to be kobe bryant.",
         "Buyer_6",
         "utt1_con6",
         "utt0_con6",
         "[]"
        ],
        [
         "utt3_con6",
         "1699390107",
         "the website clearly states that this is a championship jersey, nowhere does it say Kobe Bryant on it",
         "Seller_6",
         "utt2_con6",
         "utt0_con6",
         "[]"
        ],
        [
         "utt4_con6",
         "1699390191",
         "I have burnt by online purchase before. Therfore i take screenshots of items i purchase. I would be happy to send it if you like. It clearly shows the listing for kobe bryant and its my nephews favorite player.",
         "Buyer_6",
         "utt3_con6",
         "utt0_con6",
         "[]"
        ],
        [
         "utt5_con6",
         "1699390248",
         "I can see your order here, and it was a purchase of a championship jersey. If you would like to return the jersey we can offer a refund upon receipt",
         "Seller_6",
         "utt4_con6",
         "utt0_con6",
         "[]"
        ],
        [
         "utt6_con6",
         "1699390322",
         "I will return it but i think you should",
         "Buyer_6",
         "utt5_con6",
         "utt0_con6",
         "[]"
        ],
        [
         "utt7_con6",
         "1699390352",
         "we will be happy to refund your purchase upon receipt of the merchandise]",
         "Seller_6",
         "utt6_con6",
         "utt0_con6",
         "[]"
        ],
        [
         "utt8_con6",
         "1699390414",
         "Ok. Im going to need a post paid label. Im sure this is a misunderstanding but an apology would be nice. Someone on your staff obviosuly made a mistake. I screenshotted it",
         "Buyer_6",
         "utt7_con6",
         "utt0_con6",
         "[]"
        ],
        [
         "utt9_con6",
         "1699390488",
         "we will provide you with a return label, and refund your purchase price, but again, the item you purchased was a championship jersey, not a kobe bryant jersey. Is there anything else I can assist you with today?",
         "Seller_6",
         "utt8_con6",
         "utt0_con6",
         "[]"
        ],
        [
         "utt10_con6",
         "1699390531",
         "I have proof and your not willing to look at it.",
         "Buyer_6",
         "utt9_con6",
         "utt0_con6",
         "[]"
        ],
        [
         "utt11_con6",
         "1699390594",
         "I am looking at your order right now, and am willing to issue a refund, will this satisfactorily conclude our business today?",
         "Seller_6",
         "utt10_con6",
         "utt0_con6",
         "[]"
        ],
        [
         "utt0_con9",
         "1699392080",
         "I would prefer a refund as the item was described as a Kobe jersey. It is a gift for my nephew who is ill in the hospital and I'm not willing to disappoint him.",
         "Buyer_9",
         null,
         "utt0_con9",
         "[]"
        ],
        [
         "utt1_con9",
         "1699392149",
         "I am very sorry to hear that. I understand that this may be frustrating. The ad that I have does not say that it is a Kobe jersey. A store policy is that all sales are final.",
         "Seller_9",
         "utt0_con9",
         "utt0_con9",
         "[]"
        ],
        [
         "utt2_con9",
         "1699392234",
         "I understand that the ad doesn't say that now, but it did when I purchased the jersey. I would be more than happy to exchange it for the correct jersey and amend my review if that's done.",
         "Buyer_9",
         "utt1_con9",
         "utt0_con9",
         "[]"
        ],
        [
         "utt3_con9",
         "1699392347",
         "Well we are not selling the Kobe jersies for that price. The most I would be willing to do is that I will give you a refund for the jersey you have once you have sent it back to me, as well as removed the negative review for me.",
         "Seller_9",
         "utt2_con9",
         "utt0_con9",
         "[]"
        ],
        [
         "utt4_con9",
         "1699392376",
         "I agree to a refund upon return receipt of the jersey and removal of the negative review so long as you remove the one left for me as well.",
         "Buyer_9",
         "utt3_con9",
         "utt0_con9",
         "[]"
        ],
        [
         "utt5_con9",
         "1699392437",
         "Ok. I am willing to retract my review as well.",
         "Seller_9",
         "utt4_con9",
         "utt0_con9",
         "[]"
        ],
        [
         "utt6_con9",
         "1699392459",
         "Perfect, I am appreciative we were able to resolve this. Do we have an agreement then?",
         "Buyer_9",
         "utt5_con9",
         "utt0_con9",
         "[]"
        ],
        [
         "utt7_con9",
         "1699392479",
         "I think that we do.",
         "Seller_9",
         "utt6_con9",
         "utt0_con9",
         "[]"
        ],
        [
         "utt8_con9",
         "1699392513",
         "Wonderful. Thank you kindly. I know we need to continue to correspond, so do you know when your Kobe jersey's will arrive?",
         "Buyer_9",
         "utt7_con9",
         "utt0_con9",
         "[]"
        ],
        [
         "utt9_con9",
         "1699392568",
         "I do have a shipment coming in next week. That one costs more but I could get you one if you wish.",
         "Seller_9",
         "utt8_con9",
         "utt0_con9",
         "[]"
        ],
        [
         "utt10_con9",
         "1699392599",
         "That is fine. I'm more than happy to pay more for the jersey that will make him happy. I'll send this jersey back tomorrow with tracking information for you.",
         "Buyer_9",
         "utt9_con9",
         "utt0_con9",
         "[]"
        ],
        [
         "utt0_con10",
         "1699392404",
         "I didn't receive the correct item. Please refund my money and I will return the item I received",
         "Buyer_10",
         null,
         "utt0_con10",
         "[]"
        ],
        [
         "utt1_con10",
         "1699392443",
         "I would be happy to refund your money. Please return the item and I will send a refund when I receive it.",
         "Seller_10",
         "utt0_con10",
         "utt0_con10",
         "[]"
        ],
        [
         "utt2_con10",
         "1699392497",
         "Thanks, it's been shipped",
         "Buyer_10",
         "utt1_con10",
         "utt0_con10",
         "[]"
        ],
        [
         "utt3_con10",
         "1699392531",
         "Awesome. Would you be willing to amend your negative review? I would be happy to amend mine as well.",
         "Seller_10",
         "utt2_con10",
         "utt0_con10",
         "[]"
        ],
        [
         "utt4_con10",
         "1699392555",
         "Yes of course, It's been amended",
         "Buyer_10",
         "utt3_con10",
         "utt0_con10",
         "[]"
        ],
        [
         "utt5_con10",
         "1699392580",
         "I will amend mine right away as well.",
         "Seller_10",
         "utt4_con10",
         "utt0_con10",
         "[]"
        ],
        [
         "utt6_con10",
         "1699392618",
         "I apologize for losing my cool before, and appreciate your willingness to negotiate",
         "Buyer_10",
         "utt5_con10",
         "utt0_con10",
         "[]"
        ],
        [
         "utt7_con10",
         "1699392652",
         "I apologize for losing my temper and acting rashly.",
         "Seller_10",
         "utt6_con10",
         "utt0_con10",
         "[]"
        ],
        [
         "utt8_con10",
         "1699392693",
         "Thanks glad we could come to an agreement",
         "Buyer_10",
         "utt7_con10",
         "utt0_con10",
         "[]"
        ],
        [
         "utt9_con10",
         "1699392710",
         "Me too. Thank you again. Take care.",
         "Seller_10",
         "utt8_con10",
         "utt0_con10",
         "[]"
        ],
        [
         "utt0_con12",
         "1699393461",
         "Hello! I need you to refund the money for the t-shirt or send me the correct t-shirt that I purchased",
         "Buyer_12",
         null,
         "utt0_con12",
         "[]"
        ],
        [
         "utt1_con12",
         "1699393558",
         "I sent the correct shirt that you purchased. What did you not like about the shirt?",
         "Seller_12",
         "utt0_con12",
         "utt0_con12",
         "[]"
        ],
        [
         "utt2_con12",
         "1699393618",
         "I specifically bought the Kobe one, it was not the one that arrived",
         "Buyer_12",
         "utt1_con12",
         "utt0_con12",
         "[]"
        ],
        [
         "utt3_con12",
         "1699393806",
         "The one that you purchased clearly stated in the advertisement that it was not for a specific player. However, I can offer a partial refund of 50% if you will take down you negative comment.",
         "Seller_12",
         "utt2_con12",
         "utt0_con12",
         "[]"
        ],
        [
         "utt4_con12",
         "1699393906",
         "That's not true, I bought it specifically because it was Kobe's, my nephew is his fan and it's for him. I am willing to withdraw the bad review for a full refund.",
         "Buyer_12",
         "utt3_con12",
         "utt0_con12",
         "[]"
        ]
       ],
       "shape": {
        "columns": 6,
        "rows": 23117
       }
      },
      "text/html": [
       "<div>\n",
       "<style scoped>\n",
       "    .dataframe tbody tr th:only-of-type {\n",
       "        vertical-align: middle;\n",
       "    }\n",
       "\n",
       "    .dataframe tbody tr th {\n",
       "        vertical-align: top;\n",
       "    }\n",
       "\n",
       "    .dataframe thead th {\n",
       "        text-align: right;\n",
       "    }\n",
       "</style>\n",
       "<table border=\"1\" class=\"dataframe\">\n",
       "  <thead>\n",
       "    <tr style=\"text-align: right;\">\n",
       "      <th></th>\n",
       "      <th>timestamp</th>\n",
       "      <th>text</th>\n",
       "      <th>speaker</th>\n",
       "      <th>reply_to</th>\n",
       "      <th>conversation_id</th>\n",
       "      <th>vectors</th>\n",
       "    </tr>\n",
       "    <tr>\n",
       "      <th>id</th>\n",
       "      <th></th>\n",
       "      <th></th>\n",
       "      <th></th>\n",
       "      <th></th>\n",
       "      <th></th>\n",
       "      <th></th>\n",
       "    </tr>\n",
       "  </thead>\n",
       "  <tbody>\n",
       "    <tr>\n",
       "      <th>utt0_con1</th>\n",
       "      <td>1699388451</td>\n",
       "      <td>Hi there! I believe I received the wrong jerse...</td>\n",
       "      <td>Buyer_1</td>\n",
       "      <td>None</td>\n",
       "      <td>utt0_con1</td>\n",
       "      <td>[]</td>\n",
       "    </tr>\n",
       "    <tr>\n",
       "      <th>utt1_con1</th>\n",
       "      <td>1699388553</td>\n",
       "      <td>Good afternoon! I looked over your purchase re...</td>\n",
       "      <td>Seller_1</td>\n",
       "      <td>utt0_con1</td>\n",
       "      <td>utt0_con1</td>\n",
       "      <td>[]</td>\n",
       "    </tr>\n",
       "    <tr>\n",
       "      <th>utt2_con1</th>\n",
       "      <td>1699388719</td>\n",
       "      <td>I appreciate your timely response! I can under...</td>\n",
       "      <td>Buyer_1</td>\n",
       "      <td>utt1_con1</td>\n",
       "      <td>utt0_con1</td>\n",
       "      <td>[]</td>\n",
       "    </tr>\n",
       "    <tr>\n",
       "      <th>utt3_con1</th>\n",
       "      <td>1699388896</td>\n",
       "      <td>Of course! We try to reach all our customers a...</td>\n",
       "      <td>Seller_1</td>\n",
       "      <td>utt2_con1</td>\n",
       "      <td>utt0_con1</td>\n",
       "      <td>[]</td>\n",
       "    </tr>\n",
       "    <tr>\n",
       "      <th>utt4_con1</th>\n",
       "      <td>1699389108</td>\n",
       "      <td>I can return the generic jersey, no problem! I...</td>\n",
       "      <td>Buyer_1</td>\n",
       "      <td>utt3_con1</td>\n",
       "      <td>utt0_con1</td>\n",
       "      <td>[]</td>\n",
       "    </tr>\n",
       "    <tr>\n",
       "      <th>...</th>\n",
       "      <td>...</td>\n",
       "      <td>...</td>\n",
       "      <td>...</td>\n",
       "      <td>...</td>\n",
       "      <td>...</td>\n",
       "      <td>...</td>\n",
       "    </tr>\n",
       "    <tr>\n",
       "      <th>utt4_con2880</th>\n",
       "      <td>1718879295</td>\n",
       "      <td>This is great thank you, I apologise too if I ...</td>\n",
       "      <td>Buyer_2880</td>\n",
       "      <td>utt3_con2880</td>\n",
       "      <td>utt0_con2880</td>\n",
       "      <td>[]</td>\n",
       "    </tr>\n",
       "    <tr>\n",
       "      <th>utt5_con2880</th>\n",
       "      <td>1718879412</td>\n",
       "      <td>No problem. It happens sometimes. It will be a...</td>\n",
       "      <td>Seller_2880</td>\n",
       "      <td>utt4_con2880</td>\n",
       "      <td>utt0_con2880</td>\n",
       "      <td>[]</td>\n",
       "    </tr>\n",
       "    <tr>\n",
       "      <th>utt6_con2880</th>\n",
       "      <td>1718879513</td>\n",
       "      <td>Cool no problem, so just to clarify, you will ...</td>\n",
       "      <td>Buyer_2880</td>\n",
       "      <td>utt5_con2880</td>\n",
       "      <td>utt0_con2880</td>\n",
       "      <td>[]</td>\n",
       "    </tr>\n",
       "    <tr>\n",
       "      <th>utt7_con2880</th>\n",
       "      <td>1718879641</td>\n",
       "      <td>I will refund you after you have sent the item...</td>\n",
       "      <td>Seller_2880</td>\n",
       "      <td>utt6_con2880</td>\n",
       "      <td>utt0_con2880</td>\n",
       "      <td>[]</td>\n",
       "    </tr>\n",
       "    <tr>\n",
       "      <th>utt8_con2880</th>\n",
       "      <td>1718879680</td>\n",
       "      <td>Great thanks for this outcome, enjoy the rest ...</td>\n",
       "      <td>Buyer_2880</td>\n",
       "      <td>utt7_con2880</td>\n",
       "      <td>utt0_con2880</td>\n",
       "      <td>[]</td>\n",
       "    </tr>\n",
       "  </tbody>\n",
       "</table>\n",
       "<p>23117 rows × 6 columns</p>\n",
       "</div>"
      ],
      "text/plain": [
       "               timestamp                                               text  \\\n",
       "id                                                                            \n",
       "utt0_con1     1699388451  Hi there! I believe I received the wrong jerse...   \n",
       "utt1_con1     1699388553  Good afternoon! I looked over your purchase re...   \n",
       "utt2_con1     1699388719  I appreciate your timely response! I can under...   \n",
       "utt3_con1     1699388896  Of course! We try to reach all our customers a...   \n",
       "utt4_con1     1699389108  I can return the generic jersey, no problem! I...   \n",
       "...                  ...                                                ...   \n",
       "utt4_con2880  1718879295  This is great thank you, I apologise too if I ...   \n",
       "utt5_con2880  1718879412  No problem. It happens sometimes. It will be a...   \n",
       "utt6_con2880  1718879513  Cool no problem, so just to clarify, you will ...   \n",
       "utt7_con2880  1718879641  I will refund you after you have sent the item...   \n",
       "utt8_con2880  1718879680  Great thanks for this outcome, enjoy the rest ...   \n",
       "\n",
       "                  speaker      reply_to conversation_id vectors  \n",
       "id                                                               \n",
       "utt0_con1         Buyer_1          None       utt0_con1      []  \n",
       "utt1_con1        Seller_1     utt0_con1       utt0_con1      []  \n",
       "utt2_con1         Buyer_1     utt1_con1       utt0_con1      []  \n",
       "utt3_con1        Seller_1     utt2_con1       utt0_con1      []  \n",
       "utt4_con1         Buyer_1     utt3_con1       utt0_con1      []  \n",
       "...                   ...           ...             ...     ...  \n",
       "utt4_con2880   Buyer_2880  utt3_con2880    utt0_con2880      []  \n",
       "utt5_con2880  Seller_2880  utt4_con2880    utt0_con2880      []  \n",
       "utt6_con2880   Buyer_2880  utt5_con2880    utt0_con2880      []  \n",
       "utt7_con2880  Seller_2880  utt6_con2880    utt0_con2880      []  \n",
       "utt8_con2880   Buyer_2880  utt7_con2880    utt0_con2880      []  \n",
       "\n",
       "[23117 rows x 6 columns]"
      ]
     },
     "metadata": {},
     "output_type": "display_data"
    }
   ],
   "source": [
    "filepath = \"/Users/mishkin/Desktop/Research/Convo_Kit/ConvoKit_Disputes/data/preprocessed_dyads.csv\"\n",
    "filepath_no_last = '/Users/mishkin/Desktop/Research/Convo_Kit/ConvoKit_Disputes/data/convos_exclude_last_utt.csv'\n",
    "filepath_no_submit_last = '/Users/mishkin/Desktop/Research/Convo_Kit/ConvoKit_Disputes/data/convos_exclude_submit_and_last.csv'\n",
    "\n",
    "results_filepath_no_samp = Path(\"/Users/mishkin/Desktop/Research/Convo_Kit/ConvoKit_Disputes/data/fine_tuning_results/nosampling/\")\n",
    "results_filepath_no_samp_weighted = Path(\"/Users/mishkin/Desktop/Research/Convo_Kit/ConvoKit_Disputes/data/fine_tuning_results/nosampling_weighted/\")\n",
    "results_filepath_downsampled = Path(\"/Users/mishkin/Desktop/Research/Convo_Kit/ConvoKit_Disputes/data/fine_tuning_results/downsampled/\")\n",
    "\n",
    "final_data = DataPreprocesser(filepath)\n",
    "final_data_no_last = DataPreprocesser(filepath_no_last)\n",
    "final_data_no_submit_last = DataPreprocesser(filepath_no_submit_last)\n",
    "\n",
    "device = torch.device(\"cuda\" if torch.cuda.is_available() else \"cpu\")\n",
    "\n",
    "def makeCleanCorpora():\n",
    "    final_data = DataPreprocesser(filepath)\n",
    "    final_data_no_last = DataPreprocesser(filepath_no_last)\n",
    "    final_data_no_submit_last = DataPreprocesser(filepath_no_submit_last)\n",
    "\n",
    "    corpus_kodis_ground = corp.corpusBuilder(final_data)\n",
    "    corpus_kodis_no_last = corp.corpusBuilder(final_data_no_last)\n",
    "    corpus_kodis_no_submit_last = corp.corpusBuilder(final_data_no_submit_last)\n",
    "\n",
    "    return corpus_kodis_ground, corpus_kodis_no_last, corpus_kodis_no_submit_last\n",
    "corpus_kodis_ground, corpus_kodis_no_last, corpus_kodis_no_submit_last = makeCleanCorpora()\n",
    "\n",
    "display(corpus_kodis_ground.get_utterances_dataframe())\n",
    "display(corpus_kodis_no_last.get_utterances_dataframe())\n",
    "display(corpus_kodis_no_submit_last.get_utterances_dataframe())"
   ]
  },
  {
   "cell_type": "markdown",
   "id": "a03c6714",
   "metadata": {},
   "source": [
    "### Adding Conversation Labels"
   ]
  },
  {
   "cell_type": "code",
   "execution_count": 63,
   "id": "d801889b",
   "metadata": {},
   "outputs": [],
   "source": [
    "def add_convo_labels(corpus, final_data):\n",
    "    for idx, row in final_data.getDataframe().iterrows():\n",
    "        convo_id = f\"utt0_con{idx}\"  # generate conversation_id format from index\n",
    "        label = row[\"dispute_outcome\"]  # update if your label column is named differently\n",
    "        if convo_id in corpus.conversations:\n",
    "            corpus.get_conversation(convo_id).meta[\"label\"] = label"
   ]
  },
  {
   "cell_type": "code",
   "execution_count": 64,
   "id": "bd1c4d3e",
   "metadata": {},
   "outputs": [],
   "source": [
    "add_convo_labels(corpus_kodis_ground, final_data)\n",
    "add_convo_labels(corpus_kodis_no_last, final_data_no_last)\n",
    "add_convo_labels(corpus_kodis_no_submit_last, final_data_no_submit_last)\n"
   ]
  },
  {
   "cell_type": "markdown",
   "id": "9a0c1072",
   "metadata": {},
   "source": [
    "### Tagging final utterances and Submit agreement"
   ]
  },
  {
   "cell_type": "code",
   "execution_count": 9,
   "id": "53a21f56",
   "metadata": {},
   "outputs": [],
   "source": [
    "from convokit import Corpus\n",
    "\n",
    "# load your corpus however you normally do:\n",
    "# e.g. corpus = Corpus(\"path/to/my/corpus\")\n",
    "\n",
    "def exclude_utt(corpus, submit, last):\n",
    "    for conv in corpus.iter_conversations():  \n",
    "        # grab utterances in chronological order\n",
    "        uts = conv.get_chronological_utterance_list()\n",
    "        last_utt_id = uts[-1].id if uts else None\n",
    "\n",
    "        # loop through all utterances in the conversation\n",
    "        for utt in conv.iter_utterances():\n",
    "            # set exclude=True if it's the last utt or contains \"Submitted agreement\"\n",
    "            if utt.id == last_utt_id:\n",
    "                utt.add_meta(\"exclude\", last)\n",
    "            if \"Submitted agreement\" in utt.text:\n",
    "                utt.add_meta(\"exclude\", submit)\n",
    "            # otherwise explicitly set exclude=False\n",
    "            else:\n",
    "                utt.add_meta(\"exclude\", False)"
   ]
  },
  {
   "cell_type": "markdown",
   "metadata": {},
   "source": [
    "### Weighted Model Class"
   ]
  },
  {
   "cell_type": "code",
   "execution_count": null,
   "metadata": {},
   "outputs": [
    {
     "ename": "ModuleNotFoundError",
     "evalue": "No module named 'convokit.forecaster.CRAFT.CRAFTModel'",
     "output_type": "error",
     "traceback": [
      "\u001b[31m---------------------------------------------------------------------------\u001b[39m",
      "\u001b[31mModuleNotFoundError\u001b[39m                       Traceback (most recent call last)",
      "\u001b[36mCell\u001b[39m\u001b[36m \u001b[39m\u001b[32mIn[41]\u001b[39m\u001b[32m, line 1\u001b[39m\n\u001b[32m----> \u001b[39m\u001b[32m1\u001b[39m \u001b[38;5;28;01mfrom\u001b[39;00m\u001b[38;5;250m \u001b[39m\u001b[34;01mconvokit\u001b[39;00m\u001b[34;01m.\u001b[39;00m\u001b[34;01mforecaster\u001b[39;00m\u001b[34;01m.\u001b[39;00m\u001b[34;01mCRAFT\u001b[39;00m\u001b[34;01m.\u001b[39;00m\u001b[34;01mCRAFTModel\u001b[39;00m\u001b[38;5;250m \u001b[39m\u001b[38;5;28;01mimport\u001b[39;00m CRAFTModel\n\u001b[32m      2\u001b[39m \u001b[38;5;28;01mimport\u001b[39;00m\u001b[38;5;250m \u001b[39m\u001b[34;01mtorch\u001b[39;00m\n\u001b[32m      4\u001b[39m \u001b[38;5;28;01mclass\u001b[39;00m\u001b[38;5;250m \u001b[39m\u001b[34;01mCostSensitiveCRAFTModel\u001b[39;00m(CRAFTModel):\n",
      "\u001b[31mModuleNotFoundError\u001b[39m: No module named 'convokit.forecaster.CRAFT.CRAFTModel'"
     ]
    }
   ],
   "source": [
    "\n",
    "class CostSensitiveCRAFTModel(CRAFTModel):\n",
    "\n",
    "    def fit(self, contexts, val_contexts=None):\n",
    "\n",
    "        '''Count nuber of positive and negative labels in the training set of context tuples fed into CRAFTModel.'''\n",
    "        train_pairs = list(self._context_to_craft_data(contexts))\n",
    "        labels      = [label for (_ctx, _utt, label, _id) in train_pairs]\n",
    "        num_pos     = sum(labels)\n",
    "        num_neg     = len(labels) - num_pos\n",
    "\n",
    "        # 1b) compute pos_weight = (#neg)/(#pos)\n",
    "        self._pos_weight = torch.tensor(num_neg/num_pos, device=self._device)\n",
    "\n",
    "        # 1c) hand back a *fresh* iterator into the superclass\n",
    "        def replay_iter():\n",
    "            for pair in train_pairs:\n",
    "                yield pair\n",
    "\n",
    "                \n",
    "        # AND rebuild the val iterator the normal way\n",
    "        super_contexts = replay_iter()\n",
    "        super_val_ctxs = None\n",
    "        if val_contexts is not None:\n",
    "            super_val_ctxs = self._context_to_craft_data(val_contexts)\n",
    "        return super().fit(super_contexts, super_val_ctxs)\n",
    "\n",
    "    def _init_craft(self):\n",
    "        # build the usual encoder/context/classifier\n",
    "        embedding, encoder, context_encoder, attack_clf = super()._init_craft()\n",
    "        '''adding pre-computing weight for penalizing false negatives more'''\n",
    "        attack_clf.pos_weight = self._pos_weight\n",
    "        return embedding, encoder, context_encoder, attack_clf\n",
    "    \n"
   ]
  },
  {
   "cell_type": "markdown",
   "id": "9ab00d00",
   "metadata": {},
   "source": [
    "### Generating All Models"
   ]
  },
  {
   "cell_type": "code",
   "execution_count": 38,
   "id": "42d38892",
   "metadata": {},
   "outputs": [
    {
     "name": "stdout",
     "output_type": "stream",
     "text": [
      "Downloading craft-wiki-pretrained to /Users/mishkin/Desktop/Research/Convo_Kit/ConvoKit_Disputes/src/~/.convokit/saved-models/craft-wiki-pretrained\n",
      "Downloading craft-wiki-pretrained/craft_pretrained.tar from https://zissou.infosci.cornell.edu/convokit/models/craft_wikiconv/craft_pretrained.tar (974.6MB)... Done\n",
      "Downloading craft-wiki-pretrained/index2word.json from https://zissou.infosci.cornell.edu/convokit/models/craft_wikiconv/index2word.json (998.5KB)... Done\n",
      "Downloading craft-wiki-pretrained/word2index.json from https://zissou.infosci.cornell.edu/convokit/models/craft_wikiconv/word2index.json (898.4KB)... Done\n"
     ]
    }
   ],
   "source": [
    "\n",
    "DEVICE = \"cuda\"\n",
    "cfg = ConvoKitConfig()\n",
    "download_dir = cfg.model_directory\n",
    "base_path = download(\"craft-wiki-pretrained\", data_dir=download_dir)\n"
   ]
  },
  {
   "cell_type": "code",
   "execution_count": null,
   "metadata": {},
   "outputs": [],
   "source": [
    "model_ground_default = CRAFTModel(\n",
    "    model_path=base_path,\n",
    "    device=DEVICE\n",
    ")\n",
    "\n",
    "model_no_last_default = CRAFTModel(\n",
    "    model_path=base_path,\n",
    "    device=DEVICE\n",
    ")\n",
    "\n",
    "model_no_submit_last_default = CRAFTModel(\n",
    "    model_path=base_path,\n",
    "    device=DEVICE\n",
    ")\n",
    "model_ground_weighted = CostSensitiveCRAFTModel(\n",
    "    model_path=base_path,\n",
    "    device=DEVICE\n",
    ")\n",
    "model_no_last_weighted = CostSensitiveCRAFTModel(\n",
    "    model_path=base_path,\n",
    "    device=DEVICE\n",
    ")\n",
    "model_no_submit_last_weighted = CostSensitiveCRAFTModel(\n",
    "    model_path=base_path,\n",
    "    device=DEVICE\n",
    ")\n",
    "\n",
    "model_ground_downsampled = CRAFTModel(\n",
    "    model_path=base_path,\n",
    "    device=DEVICE,\n",
    "    downsampled=True\n",
    ")\n",
    "model_no_last_downsampled = CRAFTModel(\n",
    "    model_path=base_path,\n",
    "    device=DEVICE,\n",
    "    downsampled=True\n",
    ")\n",
    "model_no_submit_last_downsampled = CRAFTModel(\n",
    "    model_path=base_path,\n",
    "    device=DEVICE,\n",
    "    downsampled=True\n",
    ")"
   ]
  },
  {
   "cell_type": "markdown",
   "id": "24635405",
   "metadata": {},
   "source": [
    "# Splitting KODIS: Training/Test Set"
   ]
  },
  {
   "cell_type": "code",
   "execution_count": 13,
   "id": "7fa3c9dd",
   "metadata": {},
   "outputs": [],
   "source": [
    "import random\n",
    "\n",
    "def corpus_train_test_split(corpus):\n",
    "\n",
    "    # Set random seed for reproducibility\n",
    "    random.seed(42)\n",
    "\n",
    "    # 1. Get all conversation IDs\n",
    "    all_convo_ids = list(corpus.get_conversation_ids())\n",
    "\n",
    "    # 2. Shuffle the conversation IDs\n",
    "    random.shuffle(all_convo_ids)\n",
    "\n",
    "    # 3. Define proportions\n",
    "    n_total = len(all_convo_ids)\n",
    "    n_train = int(0.7 * n_total)\n",
    "    n_val = int(0.1 * n_total)\n",
    "    n_test = n_total - n_train - n_val  # ensures 100% total\n",
    "\n",
    "    # 4. Split into train/val/test\n",
    "    train_convos = all_convo_ids[:n_train]\n",
    "    val_convos = all_convo_ids[n_train:n_train+n_val]\n",
    "    test_convos = all_convo_ids[n_train+n_val:]\n",
    "\n",
    "\n",
    "    # 5. Mark conversations with a split tag\n",
    "    for convo_id in train_convos:\n",
    "        corpus.get_conversation(convo_id).meta[\"split\"] = \"train\"\n",
    "    for convo_id in val_convos:\n",
    "        corpus.get_conversation(convo_id).meta[\"split\"] = \"val\"\n",
    "    for convo_id in test_convos:\n",
    "        corpus.get_conversation(convo_id).meta[\"split\"] = \"test\"\n"
   ]
  },
  {
   "cell_type": "code",
   "execution_count": 14,
   "id": "4c920e47",
   "metadata": {},
   "outputs": [],
   "source": [
    "corpus_train_test_split(corpus_kodis_ground)\n",
    "corpus_train_test_split(corpus_kodis_no_last)\n",
    "corpus_train_test_split(corpus_kodis_no_submit_last)"
   ]
  },
  {
   "cell_type": "markdown",
   "id": "b1797ccf",
   "metadata": {},
   "source": [
    "### Testing Train/Test split"
   ]
  },
  {
   "cell_type": "code",
   "execution_count": 16,
   "id": "4c42702f",
   "metadata": {},
   "outputs": [
    {
     "name": "stdout",
     "output_type": "stream",
     "text": [
      "--- Random Train Conversation ---\n",
      "[Utterance({'obj_type': 'utterance', 'vectors': [], 'speaker_': Speaker({'obj_type': 'speaker', 'vectors': [], 'owner': None, 'id': 'Buyer_1030', 'temp_backend': {}, 'meta': {}}), 'owner': <convokit.model.corpus.Corpus object at 0x154b0ba10>, 'id': 'utt0_con1030', 'meta': ConvoKitMeta({})}), Utterance({'obj_type': 'utterance', 'vectors': [], 'speaker_': Speaker({'obj_type': 'speaker', 'vectors': [], 'owner': None, 'id': 'Seller_1030', 'temp_backend': {}, 'meta': {}}), 'owner': <convokit.model.corpus.Corpus object at 0x154b0ba10>, 'id': 'utt1_con1030', 'meta': ConvoKitMeta({})}), Utterance({'obj_type': 'utterance', 'vectors': [], 'speaker_': Speaker({'obj_type': 'speaker', 'vectors': [], 'owner': None, 'id': 'Buyer_1030', 'temp_backend': {}, 'meta': {}}), 'owner': <convokit.model.corpus.Corpus object at 0x154b0ba10>, 'id': 'utt2_con1030', 'meta': ConvoKitMeta({})}), Utterance({'obj_type': 'utterance', 'vectors': [], 'speaker_': Speaker({'obj_type': 'speaker', 'vectors': [], 'owner': None, 'id': 'Seller_1030', 'temp_backend': {}, 'meta': {}}), 'owner': <convokit.model.corpus.Corpus object at 0x154b0ba10>, 'id': 'utt3_con1030', 'meta': ConvoKitMeta({})}), Utterance({'obj_type': 'utterance', 'vectors': [], 'speaker_': Speaker({'obj_type': 'speaker', 'vectors': [], 'owner': None, 'id': 'Buyer_1030', 'temp_backend': {}, 'meta': {}}), 'owner': <convokit.model.corpus.Corpus object at 0x154b0ba10>, 'id': 'utt4_con1030', 'meta': ConvoKitMeta({})}), Utterance({'obj_type': 'utterance', 'vectors': [], 'speaker_': Speaker({'obj_type': 'speaker', 'vectors': [], 'owner': None, 'id': 'Seller_1030', 'temp_backend': {}, 'meta': {}}), 'owner': <convokit.model.corpus.Corpus object at 0x154b0ba10>, 'id': 'utt5_con1030', 'meta': ConvoKitMeta({})}), Utterance({'obj_type': 'utterance', 'vectors': [], 'speaker_': Speaker({'obj_type': 'speaker', 'vectors': [], 'owner': None, 'id': 'Buyer_1030', 'temp_backend': {}, 'meta': {}}), 'owner': <convokit.model.corpus.Corpus object at 0x154b0ba10>, 'id': 'utt6_con1030', 'meta': ConvoKitMeta({})}), Utterance({'obj_type': 'utterance', 'vectors': [], 'speaker_': Speaker({'obj_type': 'speaker', 'vectors': [], 'owner': None, 'id': 'Seller_1030', 'temp_backend': {}, 'meta': {}}), 'owner': <convokit.model.corpus.Corpus object at 0x154b0ba10>, 'id': 'utt7_con1030', 'meta': ConvoKitMeta({})}), Utterance({'obj_type': 'utterance', 'vectors': [], 'speaker_': Speaker({'obj_type': 'speaker', 'vectors': [], 'owner': None, 'id': 'Buyer_1030', 'temp_backend': {}, 'meta': {}}), 'owner': <convokit.model.corpus.Corpus object at 0x154b0ba10>, 'id': 'utt8_con1030', 'meta': ConvoKitMeta({})}), Utterance({'obj_type': 'utterance', 'vectors': [], 'speaker_': Speaker({'obj_type': 'speaker', 'vectors': [], 'owner': None, 'id': 'Seller_1030', 'temp_backend': {}, 'meta': {}}), 'owner': <convokit.model.corpus.Corpus object at 0x154b0ba10>, 'id': 'utt9_con1030', 'meta': ConvoKitMeta({})}), Utterance({'obj_type': 'utterance', 'vectors': [], 'speaker_': Speaker({'obj_type': 'speaker', 'vectors': [], 'owner': None, 'id': 'Buyer_1030', 'temp_backend': {}, 'meta': {}}), 'owner': <convokit.model.corpus.Corpus object at 0x154b0ba10>, 'id': 'utt10_con1030', 'meta': ConvoKitMeta({})}), Utterance({'obj_type': 'utterance', 'vectors': [], 'speaker_': Speaker({'obj_type': 'speaker', 'vectors': [], 'owner': None, 'id': 'Seller_1030', 'temp_backend': {}, 'meta': {}}), 'owner': <convokit.model.corpus.Corpus object at 0x154b0ba10>, 'id': 'utt11_con1030', 'meta': ConvoKitMeta({})}), Utterance({'obj_type': 'utterance', 'vectors': [], 'speaker_': Speaker({'obj_type': 'speaker', 'vectors': [], 'owner': None, 'id': 'Buyer_1030', 'temp_backend': {}, 'meta': {}}), 'owner': <convokit.model.corpus.Corpus object at 0x154b0ba10>, 'id': 'utt12_con1030', 'meta': ConvoKitMeta({})}), Utterance({'obj_type': 'utterance', 'vectors': [], 'speaker_': Speaker({'obj_type': 'speaker', 'vectors': [], 'owner': None, 'id': 'Seller_1030', 'temp_backend': {}, 'meta': {}}), 'owner': <convokit.model.corpus.Corpus object at 0x154b0ba10>, 'id': 'utt13_con1030', 'meta': ConvoKitMeta({})}), Utterance({'obj_type': 'utterance', 'vectors': [], 'speaker_': Speaker({'obj_type': 'speaker', 'vectors': [], 'owner': None, 'id': 'Buyer_1030', 'temp_backend': {}, 'meta': {}}), 'owner': <convokit.model.corpus.Corpus object at 0x154b0ba10>, 'id': 'utt14_con1030', 'meta': ConvoKitMeta({})}), Utterance({'obj_type': 'utterance', 'vectors': [], 'speaker_': Speaker({'obj_type': 'speaker', 'vectors': [], 'owner': <convokit.model.corpus.Corpus object at 0x154b0ba10>, 'id': 'Seller_1030', 'meta': ConvoKitMeta({})}), 'owner': <convokit.model.corpus.Corpus object at 0x154b0ba10>, 'id': 'utt15_con1030', 'meta': ConvoKitMeta({})}), Utterance({'obj_type': 'utterance', 'vectors': [], 'speaker_': Speaker({'obj_type': 'speaker', 'vectors': [], 'owner': <convokit.model.corpus.Corpus object at 0x154b0ba10>, 'id': 'Buyer_1030', 'meta': ConvoKitMeta({})}), 'owner': <convokit.model.corpus.Corpus object at 0x154b0ba10>, 'id': 'utt16_con1030', 'meta': ConvoKitMeta({})})]\n",
      "\n",
      "--- Random Validation Conversation ---\n",
      "[Utterance({'obj_type': 'utterance', 'vectors': [], 'speaker_': Speaker({'obj_type': 'speaker', 'vectors': [], 'owner': None, 'id': 'Buyer_1544', 'temp_backend': {}, 'meta': {}}), 'owner': <convokit.model.corpus.Corpus object at 0x154b0ba10>, 'id': 'utt0_con1544', 'meta': ConvoKitMeta({})}), Utterance({'obj_type': 'utterance', 'vectors': [], 'speaker_': Speaker({'obj_type': 'speaker', 'vectors': [], 'owner': None, 'id': 'Seller_1544', 'temp_backend': {}, 'meta': {}}), 'owner': <convokit.model.corpus.Corpus object at 0x154b0ba10>, 'id': 'utt1_con1544', 'meta': ConvoKitMeta({})}), Utterance({'obj_type': 'utterance', 'vectors': [], 'speaker_': Speaker({'obj_type': 'speaker', 'vectors': [], 'owner': None, 'id': 'Buyer_1544', 'temp_backend': {}, 'meta': {}}), 'owner': <convokit.model.corpus.Corpus object at 0x154b0ba10>, 'id': 'utt2_con1544', 'meta': ConvoKitMeta({})}), Utterance({'obj_type': 'utterance', 'vectors': [], 'speaker_': Speaker({'obj_type': 'speaker', 'vectors': [], 'owner': None, 'id': 'Seller_1544', 'temp_backend': {}, 'meta': {}}), 'owner': <convokit.model.corpus.Corpus object at 0x154b0ba10>, 'id': 'utt3_con1544', 'meta': ConvoKitMeta({})}), Utterance({'obj_type': 'utterance', 'vectors': [], 'speaker_': Speaker({'obj_type': 'speaker', 'vectors': [], 'owner': None, 'id': 'Buyer_1544', 'temp_backend': {}, 'meta': {}}), 'owner': <convokit.model.corpus.Corpus object at 0x154b0ba10>, 'id': 'utt4_con1544', 'meta': ConvoKitMeta({})}), Utterance({'obj_type': 'utterance', 'vectors': [], 'speaker_': Speaker({'obj_type': 'speaker', 'vectors': [], 'owner': None, 'id': 'Seller_1544', 'temp_backend': {}, 'meta': {}}), 'owner': <convokit.model.corpus.Corpus object at 0x154b0ba10>, 'id': 'utt5_con1544', 'meta': ConvoKitMeta({})}), Utterance({'obj_type': 'utterance', 'vectors': [], 'speaker_': Speaker({'obj_type': 'speaker', 'vectors': [], 'owner': None, 'id': 'Buyer_1544', 'temp_backend': {}, 'meta': {}}), 'owner': <convokit.model.corpus.Corpus object at 0x154b0ba10>, 'id': 'utt6_con1544', 'meta': ConvoKitMeta({})}), Utterance({'obj_type': 'utterance', 'vectors': [], 'speaker_': Speaker({'obj_type': 'speaker', 'vectors': [], 'owner': None, 'id': 'Seller_1544', 'temp_backend': {}, 'meta': {}}), 'owner': <convokit.model.corpus.Corpus object at 0x154b0ba10>, 'id': 'utt7_con1544', 'meta': ConvoKitMeta({})}), Utterance({'obj_type': 'utterance', 'vectors': [], 'speaker_': Speaker({'obj_type': 'speaker', 'vectors': [], 'owner': <convokit.model.corpus.Corpus object at 0x154b0ba10>, 'id': 'Buyer_1544', 'meta': ConvoKitMeta({})}), 'owner': <convokit.model.corpus.Corpus object at 0x154b0ba10>, 'id': 'utt8_con1544', 'meta': ConvoKitMeta({})}), Utterance({'obj_type': 'utterance', 'vectors': [], 'speaker_': Speaker({'obj_type': 'speaker', 'vectors': [], 'owner': <convokit.model.corpus.Corpus object at 0x154b0ba10>, 'id': 'Seller_1544', 'meta': ConvoKitMeta({})}), 'owner': <convokit.model.corpus.Corpus object at 0x154b0ba10>, 'id': 'utt9_con1544', 'meta': ConvoKitMeta({})})]\n",
      "\n",
      "--- Random Test Conversation ---\n",
      "[Utterance({'obj_type': 'utterance', 'vectors': [], 'speaker_': Speaker({'obj_type': 'speaker', 'vectors': [], 'owner': None, 'id': 'Buyer_1093', 'temp_backend': {}, 'meta': {}}), 'owner': <convokit.model.corpus.Corpus object at 0x154b0ba10>, 'id': 'utt0_con1093', 'meta': ConvoKitMeta({})}), Utterance({'obj_type': 'utterance', 'vectors': [], 'speaker_': Speaker({'obj_type': 'speaker', 'vectors': [], 'owner': None, 'id': 'Seller_1093', 'temp_backend': {}, 'meta': {}}), 'owner': <convokit.model.corpus.Corpus object at 0x154b0ba10>, 'id': 'utt1_con1093', 'meta': ConvoKitMeta({})}), Utterance({'obj_type': 'utterance', 'vectors': [], 'speaker_': Speaker({'obj_type': 'speaker', 'vectors': [], 'owner': None, 'id': 'Buyer_1093', 'temp_backend': {}, 'meta': {}}), 'owner': <convokit.model.corpus.Corpus object at 0x154b0ba10>, 'id': 'utt2_con1093', 'meta': ConvoKitMeta({})}), Utterance({'obj_type': 'utterance', 'vectors': [], 'speaker_': Speaker({'obj_type': 'speaker', 'vectors': [], 'owner': None, 'id': 'Seller_1093', 'temp_backend': {}, 'meta': {}}), 'owner': <convokit.model.corpus.Corpus object at 0x154b0ba10>, 'id': 'utt3_con1093', 'meta': ConvoKitMeta({})}), Utterance({'obj_type': 'utterance', 'vectors': [], 'speaker_': Speaker({'obj_type': 'speaker', 'vectors': [], 'owner': None, 'id': 'Buyer_1093', 'temp_backend': {}, 'meta': {}}), 'owner': <convokit.model.corpus.Corpus object at 0x154b0ba10>, 'id': 'utt4_con1093', 'meta': ConvoKitMeta({})}), Utterance({'obj_type': 'utterance', 'vectors': [], 'speaker_': Speaker({'obj_type': 'speaker', 'vectors': [], 'owner': None, 'id': 'Seller_1093', 'temp_backend': {}, 'meta': {}}), 'owner': <convokit.model.corpus.Corpus object at 0x154b0ba10>, 'id': 'utt5_con1093', 'meta': ConvoKitMeta({})}), Utterance({'obj_type': 'utterance', 'vectors': [], 'speaker_': Speaker({'obj_type': 'speaker', 'vectors': [], 'owner': None, 'id': 'Buyer_1093', 'temp_backend': {}, 'meta': {}}), 'owner': <convokit.model.corpus.Corpus object at 0x154b0ba10>, 'id': 'utt6_con1093', 'meta': ConvoKitMeta({})}), Utterance({'obj_type': 'utterance', 'vectors': [], 'speaker_': Speaker({'obj_type': 'speaker', 'vectors': [], 'owner': None, 'id': 'Seller_1093', 'temp_backend': {}, 'meta': {}}), 'owner': <convokit.model.corpus.Corpus object at 0x154b0ba10>, 'id': 'utt7_con1093', 'meta': ConvoKitMeta({})}), Utterance({'obj_type': 'utterance', 'vectors': [], 'speaker_': Speaker({'obj_type': 'speaker', 'vectors': [], 'owner': None, 'id': 'Buyer_1093', 'temp_backend': {}, 'meta': {}}), 'owner': <convokit.model.corpus.Corpus object at 0x154b0ba10>, 'id': 'utt8_con1093', 'meta': ConvoKitMeta({})}), Utterance({'obj_type': 'utterance', 'vectors': [], 'speaker_': Speaker({'obj_type': 'speaker', 'vectors': [], 'owner': None, 'id': 'Seller_1093', 'temp_backend': {}, 'meta': {}}), 'owner': <convokit.model.corpus.Corpus object at 0x154b0ba10>, 'id': 'utt9_con1093', 'meta': ConvoKitMeta({})}), Utterance({'obj_type': 'utterance', 'vectors': [], 'speaker_': Speaker({'obj_type': 'speaker', 'vectors': [], 'owner': <convokit.model.corpus.Corpus object at 0x154b0ba10>, 'id': 'Buyer_1093', 'meta': ConvoKitMeta({})}), 'owner': <convokit.model.corpus.Corpus object at 0x154b0ba10>, 'id': 'utt10_con1093', 'meta': ConvoKitMeta({})}), Utterance({'obj_type': 'utterance', 'vectors': [], 'speaker_': Speaker({'obj_type': 'speaker', 'vectors': [], 'owner': <convokit.model.corpus.Corpus object at 0x154b0ba10>, 'id': 'Seller_1093', 'meta': ConvoKitMeta({})}), 'owner': <convokit.model.corpus.Corpus object at 0x154b0ba10>, 'id': 'utt11_con1093', 'meta': ConvoKitMeta({})})]\n"
     ]
    }
   ],
   "source": [
    "import random\n",
    "\n",
    "# Function to get a random conversation from a split\n",
    "def sample_random_convo(corpus, split_name):\n",
    "    # Filter conversations by split\n",
    "    split_convos = [c for c in corpus.iter_conversations() if c.meta.get(\"split\") == split_name]\n",
    "    # Choose a random one\n",
    "    return random.choice(split_convos)\n",
    "\n",
    "# Sample and print\n",
    "train_sample = sample_random_convo(corpus_kodis_ground, \"train\")\n",
    "val_sample = sample_random_convo(corpus_kodis_ground, \"val\")\n",
    "test_sample = sample_random_convo(corpus_kodis_ground, \"test\")\n",
    "\n",
    "print(\"--- Random Train Conversation ---\")\n",
    "print(train_sample.get_chronological_utterance_list())\n",
    "\n",
    "print(\"\\n--- Random Validation Conversation ---\")\n",
    "print(val_sample.get_chronological_utterance_list())\n",
    "\n",
    "print(\"\\n--- Random Test Conversation ---\")\n",
    "print(test_sample.get_chronological_utterance_list())\n"
   ]
  },
  {
   "cell_type": "markdown",
   "metadata": {},
   "source": [
    "### Context Tuple Selector"
   ]
  },
  {
   "cell_type": "code",
   "execution_count": null,
   "metadata": {},
   "outputs": [],
   "source": [
    "def fit_selector(context_tuple, split):\n",
    "    \"\"\"\n",
    "    Select only contexts in the given split, at the end of the conversation,\n",
    "    and skip any utterance that’s been tagged exclude=True.\n",
    "    \"\"\"\n",
    "    # only keep the desired split\n",
    "    matches_split = (\n",
    "        context_tuple.current_utterance\n",
    "            .get_conversation()\n",
    "            .meta[\"split\"]\n",
    "        == split\n",
    "    )\n",
    "    # only keep the final context in each convo\n",
    "    is_end = (len(context_tuple.future_context) == 0)\n",
    "    # # skip if the current utterance was marked exclude=True\n",
    "    # not_excluded = not context_tuple.current_utterance.meta.get(\"exclude\", False)\n",
    "\n",
    "    return matches_split and is_end \n",
    "\n",
    "def transform_selector(context_tuple):\n",
    "    \"\"\"\n",
    "    For transform we only need to check that the conversation is in the test split\n",
    "    \"\"\"\n",
    "    return (context_tuple.current_utterance.get_conversation().meta[\"split\"] == \"test\")"
   ]
  },
  {
   "cell_type": "markdown",
   "id": "6fa4eb94",
   "metadata": {},
   "source": [
    "# Finetuning- No Imbalance Correction"
   ]
  },
  {
   "cell_type": "markdown",
   "metadata": {},
   "source": [
    "### Forecaster Model Creation"
   ]
  },
  {
   "cell_type": "code",
   "execution_count": null,
   "metadata": {},
   "outputs": [],
   "source": [
    "forecaster_kodis_ground = Forecaster(\n",
    "    forecaster_model=model_ground_default,\n",
    "    labeler=\"label\",  # uses conversation.meta[\"label\"]\n",
    "    forecast_attribute_name=\"prediction\",\n",
    "    forecast_prob_attribute_name=\"pred_score\"\n",
    ")\n",
    "forecaster_kodis_no_last_submit = Forecaster(\n",
    "    forecaster_model=model_no_last_default,\n",
    "    labeler=\"label\",  # uses conversation.meta[\"label\"]\n",
    "    forecast_attribute_name=\"prediction\",\n",
    "    forecast_prob_attribute_name=\"pred_score\"\n",
    ")\n",
    "forecaster_kodis_no_last = Forecaster(\n",
    "    forecaster_model=model_no_submit_last_default,\n",
    "    labeler=\"label\",  # uses conversation.meta[\"label\"]\n",
    "    forecast_attribute_name=\"prediction\",\n",
    "    forecast_prob_attribute_name=\"pred_score\"\n",
    ")\n"
   ]
  },
  {
   "cell_type": "markdown",
   "id": "ebd07e87",
   "metadata": {},
   "source": [
    "### Fine-tuning all models -- Ground Truth (with I walk Away/Accept Deal), No last Utterance, no submit agreement and last utterance Labels"
   ]
  },
  {
   "cell_type": "code",
   "execution_count": null,
   "id": "801e7b60",
   "metadata": {},
   "outputs": [],
   "source": [
    "forecaster_kodis_ground.fit(\n",
    "    corpus_kodis_ground, \n",
    "    context_selector=partial(fit_selector, split=\"train\"), \n",
    "    val_context_selector=partial(fit_selector, split=\"val\"))\n",
    "\n",
    "forecaster_kodis_no_last.fit(\n",
    "    corpus_kodis_no_last, \n",
    "    context_selector=partial(fit_selector, split=\"train\"), \n",
    "    val_context_selector=partial(fit_selector, split=\"val\"))\n",
    "\n",
    "forecaster_kodis_no_last_submit.fit(\n",
    "    corpus_kodis_no_submit_last, \n",
    "    context_selector=partial(fit_selector, split=\"train\"), \n",
    "    val_context_selector=partial(fit_selector, split=\"val\"))"
   ]
  },
  {
   "cell_type": "markdown",
   "metadata": {},
   "source": [
    "# Fine-Tuning: Class Imbalance Handling with Class-Weighted Loss "
   ]
  },
  {
   "cell_type": "markdown",
   "metadata": {},
   "source": [
    "### Modifying runners.py code for BCE with weighted loss"
   ]
  },
  {
   "cell_type": "code",
   "execution_count": null,
   "metadata": {},
   "outputs": [],
   "source": [
    "import convokit.forecaster.CRAFT.runners as runners\n",
    "\n",
    "_original_train = runners.train\n",
    "\n",
    "\"Copied from runner.py\"\n",
    "def _cost_sensitive_train(\n",
    "    input_variable, dialog_lengths, dialog_lengths_list, utt_lengths,\n",
    "    batch_indices, dialog_indices, labels,\n",
    "    encoder, context_encoder, attack_clf,\n",
    "    encoder_optimizer, context_encoder_optimizer, attack_clf_optimizer,\n",
    "    batch_size, clip, device\n",
    "):\n",
    "    \n",
    "    # Zero gradients\n",
    "    encoder_optimizer.zero_grad()\n",
    "    context_encoder_optimizer.zero_grad()\n",
    "    attack_clf_optimizer.zero_grad()\n",
    "\n",
    "    # Set device options\n",
    "    input_variable = input_variable.to(device)\n",
    "    dialog_lengths = dialog_lengths.to(device)\n",
    "    utt_lengths = utt_lengths.to(device)\n",
    "    labels = labels.to(device)\n",
    "\n",
    "    # Forward pass through utterance encoder\n",
    "    _, utt_encoder_hidden = encoder(input_variable, utt_lengths)\n",
    "\n",
    "    # Convert utterance encoder final states to batched dialogs for use by context encoder\n",
    "    context_encoder_input = makeContextEncoderInput(\n",
    "    utt_encoder_hidden, dialog_lengths_list, batch_size, batch_indices, dialog_indices\n",
    "    )\n",
    "\n",
    "    # Forward pass through context encoder\n",
    "    context_encoder_outputs, _ = context_encoder(context_encoder_input, dialog_lengths)\n",
    "\n",
    "    # Forward pass through classifier to get prediction logits\n",
    "    logits = attack_clf(context_encoder_outputs, dialog_lengths)\n",
    "\n",
    "    # Calculate loss\n",
    "    #loss = F.binary_cross_entropy_with_logits(logits, labels)\n",
    "    \"Modified to use BCEWithLogitsLoss\"\n",
    "    loss_fn = nn.BCEWithLogitsLoss(pos_weight=attack_clf.pos_weight)\n",
    "    loss    = loss_fn(logits, labels)\n",
    "\n",
    "    # Perform backpropatation\n",
    "    loss.backward()\n",
    "\n",
    "    # Clip gradients: gradients are modified in place\n",
    "    _ = torch.nn.utils.clip_grad_norm_(encoder.parameters(), clip)\n",
    "    _ = torch.nn.utils.clip_grad_norm_(context_encoder.parameters(), clip)\n",
    "    _ = torch.nn.utils.clip_grad_norm_(attack_clf.parameters(), clip)\n",
    "\n",
    "    # Adjust model weights\n",
    "    encoder_optimizer.step()\n",
    "    context_encoder_optimizer.step()\n",
    "    attack_clf_optimizer.step()\n",
    "\n",
    "    return loss.item()\n",
    "\n",
    "runners.train = _cost_sensitive_train"
   ]
  },
  {
   "cell_type": "markdown",
   "metadata": {},
   "source": [
    "### Forecaster Model Creation"
   ]
  },
  {
   "cell_type": "code",
   "execution_count": null,
   "metadata": {},
   "outputs": [],
   "source": [
    "forecaster_kodis_ground_weighted_loss = Forecaster(\n",
    "    forecaster_model= model_ground_weighted,\n",
    "    labeler=\"label\",  # uses conversation.meta[\"label\"]\n",
    "    forecast_attribute_name=\"prediction\",\n",
    "    forecast_prob_attribute_name=\"pred_score\"\n",
    ")\n",
    "forecaster_kodis_no_last_weighted_loss = Forecaster(\n",
    "    forecaster_mode= model_no_last_weighted,\n",
    "    labeler=\"label\",  # uses conversation.meta[\"label\"]\n",
    "    forecast_attribute_name=\"prediction\",\n",
    "    forecast_prob_attribute_name=\"pred_score\"\n",
    ")\n",
    "forecaster_kodis_no_last_submit_weighted_loss = Forecaster(\n",
    "    forecaster_model= model_no_submit_last_weighted,\n",
    "    labeler=\"label\",  # uses conversation.meta[\"label\"]\n",
    "    forecast_attribute_name=\"prediction\",\n",
    "    forecast_prob_attribute_name=\"pred_score\"\n",
    ")"
   ]
  },
  {
   "cell_type": "markdown",
   "metadata": {},
   "source": [
    "### Fine-tuning the models with cost-sensitive loss"
   ]
  },
  {
   "cell_type": "code",
   "execution_count": null,
   "metadata": {},
   "outputs": [],
   "source": [
    "forecaster_kodis_ground_weighted_loss.fit(\n",
    "    corpus_kodis_ground, \n",
    "    context_selector=partial(fit_selector, split=\"train\"), \n",
    "    val_context_selector=partial(fit_selector, split=\"val\"))\n",
    "\n",
    "forecaster_kodis_no_last_weighted_loss.fit(\n",
    "    corpus_kodis_no_last, \n",
    "    context_selector=partial(fit_selector, split=\"train\"), \n",
    "    val_context_selector=partial(fit_selector, split=\"val\"))\n",
    "\n",
    "forecaster_kodis_no_last_submit_weighted_loss.fit(\n",
    "    corpus_kodis_no_submit_last, \n",
    "    context_selector=partial(fit_selector, split=\"train\"), \n",
    "    val_context_selector=partial(fit_selector, split=\"val\"))"
   ]
  },
  {
   "cell_type": "markdown",
   "metadata": {},
   "source": [
    "# Fine-tuning: Downsampling Successful Disputes"
   ]
  },
  {
   "cell_type": "markdown",
   "metadata": {},
   "source": [
    "### Reset runner.py"
   ]
  },
  {
   "cell_type": "code",
   "execution_count": null,
   "metadata": {},
   "outputs": [],
   "source": [
    "runners.train = _original_train"
   ]
  },
  {
   "cell_type": "markdown",
   "metadata": {},
   "source": [
    "### Downsampling Logic\n",
    "- Paper controls for topic and length. Check differences in conversation length from each corpus\n",
    "- Original fine-tuning size (after crowdsourcing extra long examples in Wiki data): \n",
    "    - 4188 conversations total (≈ 2 094 derail + 2 094 clean).\n",
    "    - Train/dev/test split: 60/20/20 → Train ≈ 2512, Dev ≈ 420, Test ≈ 420"
   ]
  },
  {
   "cell_type": "code",
   "execution_count": 18,
   "metadata": {},
   "outputs": [
    {
     "data": {
      "image/png": "[encoded data removed]",
      "text/plain": [
       "<Figure size 1800x400 with 3 Axes>"
      ]
     },
     "metadata": {},
     "output_type": "display_data"
    }
   ],
   "source": [
    "import matplotlib.pyplot as plt\n",
    "\n",
    "def compare_lengths_side_by_side(corpus_list):\n",
    "    \"\"\"\n",
    "    corpus_list: list of (name:str, corpus) pairs\n",
    "    Each corpus is assumed to support:\n",
    "      - corpus.get_utterances_dataframe()\n",
    "      - corpus.get_conversations_dataframe()\n",
    "          (which has 'meta.label' column and is indexed by conversation_id)\n",
    "    \"\"\"\n",
    "    n = len(corpus_list)\n",
    "    fig, axes = plt.subplots(1, n, figsize=(6 * n, 4), sharey=True)\n",
    "    if n == 1:\n",
    "        axes = [axes]\n",
    "    for ax, (name, corpus) in zip(axes, corpus_list):\n",
    "        utts = corpus.get_utterances_dataframe()\n",
    "        lengths_df = (\n",
    "            utts\n",
    "            .groupby(\"conversation_id\")\n",
    "            .size()\n",
    "            .reset_index(name=\"length\")\n",
    "        )\n",
    "        conv_meta = corpus.get_conversations_dataframe()\n",
    "        conv_labels = (\n",
    "            conv_meta\n",
    "            .reset_index()\n",
    "            .rename(columns={\"id\": \"conversation_id\", \"meta.label\": \"label\"})\n",
    "            [[\"conversation_id\", \"label\"]]\n",
    "        )\n",
    "        merged = lengths_df.merge(conv_labels, on=\"conversation_id\")\n",
    "        avg_length = (\n",
    "            merged\n",
    "            .groupby(\"label\")[\"length\"]\n",
    "            .mean()\n",
    "            .rename(index={0: \"Unsuccessful\", 1: \"Successful\"})\n",
    "        )\n",
    "        bars = avg_length.plot(\n",
    "            kind=\"bar\",\n",
    "            rot=0,\n",
    "            ax=ax,\n",
    "            title=name\n",
    "        )\n",
    "        ax.set_xlabel(\"Dispute Outcome\")\n",
    "        if ax is axes[0]:\n",
    "            ax.set_ylabel(\"Avg. # Utterances\")\n",
    "\n",
    "        # annotate each bar with its height\n",
    "        for p in ax.patches:\n",
    "            height = p.get_height()\n",
    "            ax.text(\n",
    "                p.get_x() + p.get_width() / 2,  # x = center of bar\n",
    "                height + 0.1,                    # a little above the top\n",
    "                f\"{height:.1f}\",                 # format with one decimal\n",
    "                ha=\"center\",\n",
    "                va=\"bottom\"\n",
    "            )\n",
    "\n",
    "    plt.suptitle(\"Average Conversation Length by Outcome\", fontsize=16, y=1.05)\n",
    "    plt.tight_layout()\n",
    "    plt.show()\n",
    "\n",
    "compare_lengths_side_by_side([\n",
    "    (\"Ground Truth\", corpus_kodis_ground),\n",
    "    (\"No Last Utterance\", corpus_kodis_no_last),\n",
    "    (\"No Last or Submit\", corpus_kodis_no_submit_last)\n",
    "])"
   ]
  },
  {
   "cell_type": "markdown",
   "metadata": {},
   "source": [
    "### Downsample Successful Conversations"
   ]
  },
  {
   "cell_type": "code",
   "execution_count": null,
   "metadata": {},
   "outputs": [
    {
     "data": {
      "image/png": "[encoded data removed]",
      "text/plain": [
       "<Figure size 1800x400 with 3 Axes>"
      ]
     },
     "metadata": {},
     "output_type": "display_data"
    },
    {
     "data": {
      "image/png": "[encoded data removed]",
      "text/plain": [
       "<Figure size 750x500 with 1 Axes>"
      ]
     },
     "metadata": {},
     "output_type": "display_data"
    }
   ],
   "source": [
    "\n",
    "def downsample_corpus_label(corpus: Corpus, target_label: int, n: int, seed: int = None) -> Corpus:\n",
    "    \"\"\"\n",
    "    Return a corpus where exactly `n` conversations with meta['label']==target_label`\n",
    "    are kept (randomly sampled), and *all* conversations with the other label are kept.\n",
    "\n",
    "    :param target_label:  the label value to downsample (e.g. 1)\n",
    "    :param n:             the exact number of conversations with target_label to keep\n",
    "    :param seed:          optional random seed for reproducibility\n",
    "    :returns:             the filtered Corpus\n",
    "    \"\"\"\n",
    "    if seed is not None:\n",
    "        random.seed(seed)\n",
    "    convos_by_label = {0: [], 1: []}\n",
    "    for convo in corpus.iter_conversations():\n",
    "        lbl = convo.meta.get(\"label\")\n",
    "        if lbl not in convos_by_label:\n",
    "            raise ValueError(f\"Found conversation with unexpected label {lbl!r}\")\n",
    "        convos_by_label[lbl].append(convo.id)\n",
    "\n",
    "    total_target = len(convos_by_label[target_label])\n",
    "    if n > total_target:\n",
    "        raise ValueError(f\"Cannot sample {n} from only {total_target} examples of label {target_label}\")\n",
    "\n",
    "    sampled_target = set(random.sample(convos_by_label[target_label], n))\n",
    "    other_label = next(lbl for lbl in convos_by_label if lbl != target_label)\n",
    "    keep_ids = sampled_target.union(convos_by_label[other_label])\n",
    "\n",
    "    def convo_selector(convo):\n",
    "        return convo.id in keep_ids\n",
    "    corpus.filter_conversations_by(convo_selector)\n",
    "    return corpus\n",
    "\n",
    "import numpy as np\n",
    "import matplotlib.pyplot as plt\n",
    "\n",
    "def plot_corpus_label_counts(corpus_list):\n",
    "    names = []\n",
    "    counts_0 = []\n",
    "    counts_1 = []\n",
    "    \n",
    "    for name, corpus in corpus_list:\n",
    "        names.append(name)\n",
    "        # extract labels\n",
    "        labels = [convo.meta.get(\"label\") for convo in corpus.iter_conversations()]\n",
    "        counts_0.append(sum(1 for l in labels if l == 0))\n",
    "        counts_1.append(sum(1 for l in labels if l == 1))\n",
    "    \n",
    "    # plot\n",
    "    x = np.arange(len(names))\n",
    "    width = 0.35\n",
    "\n",
    "    fig, ax = plt.subplots(figsize=(6 + len(names)*0.5, 5))\n",
    "    ax.bar(x - width/2, counts_0, width, label=\"Unsuccessful (0)\")\n",
    "    ax.bar(x + width/2, counts_1, width, label=\"Successful (1)\")\n",
    "\n",
    "    ax.set_xticks(x)\n",
    "    ax.set_xticklabels(names, rotation=30, ha=\"right\")\n",
    "    ax.set_ylabel(\"Number of Conversations\")\n",
    "    ax.set_title(\"Conversation Counts by Label\")\n",
    "    ax.legend()\n",
    "\n",
    "    plt.tight_layout()\n",
    "    plt.show()\n",
    "\n",
    "import numpy as np\n",
    "import matplotlib.pyplot as plt\n",
    "\n",
    "def plot_corpus_label_counts(corpus_list):\n",
    "    names = []\n",
    "    counts_0 = []\n",
    "    counts_1 = []\n",
    "    \n",
    "    for name, corpus in corpus_list:\n",
    "        names.append(name)\n",
    "        # extract labels\n",
    "        labels = [convo.meta.get(\"label\") for convo in corpus.iter_conversations()]\n",
    "        counts_0.append(sum(1 for l in labels if l == 0))\n",
    "        counts_1.append(sum(1 for l in labels if l == 1))\n",
    "    \n",
    "    # plot\n",
    "    x = np.arange(len(names))\n",
    "    width = 0.35\n",
    "\n",
    "    fig, ax = plt.subplots(figsize=(6 + len(names)*0.5, 5))\n",
    "    ax.bar(x - width/2, counts_0, width, label=\"Successful(0)\")\n",
    "    ax.bar(x + width/2, counts_1, width, label=\"Impasse (1)\")\n",
    "\n",
    "    ax.set_xticks(x)\n",
    "    ax.set_xticklabels(names, rotation=30, ha=\"right\")\n",
    "    ax.set_ylabel(\"Number of Conversations\")\n",
    "    ax.set_title(\"Conversation Counts by Label\")\n",
    "    ax.legend()\n",
    "\n",
    "    plt.tight_layout()\n",
    "    plt.show()\n",
    "\n",
    "\n",
    "corpus_kodis_ground_downsampled = downsample_corpus_label(corpus_kodis_ground, target_label=0, n =371, seed=42)\n",
    "corpus_kodis_no_last_downsampled = downsample_corpus_label(corpus_kodis_no_last, target_label=0, n =371, seed=42)\n",
    "corpus_kodis_no_submit_last_downsampled = downsample_corpus_label(corpus_kodis_no_submit_last, target_label=0, n =371, seed=42)\n",
    "\n",
    "corpus_list = [\n",
    "    (\"Ground Truth\", corpus_kodis_ground_downsampled),\n",
    "    (\"No Last Utterance\", corpus_kodis_no_last_downsampled),\n",
    "    (\"No Last or Submit\", corpus_kodis_no_submit_last_downsampled)\n",
    "]\n",
    "\n",
    "compare_lengths_side_by_side(corpus_list)\n",
    "plot_corpus_label_counts(corpus_list)\n"
   ]
  },
  {
   "cell_type": "markdown",
   "metadata": {},
   "source": [
    "### Forecaster Model Creation"
   ]
  },
  {
   "cell_type": "code",
   "execution_count": null,
   "metadata": {},
   "outputs": [],
   "source": [
    "forecaster_kodis_ground_downsampled = Forecaster(\n",
    "    forecaster_model=model_ground_downsampled,\n",
    "    labeler=\"label\",  # uses conversation.meta[\"label\"]\n",
    "    forecast_attribute_name=\"prediction\",\n",
    "    forecast_prob_attribute_name=\"pred_score\"\n",
    ")\n",
    "forecaster_kodis_no_last_downsampled = Forecaster(\n",
    "    forecaster_model= model_no_last_downsampled,\n",
    "    labeler=\"label\",  # uses conversation.meta[\"label\"]\n",
    "    forecast_attribute_name=\"prediction\",\n",
    "    forecast_prob_attribute_name=\"pred_score\"\n",
    ")\n",
    "forecaster_kodis_no_last_submit_downsampled = Forecaster(\n",
    "    forecaster_model= model_no_submit_last_downsampled,\n",
    "    labeler=\"label\",  # uses conversation.meta[\"label\"]\n",
    "    forecast_attribute_name=\"prediction\",\n",
    "    forecast_prob_attribute_name=\"pred_score\"\n",
    ")"
   ]
  },
  {
   "cell_type": "markdown",
   "metadata": {},
   "source": [
    "### Fine-tuning Models with Downsampling"
   ]
  },
  {
   "cell_type": "code",
   "execution_count": null,
   "metadata": {},
   "outputs": [],
   "source": [
    "forecaster_kodis_ground_downsampled.fit(\n",
    "    corpus_kodis_ground, \n",
    "    context_selector=partial(fit_selector, split=\"train\"), \n",
    "    val_context_selector=partial(fit_selector, split=\"val\"))\n",
    "\n",
    "forecaster_kodis_no_last_downsampled.fit(\n",
    "    corpus_kodis_no_last, \n",
    "    context_selector=partial(fit_selector, split=\"train\"), \n",
    "    val_context_selector=partial(fit_selector, split=\"val\"))\n",
    "\n",
    "forecaster_kodis_no_last_submit_downsampled.fit(\n",
    "    corpus_kodis_no_submit_last, \n",
    "    context_selector=partial(fit_selector, split=\"train\"), \n",
    "    val_context_selector=partial(fit_selector, split=\"val\"))"
   ]
  },
  {
   "cell_type": "markdown",
   "id": "dcd73f65",
   "metadata": {},
   "source": [
    "# Testing Fine-tuned Craft Models"
   ]
  },
  {
   "cell_type": "markdown",
   "metadata": {},
   "source": [
    "### No sampling Correction"
   ]
  },
  {
   "cell_type": "code",
   "execution_count": null,
   "id": "888f4072",
   "metadata": {},
   "outputs": [],
   "source": [
    "corpus_kodis_ground = forecaster_kodis_ground.transform(corpus_kodis_ground, transform_selector)\n",
    "ground_default_df, ground_default_metrics = forecaster_kodis_ground.summarize(corpus_kodis_ground, selector=lambda convo: convo.meta['split']=='test')\n",
    "\n",
    "corpus_kodis_no_last = forecaster_kodis_no_last.transform(corpus_kodis_no_last, transform_selector)\n",
    "no_last_default_df, no_last_default_metrics = forecaster_kodis_no_last.summarize(corpus_kodis_no_last, selector=lambda convo: convo.meta['split']=='test')\n",
    "\n",
    "corpus_kodis_no_submit= forecaster_kodis_no_last_submit.transform(corpus_kodis_no_submit_last, transform_selector)\n",
    "no_last_submit_default_df, no_last_submit_default_metrics = forecaster_kodis_no_last_submit.summarize(corpus_kodis_no_submit, selector=lambda convo: convo.meta['split']=='test')"
   ]
  },
  {
   "cell_type": "code",
   "execution_count": null,
   "metadata": {},
   "outputs": [],
   "source": [
    "corpus_kodis_ground.dump(\n",
    "    name=\"corpus_kodis_ground_resuls\",           # the folder name to create (it’ll contain utterances.jsonl, index.json, etc.)\n",
    "    base_path =results_filepath_no_samp,               # where to write it; default is convokit’s corpus directory\n",
    "    overwrite_existing_corpus=False  # will error if “kodis_copy” already exists\n",
    ")\n",
    "corpus_kodis_no_last.dump(\n",
    "    name=\"corpus_kodis_no_last_resuls\",           # the folder name to create (it’ll contain utterances.jsonl, index.json, etc.)\n",
    "    base_path = results_filepath_no_samp\n",
    "    overwrite_existing_corpus=False  # will error if “kodis_copy” already exists\n",
    ")\n",
    "corpus_kodis_no_submit_last.dump(\n",
    "    name =\"corpus_kodis_no_last_submit_results\",           # the folder name to create (it’ll contain utterances.jsonl, index.json, etc.)\n",
    "    base_path=results_filepath_no_samp      # where to write it; default is convokit’s corpus directory\n",
    "    overwrite_existing_corpus=False  # will error if “kodis_copy” already exists\n",
    ")\n",
    "checkpoint = {\n",
    "    \"model\": forecaster_kodis_ground.model,\n",
    "    \"corpus\": corpus_kodis_ground\n",
    "}\n",
    "\n",
    "\n",
    "ground_default_df.to_csv(results_filepath_no_samp / \"ground_conv_df.csv\", index=False)\n",
    "no_last_default_df.to_csv(results_filepath_no_samp/ \"nolast_conv_df.csv\", index=False)\n",
    "no_last_submit_default_df.to_csv(results_filepath_no_samp/ \"no_submit_last_convo_df.csv\", index=False)\n",
    "\n",
    "with open('ground_default.json', 'w') as f:\n",
    "    json.dump(ground_default_metrics, f, indent=2)\n",
    "\n",
    "with open('no_last_default.json', 'w') as f:\n",
    "    json.dump(no_last_default_metrics, f, indent=2)\n",
    "\n",
    "with open('no_last_submit_default_metrics.json', 'w') as f:\n",
    "    json.dump(no_last_submit_default_metrics, f, indent=2)\n",
    "\n",
    "checkpoint_ground_default = model_ground_default._model\n",
    "checkpoint_no_last_default = model_no_last_default._model\n",
    "checkpoint_no_submit_last_default = model_no_submit_last_default._model\n",
    "\n",
    "torch.save(checkpoint_ground_default, results_filepath_no_samp/\"ground_default.pt\")\n",
    "torch.save(checkpoint_no_last_default, results_filepath_no_samp/\"no_last_default.pt\")\n",
    "torch.save(checkpoint_no_submit_last_default, results_filepath_no_samp/\"no_submit_last_default.pt\")"
   ]
  },
  {
   "cell_type": "markdown",
   "metadata": {},
   "source": [
    "### Weighted Correction"
   ]
  },
  {
   "cell_type": "code",
   "execution_count": null,
   "metadata": {},
   "outputs": [],
   "source": [
    "corpus_kodis_ground = forecaster_kodis_ground_weighted_loss.transform(corpus_kodis_ground, transform_selector)\n",
    "ground_weight_df, ground_weight_metrics = forecaster_kodis_ground_weighted_loss.summarize(corpus_kodis_ground, selector=lambda convo: convo.meta['split']=='test')\n",
    "\n",
    "corpus_kodis_no_last = forecaster_kodis_no_last_weighted_loss.transform(corpus_kodis_no_last, transform_selector)\n",
    "no_last_weight_df, no_last_weight_metrics = forecaster_kodis_no_last_weighted_loss.summarize(corpus_kodis_no_last, selector=lambda convo: convo.meta['split']=='test')\n",
    "\n",
    "corpus_kodis_no_submit= forecaster_kodis_no_last_submit_weighted_loss.transform(corpus_kodis_no_submit_last, transform_selector)\n",
    "no_last_submit_weight_df, no_last_submit_weight_metrics = forecaster_kodis_no_last_submit_weighted_loss.summarize(corpus_kodis_no_submit, selector=lambda convo: convo.meta['split']=='test')"
   ]
  },
  {
   "cell_type": "code",
   "execution_count": null,
   "metadata": {},
   "outputs": [],
   "source": [
    "corpus_kodis_ground.dump(\n",
    "    name=\"corpus_kodis_ground_weighted_loss\",           # the folder name to create (it’ll contain utterances.jsonl, index.json, etc.)\n",
    "    base_path =results_filepath_no_samp_weighted,               # where to write it; default is convokit’s corpus directory\n",
    "    overwrite_existing_corpus=False  # will error if “kodis_copy” already exists\n",
    ")\n",
    "corpus_kodis_no_last.dump(\n",
    "    name=\"corpus_kodis_no_last_weighted_loss\",           # the folder name to create (it’ll contain utterances.jsonl, index.json, etc.)\n",
    "    base_path = results_filepath_no_samp_weighted,\n",
    "    overwrite_existing_corpus=False  # will error if “kodis_copy” already exists\n",
    ")\n",
    "corpus_kodis_no_submit_last.dump(\n",
    "    name =\"corpus_kodis_no_last_submit_weighted_loss\",           # the folder name to create (it’ll contain utterances.jsonl, index.json, etc.)\n",
    "    base_path=results_filepath_no_samp_weighted,      # where to write it; default is convokit’s corpus directory\n",
    "    overwrite_existing_corpus=False  # will error if “kodis_copy” already exists\n",
    ")   \n",
    "\n",
    "ground_weight_df.to_csv(results_filepath_no_samp_weighted / \"ground_weight_conv_df.csv\", index=False)\n",
    "no_last_weight_df.to_csv(results_filepath_no_samp_weighted/ \"nolast_weight_conv_df.csv\", index=False)\n",
    "no_last_submit_weight_df.to_csv(results_filepath_no_samp_weighted/ \"no_submit_last_weight_conv_df.csv\", index=False)\n",
    "\n",
    "with open('ground_weighted.json', 'w') as f:\n",
    "    json.dump(ground_weight_metrics, f, indent=2)\n",
    "with open('no_last_weighted.json', 'w') as f:\n",
    "    json.dump(no_last_weight_metrics, f, indent=2)\n",
    "with open('no_last_submit_weighted.json', 'w') as f:\n",
    "    json.dump(no_last_submit_weight_metrics, f, indent=2)\n",
    "\n",
    "    \n",
    "checkpoint_ground_weighted = model_ground_weighted._model\n",
    "checkpoint_no_last_weighted = model_no_last_weighted._model\n",
    "checkpoint_no_submit_last_weighted = model_no_submit_last_weighted._model\n",
    "\n",
    "torch.save(checkpoint_ground_weighted, results_filepath_no_samp_weighted/\"ground_weighted.pt\")\n",
    "torch.save(checkpoint_no_last_weighted, results_filepath_no_samp_weighted/\"no_last_weighted.pt\")\n",
    "torch.save(checkpoint_no_submit_last_weighted, results_filepath_no_samp_weighted/\"no_submit_last_weighted.pt\")"
   ]
  },
  {
   "cell_type": "markdown",
   "metadata": {},
   "source": [
    "### Downsampling Correction"
   ]
  },
  {
   "cell_type": "code",
   "execution_count": null,
   "metadata": {},
   "outputs": [],
   "source": [
    "corpus_kodis_ground = forecaster_kodis_ground_downsampled.transform(corpus_kodis_ground, transform_selector)\n",
    "ground_downsampled_df, ground_downsampled_metrics = forecaster_kodis_ground_downsampled.summarize(corpus_kodis_ground, selector=lambda convo: convo.meta['split']=='test')\n",
    "\n",
    "corpus_kodis_no_last = forecaster_kodis_no_last_downsampled.transform(corpus_kodis_no_last, transform_selector)\n",
    "no_last_downsampled_df, no_last_downsampled_metrics = forecaster_kodis_no_last_downsampled.summarize(corpus_kodis_no_last, selector=lambda convo: convo.meta['split']=='test')\n",
    "\n",
    "corpus_kodis_no_submit= forecaster_kodis_no_last_submit_downsampled.transform(corpus_kodis_no_submit_last, transform_selector)\n",
    "no_last_submit_downsampled_df, no_last_submit_downsampled_metrics = forecaster_kodis_no_last_submit_downsampled.summarize(corpus_kodis_no_submit, selector=lambda convo: convo.meta['split']=='test')"
   ]
  },
  {
   "cell_type": "code",
   "execution_count": null,
   "metadata": {},
   "outputs": [],
   "source": [
    "corpus_kodis_ground.dump(\n",
    "    name=\"corpus_kodis_ground_downsampled\",           # the folder name to create (it’ll contain utterances.jsonl, index.json, etc.)\n",
    "    base_path =results_filepath_downsampled,               # where to write it; default is convokit’s corpus directory\n",
    "    overwrite_existing_corpus=False  # will error if “kodis_copy” already exists\n",
    ")\n",
    "corpus_kodis_no_last.dump(\n",
    "    name=\"corpus_kodis_no_last_downsampled\",           # the folder name to create (it’ll contain utterances.jsonl, index.json, etc.)\n",
    "    base_path = results_filepath_downsampled,\n",
    "    overwrite_existing_corpus=False  # will error if “kodis_copy” already exists\n",
    ")\n",
    "corpus_kodis_no_submit_last.dump(\n",
    "    name =\"corpus_kodis_no_last_submit_downsampled\",           # the folder name to create (it’ll contain utterances.jsonl, index.json, etc.)\n",
    "    base_path=results_filepath_downsampled,      # where to write it; default is convokit’s corpus directory\n",
    "    overwrite_existing_corpus=False  # will error if “kodis_copy” already exists\n",
    ")\n",
    "ground_downsampled_df.to_csv(results_filepath_downsampled / \"ground_downsampled_conv_df.csv\", index=False)\n",
    "no_last_downsampled_df.to_csv(results_filepath_downsampled/ \"nolast_downsampled_conv_df.csv\", index=False)\n",
    "no_last_submit_downsampled_df.to_csv(results_filepath_downsampled/ \"no_submit_last_downsampled_conv_df.csv\", index=False)\n",
    "\n",
    "with open('ground_downsampled.json', 'w') as f:\n",
    "    json.dump(ground_downsampled_metrics, f, indent=2)\n",
    "with open('no_last_downsampled.json', 'w') as f:\n",
    "    json.dump(no_last_downsampled_metrics, f, indent=2)\n",
    "with open('no_last_submit_downsampled.json', 'w') as f:\n",
    "    json.dump(no_last_submit_downsampled_metrics, f, indent=2)\n",
    "\n",
    "checkpoint_ground_downsampled = model_ground_downsampled._model\n",
    "checkpoint_no_last_downsampled = model_no_last_downsampled._model\n",
    "checkpoint_no_submit_last_downsampled = model_no_submit_last_downsampled._model\n",
    "\n",
    "torch.save(checkpoint_ground_downsampled, results_filepath_downsampled/\"ground_downsampled.pt\")\n",
    "torch.save(checkpoint_no_last_downsampled, results_filepath_downsampled/\"no_last_downsampled.pt\")\n",
    "torch.save(checkpoint_no_submit_last_downsampled, results_filepath_downsampled/\"no_submit_last_downsampled.pt\")"
   ]
  },
  {
   "cell_type": "markdown",
   "metadata": {},
   "source": [
    "# Output Analysis"
   ]
  },
  {
   "cell_type": "code",
   "execution_count": null,
   "id": "5ecd863c",
   "metadata": {},
   "outputs": [],
   "source": [
    "import pandas as pd\n",
    "\n",
    "def getTestUtterancesandConvos(corpus):\n",
    "    # 1. get utterances and conversations tables\n",
    "    utt_df = corpus.get_utterances_dataframe()\n",
    "    conv_df = corpus.get_conversations_dataframe()\n",
    "\n",
    "    # 2. find all conversation IDs in the 'test' split\n",
    "    test_convo_ids = conv_df[conv_df['meta.split'] == 'test'].index.tolist()\n",
    "    # 3. filter utterances whose conversation_id is in that list\n",
    "    test_utts = utt_df[utt_df['conversation_id'].isin(test_convo_ids)]\n",
    "    return test_utts, test_convo_ids\n",
    "\n",
    "def getSuccessLengths(utts):\n",
    "    # 2. Filter to only those rows where meta.prediction == 1\n",
    "    success_df = utts[utts['meta.prediction'] == 1]\n",
    "    # 3) compute length (count of utterances) per conversation\n",
    "    conversation_lengths = (\n",
    "        utts\n",
    "        .groupby('conversation_id')\n",
    "        .size()\n",
    "        .rename('length')\n",
    "    )\n",
    "    # 4) pick out only the conversations that appeared in pred1_df\n",
    "    lengths_df = (\n",
    "        conversation_lengths\n",
    "        .loc[success_df['conversation_id'].unique()]\n",
    "        .reset_index()           # makes 'conversation_id' a column again\n",
    "    )\n",
    "    return lengths_df\n",
    "\n",
    "def getSuccessUtterances(utts):\n",
    "    # 2. Filter to only those rows where meta.prediction == 1\n",
    "    success_df = utts[utts['meta.prediction'] == 1]\n",
    "\n",
    "ground_test_utt, ground_test_convos = getTestUtterancesandConvos(corpus_kodis_ground)\n",
    "no_last_test_utt, no_last_test_convos = getTestUtterancesandConvos(corpus_kodis_no_last)\n",
    "no_submit_last_test_utt, no_submit_last_test_convos = getTestUtterancesandConvos(corpus_kodis_no_submit_last)\n",
    "\n",
    "print(\"Threshold =\", model._decision_threshold)\n"
   ]
  },
  {
   "cell_type": "code",
   "execution_count": null,
   "metadata": {},
   "outputs": [],
   "source": [
    "ground_success_lengths = getSuccessLengths(ground_test_utt)\n",
    "no_last_success_lengths = getSuccessLengths(no_last_test_utt)\n",
    "no_submit_last_success_lengths = getSuccessLengths(no_submit_last_test_utt)\n",
    "print(f'length of test convos for each corpus is: {len(ground_test_convos)}, {len(no_last_test_convos)}, {len(no_submit_last_test_convos)}')\n",
    "print(f'length of test utterances for each corpus is: {len(ground_test_utt)}, {len(no_last_test_utt)}, {len(no_submit_last_test_utt)}')\n",
    "print(f'length of success utterances for each corpus is: {len(ground_success_lengths)}, {len(no_last_success_lengths)}, {len(no_submit_last_success_lengths)}')"
   ]
  },
  {
   "cell_type": "code",
   "execution_count": null,
   "metadata": {},
   "outputs": [],
   "source": [
    "ground_conv_df, ground_metrics = forecaster_kodis_ground.summarize(\n",
    "    corpus_kodis_ground,\n",
    "    selector=lambda convo: convo.meta[\"split\"] == \"test\"\n",
    ")"
   ]
  },
  {
   "cell_type": "code",
   "execution_count": null,
   "metadata": {},
   "outputs": [],
   "source": [
    "nolast_conv_df, nolast_metrics = forecaster_kodis_no_last.summarize(\n",
    "    corpus_kodis_no_last,\n",
    "    selector=lambda convo: convo.meta[\"split\"] == \"test\"\n",
    ")"
   ]
  },
  {
   "cell_type": "code",
   "execution_count": null,
   "metadata": {},
   "outputs": [],
   "source": [
    "no_submit_last_convo_df, nolast_submit_metrics = forecaster_kodis_no_last_submit.summarize(\n",
    "    corpus_kodis_no_submit_last,\n",
    "    selector=lambda convo: convo.meta[\"split\"] == \"test\"\n",
    ")"
   ]
  },
  {
   "cell_type": "code",
   "execution_count": null,
   "metadata": {},
   "outputs": [],
   "source": [
    "display(ground_conv_df)\n",
    "display(nolast_conv_df)\n",
    "display(no_submit_last_convo_df)"
   ]
  },
  {
   "cell_type": "markdown",
   "metadata": {},
   "source": [
    "### Conversation-Level Metrics (Derailment probability aggregated into 1 score for each conversation from all predicted utterances -> assign forecast label)"
   ]
  },
  {
   "cell_type": "code",
   "execution_count": null,
   "metadata": {},
   "outputs": [],
   "source": [
    "import matplotlib.pyplot as plt\n",
    "import numpy as np\n",
    "from sklearn.metrics import ConfusionMatrixDisplay\n",
    "from sklearn.calibration import CalibrationDisplay\n",
    "\n",
    "# Replace these with your actual variables\n",
    "corpora_info = [\n",
    "    (\"KODIS_NO_SUBMIT_LAST\", corpus_kodis_no_submit_last, forecaster_kodis_ground, nolast_submit_metrics, no_submit_last_convo_df),\n",
    "    (\"KODIS_NO_LAST\",         corpus_kodis_no_last, forecaster_kodis_no_last, nolast_metrics,  nolast_conv_df),\n",
    "    (\"KODIS_GROUND\",          corpus_kodis_ground,forecaster_kodis_no_last_submit, ground_metrics, ground_conv_df),\n",
    "]\n",
    "\n",
    "n_rows = 5\n",
    "n_cols = len(corpora_info)\n",
    "fig, axes = plt.subplots(n_rows, n_cols, figsize=(5 * n_cols, 3 * n_rows))\n",
    "fig.suptitle(\"Comparison Across KODIS Variants\", fontsize=18)\n",
    "\n",
    "for col, (label, corpus, forecaster, metrics, conv_df) in enumerate(corpora_info):\n",
    "    # Row 0: Average conversation length\n",
    "    lengths = [\n",
    "        len(convo.get_utterance_ids())\n",
    "        for convo in corpus.iter_conversations()\n",
    "        if convo.meta.get(\"split\") == \"test\"\n",
    "    ]\n",
    "    avg_len = np.mean(lengths)\n",
    "    ax0 = axes[0, col]\n",
    "    ax0.bar([0], [avg_len])\n",
    "    ax0.set_xticks([])\n",
    "    ax0.set_title(f\"{label}\\nAvg Length: {avg_len:.1f}\")\n",
    "\n",
    "    # Row 1: Calibration curve\n",
    "    ax1 = axes[1, col]\n",
    "    y_true = conv_df[\"forecast\"]\n",
    "    y_prob = conv_df[\"score\"]\n",
    "    CalibrationDisplay.from_predictions(\n",
    "        y_true=y_true,\n",
    "        y_prob=y_prob,\n",
    "        n_bins=10,\n",
    "        name=label,\n",
    "        ax=ax1\n",
    "    )\n",
    "    ax1.set_title(f\"Calibration Curve for {label}\")\n",
    "    ax1.grid(True)\n",
    "\n",
    "    # Row 2: Probability histogram\n",
    "    ax2 = axes[2, col]\n",
    "    bins_prob = np.linspace(0, 1, 11)\n",
    "    ax2.hist(y_prob, bins=bins_prob, edgecolor='k')\n",
    "    ax2.set_title(\"Probability Histogram\")\n",
    "    ax2.set_xlabel(\"Predicted Probability\")\n",
    "    ax2.set_ylabel(\"Count\")\n",
    "    ax2.grid(True)\n",
    "\n",
    "    # Row 3: Confusion matrix\n",
    "    ax3 = axes[3, col]\n",
    "    y_pred = conv_df[\"forecast\"]\n",
    "    ConfusionMatrixDisplay.from_predictions(\n",
    "        y_true=y_true,\n",
    "        y_pred=y_pred,\n",
    "        display_labels=[\"No Derail\", \"Derail\"],\n",
    "        cmap=\"Blues\",\n",
    "        ax=ax3\n",
    "    )\n",
    "    ax3.set_title(\"Confusion Matrix\")\n",
    "\n",
    "    # Row 4: Metrics summary text\n",
    "    ax4 = axes[4, col]\n",
    "    ax4.axis('off')\n",
    "    metrics_text = \"\\n\".join(f\"{k}: {v:.2f}\" for k, v in metrics.items())\n",
    "    ax4.text(0.5, 0.5, metrics_text, ha='center', va='center', fontsize=10)\n",
    "    ax4.set_title(\"Test Metrics Summary\")\n",
    "\n",
    "plt.tight_layout(rect=[0, 0, 1, 0.96])\n",
    "plt.show()\n"
   ]
  },
  {
   "cell_type": "code",
   "execution_count": null,
   "id": "c95dcfc2",
   "metadata": {},
   "outputs": [],
   "source": [
    "import pandas as pd\n",
    "import numpy as np\n",
    "import matplotlib.pyplot as plt\n",
    "from IPython.display import display\n",
    "from sklearn.metrics import confusion_matrix, ConfusionMatrixDisplay\n",
    "from sklearn.calibration import CalibrationDisplay\n",
    "\n",
    "# 1) Average conversation length (test split)\n",
    "lengths = [\n",
    "    len(convo.get_utterance_ids())\n",
    "    for convo in corpus_kodis.iter_conversations()\n",
    "    if convo.meta.get(\"split\") == \"test\"\n",
    "]\n",
    "avg_len = sum(lengths) / len(lengths)\n",
    "print(f\"Average conversation length in KODIS test set: {avg_len:.2f} utterances\\n\")\n",
    "\n",
    "# 2) Overall metrics table\n",
    "print(\"── OVERALL TEST-SET METRICS ──\")\n",
    "metrics_df = pd.DataFrame([metrics], index=[\"kodis_model\"])\n",
    "display(metrics_df)\n",
    "\n",
    "# 3) Forecast horizon histogram\n",
    "horizon = forecaster_kodis._draw_horizon_plot(\n",
    "    corpus_kodis,\n",
    "    selector=lambda convo: convo.meta.get(\"split\")==\"test\"\n",
    ")\n",
    "h_vals = np.array(list(horizon.values()))\n",
    "max_h = h_vals.max() if h_vals.size else 1\n",
    "bins = range(1, max_h+1)\n",
    "\n",
    "plt.figure(figsize=(6,4))\n",
    "plt.hist(h_vals, bins=bins, density=True, edgecolor=\"k\")\n",
    "plt.title(\"Kodis Model\\nForecast Horizon (test set)\")\n",
    "plt.xlabel(\"Comments between first positive forecast and end\")\n",
    "plt.ylabel(\"Percent of conversations\")\n",
    "plt.tight_layout()\n",
    "plt.show()\n",
    "\n",
    "# 4) Calibration curve + probability histogram\n",
    "#   First, make sure conv_df has the right columns:\n",
    "#   conv_df: index = convo_id; columns = ['label','score','forecast']\n",
    "y_true = conv_df[\"label\"]\n",
    "y_prob = conv_df[\"score\"]\n",
    "y_pred = conv_df[\"forecast\"]\n",
    "\n",
    "fig, (ax_cal, ax_hist) = plt.subplots(1,2, figsize=(12,4))\n",
    "\n",
    "# calibration\n",
    "CalibrationDisplay.from_predictions(\n",
    "    y_true=y_true,\n",
    "    y_prob=y_prob,\n",
    "    n_bins=10,\n",
    "    name=\"Kodis\",\n",
    "    ax=ax_cal\n",
    ")\n",
    "ax_cal.set_title(\"Calibration Curve\")\n",
    "ax_cal.set_xlabel(\"Mean predicted probability\")\n",
    "ax_cal.set_ylabel(\"Observed fraction\")\n",
    "ax_cal.grid(True)\n",
    "\n",
    "# histogram of predicted probabilities\n",
    "bins_prob = np.linspace(0,1,11)\n",
    "ax_hist.hist(y_prob, bins=bins_prob, edgecolor=\"k\")\n",
    "ax_hist.set_title(\"Probability Histogram\")\n",
    "ax_hist.set_xlabel(\"Predicted probability\")\n",
    "ax_hist.set_ylabel(\"Count of conversations\")\n",
    "ax_hist.grid(True)\n",
    "\n",
    "plt.tight_layout()\n",
    "plt.show()\n",
    "\n",
    "# 5) Confusion matrix\n",
    "fig, ax_cm = plt.subplots(1,1, figsize=(5,5))\n",
    "ConfusionMatrixDisplay.from_predictions(\n",
    "    y_true=y_true,\n",
    "    y_pred=y_pred,\n",
    "    display_labels=[\"Success\",\"Impasse\"],\n",
    "    cmap=\"Blues\",\n",
    "    ax=ax_cm\n",
    ")\n",
    "ax_cm.set_title(\"Confusion Matrix (test set)\")\n",
    "plt.tight_layout()\n",
    "plt.show()\n",
    "\n",
    "# 6) Summary table of accuracies & calibration\n",
    "agree_rate = (y_true == y_pred).mean()\n",
    "summary = pd.DataFrame({\n",
    "    'kodis_acc':      [(y_true == y_pred).mean()],\n",
    "    'avg_pred_prob':  [y_prob.mean()],\n",
    "    'agreement_rate': [agree_rate],\n",
    "}, index=[\"conversation_level\"])\n",
    "print(\"── Summary Statistics ──\")\n",
    "display(summary)\n"
   ]
  },
  {
   "cell_type": "code",
   "execution_count": null,
   "id": "2f412297",
   "metadata": {},
   "outputs": [],
   "source": [
    "import numpy as np\n",
    "import matplotlib.pyplot as plt\n",
    "import pandas as pd\n",
    "from sklearn.metrics import roc_curve, precision_recall_curve, auc\n",
    "from IPython.display import display\n",
    "\n",
    "# --- 1) Helper functions ---\n",
    "\n",
    "def get_conv_level_scores(corpus, split=\"test\"):\n",
    "    # 1) Pull conversation‐level metadata and restrict to test split\n",
    "    conv_df = corpus.get_conversations_dataframe()\n",
    "    test_ids = conv_df[conv_df[\"meta.split\"] == split].index\n",
    "\n",
    "    # 2) Pull utterance predictions and filter to test conversations\n",
    "    utt = (\n",
    "        corpus\n",
    "          .get_utterances_dataframe()[['conversation_id','meta.pred_score']]\n",
    "          .dropna()\n",
    "    )\n",
    "    utt = utt[utt['conversation_id'].isin(test_ids)]\n",
    "\n",
    "    # 3) Aggregate to conversation‐level score\n",
    "    conv_scores = utt.groupby('conversation_id')['meta.pred_score'].max()\n",
    "    # ensure every test conversation appears (zero if never scored)\n",
    "    conv_scores = conv_scores.reindex(test_ids, fill_value=0)\n",
    "\n",
    "    # 4) Build y, scores\n",
    "    y_true   = conv_df.loc[test_ids, 'meta.label'].astype(int).values\n",
    "    y_scores = conv_scores.values\n",
    "    return y_true, y_scores\n",
    "\n",
    "def print_baseline_accuracy(corpus, split=\"test\", label_field=\"label\"):\n",
    "    conv_df = corpus.get_conversations_dataframe()\n",
    "    conv_df = conv_df[conv_df[\"meta.split\"] == split]\n",
    "    counts = conv_df[f\"meta.{label_field}\"].value_counts()\n",
    "    baseline = counts.min() / counts.sum()\n",
    "    print(f\"Baseline accuracy (majority class on {split}): {baseline:.3f}\")\n",
    "\n",
    "\n",
    "# --- 2) Class balance and baseline ---\n",
    "\n",
    "# Restrict conv_df to test split when showing counts\n",
    "conv_df = corpus_kodis.get_conversations_dataframe()\n",
    "conv_df = conv_df[conv_df[\"meta.split\"] == \"test\"][['meta.label']]\n",
    "print(\"Conversation‐level label counts (test split):\")\n",
    "display(conv_df['meta.label'].value_counts())\n",
    "\n",
    "y, scores = get_conv_level_scores(corpus_kodis, split=\"test\")\n",
    "print(f\"Positive‐class rate (test): {y.mean():.2%}\")\n",
    "print_baseline_accuracy(corpus_kodis, split=\"test\")\n",
    "\n",
    "\n",
    "# --- 3) ROC & PR computation ---\n",
    "\n",
    "fpr, tpr, _ = roc_curve(y, scores)\n",
    "roc_auc = auc(fpr, tpr)\n",
    "\n",
    "prec, rec, _ = precision_recall_curve(y, scores)\n",
    "order = np.argsort(rec)\n",
    "pr_auc = auc(rec[order], prec[order])\n",
    "\n",
    "print(f\"ROC AUC (test): {roc_auc:.3f}\")\n",
    "print(f\"PR  AUC (test): {pr_auc:.3f}\")\n",
    "\n",
    "\n",
    "# --- 4) Plot side‐by‐side ---\n",
    "\n",
    "fig, (ax_roc, ax_pr) = plt.subplots(1, 2, figsize=(12,5))\n",
    "\n",
    "ax_roc.plot(fpr, tpr, label=f'Test Split (AUC={roc_auc:.3f})')\n",
    "ax_roc.set_xlabel('False Positive Rate')\n",
    "ax_roc.set_ylabel('True Positive Rate')\n",
    "ax_roc.set_title('ROC Curve')\n",
    "ax_roc.legend()\n",
    "ax_roc.grid(True)\n",
    "\n",
    "ax_pr.plot(rec, prec, label=f'Test Split (AUC={pr_auc:.3f})')\n",
    "ax_pr.set_xlabel('Recall')\n",
    "ax_pr.set_ylabel('Precision')\n",
    "ax_pr.set_title('Precision–Recall Curve')\n",
    "ax_pr.legend()\n",
    "ax_pr.grid(True)\n",
    "\n",
    "plt.tight_layout()\n",
    "plt.show()\n"
   ]
  },
  {
   "cell_type": "code",
   "execution_count": 68,
   "metadata": {},
   "outputs": [
    {
     "data": {
      "text/plain": [
       "True"
      ]
     },
     "metadata": {},
     "output_type": "display_data"
    },
    {
     "data": {
      "text/plain": [
       "True"
      ]
     },
     "metadata": {},
     "output_type": "display_data"
    },
    {
     "data": {
      "text/plain": [
       "True"
      ]
     },
     "metadata": {},
     "output_type": "display_data"
    }
   ],
   "source": [
    "display(corpus_kodis_ground.get_conversations_dataframe()[\"meta.label\"].equals(corpus_kodis_no_last.get_conversations_dataframe()[\"meta.label\"]))\n",
    "display(corpus_kodis_ground.get_conversations_dataframe()[\"meta.label\"].equals(corpus_kodis_no_submit_last.get_conversations_dataframe()[\"meta.label\"]))\n",
    "display(corpus_kodis_no_last.get_conversations_dataframe()[\"meta.label\"].equals(corpus_kodis_no_submit_last.get_conversations_dataframe()[\"meta.label\"]))\n"
   ]
  },
  {
   "cell_type": "code",
   "execution_count": null,
   "metadata": {},
   "outputs": [],
   "source": [
    "def plot_prob_evolution_3d(corpus, split_key=\"split\", test_tag=\"test\", prob_key=\"pred_score\"):\n",
    "    \"\"\"\n",
    "    3D visualization of how predicted probabilities evolve over the course of a conversation.\n",
    "\n",
    "    - X axis: Utterance position in conversation (1, 2, 3, ...)\n",
    "    - Y axis: Total conversation length (number of utterances)\n",
    "    - Z axis: Mean predicted probability at that position for all conversations of that length\n",
    "    \"\"\"\n",
    "    # Go through each utterance in conversation\n",
    "    # append score to the position dict\n",
    "    # Outer list: convo pos\n",
    "    # Inner list: forecast score for all conversations at that index\n",
    "    # aggregation: mean across all same positons in each inner list. if posiition is empty (out of bounds fo this conversation, append a 0\n",
    "    # Plot the mean scores for each position on Y, position on X, and conversation length on Z\n",
    "    #\n",
    "    pos_scores = [] #list of lists\n",
    "    for convo in corpus.iter_conversations():\n",
    "        if convo.meta.get(split_key) != test_tag:\n",
    "            continue\n",
    "        utts = list(convo.iter_utterances())\n",
    "            bin_dict.setdefault((pos, convo_len), []).append(score)\n",
    "    \n",
    "    # Compute averages\n",
    "    X, Y, Z = [], [], []\n",
    "    for (pos, length), scores in bin_dict.items():\n",
    "        X.append(pos)\n",
    "        Y.append(length)\n",
    "        Z.append(np.mean(scores))"
   ]
  }
 ],
 "metadata": {
  "kernelspec": {
   "display_name": ".venv",
   "language": "python",
   "name": "python3"
  },
  "language_info": {
   "codemirror_mode": {
    "name": "ipython",
    "version": 3
   },
   "file_extension": ".py",
   "mimetype": "text/x-python",
   "name": "python",
   "nbconvert_exporter": "python",
   "pygments_lexer": "ipython3",
   "version": "3.11.11"
  }
 },
 "nbformat": 4,
 "nbformat_minor": 5
}
