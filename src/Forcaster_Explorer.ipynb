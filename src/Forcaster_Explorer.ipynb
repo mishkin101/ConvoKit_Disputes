{
 "cells": [
  {
   "cell_type": "code",
   "execution_count": 1,
   "id": "c02ba9ac",
   "metadata": {},
   "outputs": [],
   "source": [
    "%%capture\n",
    "from tqdm import tqdm\n",
    "from convokit import Corpus, Speaker, Utterance\n",
    "from collections import defaultdict\n",
    "import pandas as pd\n",
    "import pprint as pp\n",
    "from IPython.display import display\n",
    "from modules.DataPreprocesser import DataPreprocesser\n",
    "from modules import CorpusUtils as corp\n",
    "import torch\n",
    "\n",
    "# Add the src directory to the path\n",
    "import sys\n",
    "import os\n",
    "\n",
    "# Add the src\n",
    "sys.path.append(os.path.abspath(\".\"))\n",
    "import import_ipynb\n",
    "\n",
    "#Convokit Imports\n",
    "from convokit.forecaster.CRAFTModel import CRAFTModel\n",
    "from convokit.forecaster.forecaster import Forecaster"
   ]
  },
  {
   "cell_type": "markdown",
   "id": "427c73aa",
   "metadata": {},
   "source": [
    "# Creating KODIS Corpus Object"
   ]
  },
  {
   "cell_type": "markdown",
   "id": "7098bf69",
   "metadata": {},
   "source": [
    "### Create Corpus"
   ]
  },
  {
   "cell_type": "code",
   "execution_count": 2,
   "id": "0a0f8710",
   "metadata": {},
   "outputs": [
    {
     "name": "stderr",
     "output_type": "stream",
     "text": [
      "/Users/mishkin/Desktop/Research/Convo_Kit/ConvoKit_Disputes/src/modules/DataPreprocesser.py:111: FutureWarning: Setting an item of incompatible dtype is deprecated and will raise an error in a future version of pandas. Value '1702723625' has dtype incompatible with float64, please explicitly cast to a compatible dtype first.\n",
      "  self.utterancesDF.loc[13988, 'timestamp']= '1702723625'\n"
     ]
    },
    {
     "name": "stdout",
     "output_type": "stream",
     "text": [
      "2107\n"
     ]
    },
    {
     "name": "stderr",
     "output_type": "stream",
     "text": [
      "27498it [00:00, 56260.50it/s]\n"
     ]
    }
   ],
   "source": [
    "filepath = \"/Users/mishkin/Desktop/Research/Convo_Kit/ConvoKit_Disputes/data/preprocessed_dyads.csv\"\n",
    "final_data = DataPreprocesser(filepath)\n",
    "test_corp= corp.corpusBuilder(final_data)"
   ]
  },
  {
   "cell_type": "code",
   "execution_count": 3,
   "id": "e567ddb2",
   "metadata": {},
   "outputs": [
    {
     "name": "stdout",
     "output_type": "stream",
     "text": [
      "Number of Speakers: 4214\n",
      "Number of Utterances: 27498\n",
      "Number of Conversations: 2107\n"
     ]
    }
   ],
   "source": [
    "test_corp.print_summary_stats()"
   ]
  },
  {
   "cell_type": "markdown",
   "id": "0c85c7c9",
   "metadata": {},
   "source": [
    "### Add conversation lengths as conversation metadata\n",
    "- 1 is \"impasse\"\n",
    "- 0 is \"success\""
   ]
  },
  {
   "cell_type": "code",
   "execution_count": 4,
   "id": "bd8aa693",
   "metadata": {},
   "outputs": [
    {
     "name": "stdout",
     "output_type": "stream",
     "text": [
      "Length of conversation: 14\n"
     ]
    }
   ],
   "source": [
    "for convo in test_corp.iter_conversations():\n",
    "    convo_len = len(convo.get_utterance_ids())  # Count utterances in the conversation\n",
    "    convo.add_meta(\"convo_len\", convo_len)      # Store as conversation-level metadata\n",
    "    some_convo = test_corp.get_conversation(\"utt0_con0\")\n",
    "print(\"Length of conversation:\", some_convo.retrieve_meta(\"convo_len\"))"
   ]
  },
  {
   "cell_type": "markdown",
   "id": "dde6620f",
   "metadata": {},
   "source": [
    "### Add Conversation Labels from Final Pre-processed Dataframe as conversation metadata"
   ]
  },
  {
   "cell_type": "code",
   "execution_count": 5,
   "id": "0f35e516",
   "metadata": {},
   "outputs": [],
   "source": [
    "for idx, row in final_data.getDataframe().iterrows():\n",
    "    convo_id = f\"utt0_con{idx}\"  # generate conversation_id format from index\n",
    "    label = row[\"dispute_outcome\"]  # update if your label column is named differently\n",
    "    if convo_id in test_corp.conversations:\n",
    "        test_corp.get_conversation(convo_id).meta[\"label\"] = label"
   ]
  },
  {
   "cell_type": "markdown",
   "id": "7489f519",
   "metadata": {},
   "source": [
    "# Creating Forecaster and Model Objects"
   ]
  },
  {
   "cell_type": "markdown",
   "id": "67ee0482",
   "metadata": {},
   "source": [
    "### CMV Model and Forecaster Object"
   ]
  },
  {
   "cell_type": "code",
   "execution_count": 6,
   "id": "9c115eff",
   "metadata": {},
   "outputs": [
    {
     "name": "stdout",
     "output_type": "stream",
     "text": [
      "Downloading craft-cmv-finetuned to /Users/mishkin/.convokit/saved-models/craft-cmv-finetuned\n",
      "Downloading craft-cmv-finetuned/craft_full.tar from https://zissou.infosci.cornell.edu/convokit/models/craft_cmv/craft_full.tar (548.7MB)... Done\n",
      "Downloading craft-cmv-finetuned/index2word.json from https://zissou.infosci.cornell.edu/convokit/models/craft_cmv/index2word.json (1.0MB)... Done\n",
      "Downloading craft-cmv-finetuned/word2index.json from https://zissou.infosci.cornell.edu/convokit/models/craft_cmv/word2index.json (928.0KB)... Done\n"
     ]
    }
   ],
   "source": [
    "model2 = CRAFTModel(\n",
    "    initial_weights= \"craft-cmv-finetuned\",  # or \"craft-wiki-finetuned\"\n",
    "    torch_device=\"cuda\" if torch.cuda.is_available() else \"cpu\"\n",
    ")"
   ]
  },
  {
   "cell_type": "code",
   "execution_count": 7,
   "id": "cca2a6e5",
   "metadata": {},
   "outputs": [],
   "source": [
    "# Use 'label' because we added it to conversation.meta[\"label\"]\n",
    "forecaster2 = Forecaster(\n",
    "    forecaster_model=model2,\n",
    "    labeler=\"label\",  # uses conversation.meta[\"label\"]\n",
    "    forecast_attribute_name=\"prediction\",\n",
    "    forecast_prob_attribute_name=\"pred_score\"\n",
    ")"
   ]
  },
  {
   "cell_type": "markdown",
   "id": "2379f345",
   "metadata": {},
   "source": [
    "### Wiki Model and Forecaster Object"
   ]
  },
  {
   "cell_type": "code",
   "execution_count": 8,
   "id": "6f3248bf",
   "metadata": {},
   "outputs": [
    {
     "name": "stdout",
     "output_type": "stream",
     "text": [
      "Downloading craft-wiki-finetuned to /Users/mishkin/.convokit/saved-models/craft-wiki-finetuned\n",
      "Downloading craft-wiki-finetuned/craft_full.tar from https://zissou.infosci.cornell.edu/convokit/models/craft_wikiconv/craft_full.tar (548.6MB)... Done\n",
      "Downloading craft-wiki-finetuned/index2word.json from https://zissou.infosci.cornell.edu/convokit/models/craft_wikiconv/index2word.json (998.5KB)... Done\n",
      "Downloading craft-wiki-finetuned/word2index.json from https://zissou.infosci.cornell.edu/convokit/models/craft_wikiconv/word2index.json (898.4KB)... Done\n"
     ]
    }
   ],
   "source": [
    "model = CRAFTModel(\n",
    "    initial_weights= \"craft-wiki-finetuned\",  # or \"craft-wiki-finetuned\"\n",
    "    torch_device=\"cuda\" if torch.cuda.is_available() else \"cpu\"\n",
    ")"
   ]
  },
  {
   "cell_type": "code",
   "execution_count": 9,
   "id": "79b466b0",
   "metadata": {},
   "outputs": [],
   "source": [
    "# Use 'label' because we added it to conversation.meta[\"label\"]\n",
    "forecaster = Forecaster(\n",
    "    forecaster_model=model,\n",
    "    labeler=\"label\",  # uses conversation.meta[\"label\"]\n",
    "    forecast_attribute_name=\"prediction\",\n",
    "    forecast_prob_attribute_name=\"pred_score\"\n",
    ")"
   ]
  },
  {
   "cell_type": "markdown",
   "id": "a61e76c7",
   "metadata": {},
   "source": [
    "# Model Weight Info"
   ]
  },
  {
   "cell_type": "markdown",
   "id": "18e21c65",
   "metadata": {},
   "source": [
    "### **craft‑wiki‑pretrained**\n",
    "\n",
    "- Contains only the utterance and context encoder layers pre‑trained on the CGA‑Wikipedia data (via next‑comment prediction), but its classifier head (the SingleTargetClf) is still at its random initialization.\n",
    "\n",
    "- Intended as a starting point if you want to fine‑tune CRAFT on your own conversational data (you’ll call fit to learn the classifier weights).\n",
    "\n",
    "### **craft‑wiki‑finetuned**\n",
    "- Builds on the above by having already fine‑tuned the entire network (including the classifier head).\n",
    "- Ready for inference only—you can call transform immediately and get sensible forecasts without any further training."
   ]
  },
  {
   "cell_type": "markdown",
   "id": "9cf3f28d",
   "metadata": {},
   "source": [
    "# Run predictions on fine-tuned WIKI dataset with CRAFT model"
   ]
  },
  {
   "cell_type": "markdown",
   "id": "2b1f608f",
   "metadata": {},
   "source": [
    "### Fresh Kodis Corpus"
   ]
  },
  {
   "cell_type": "code",
   "execution_count": 10,
   "id": "03fa3bda",
   "metadata": {},
   "outputs": [
    {
     "name": "stderr",
     "output_type": "stream",
     "text": [
      "27498it [00:01, 23682.26it/s]\n"
     ]
    }
   ],
   "source": [
    "test_corp= corp.corpusBuilder(final_data)\n",
    "for idx, row in final_data.getDataframe().iterrows():\n",
    "    convo_id = f\"utt0_con{idx}\"  # generate conversation_id format from index\n",
    "    label = row[\"dispute_outcome\"]  # update if your label column is named differently\n",
    "    if convo_id in test_corp.conversations:\n",
    "        test_corp.get_conversation(convo_id).meta[\"label\"] = label"
   ]
  },
  {
   "cell_type": "markdown",
   "id": "45ccf238",
   "metadata": {},
   "source": [
    "### Make predictions as conversation evolves (temporally) - When will this conversation derail?"
   ]
  },
  {
   "cell_type": "code",
   "execution_count": null,
   "id": "183436cf",
   "metadata": {},
   "outputs": [],
   "source": [
    "test_corp = forecaster.transform(test_corp)"
   ]
  },
  {
   "cell_type": "code",
   "execution_count": 12,
   "id": "1d2d3940",
   "metadata": {},
   "outputs": [
    {
     "name": "stdout",
     "output_type": "stream",
     "text": [
      "Accuracy     0.450403\n",
      "Precision    0.233220\n",
      "Recall       0.927224\n",
      "FPR          0.651498\n",
      "F1           0.372698\n",
      "dtype: float64\n"
     ]
    },
    {
     "data": {
      "image/png": "[encoded data removed]",
      "text/plain": [
       "<Figure size 640x480 with 1 Axes>"
      ]
     },
     "metadata": {},
     "output_type": "display_data"
    },
    {
     "name": "stdout",
     "output_type": "stream",
     "text": [
      "Horizon statistics (# of comments between first positive forecast and conversation end):\n",
      "Mean = 9.723837209302326, Median = 9.0\n"
     ]
    },
    {
     "data": {
      "text/plain": [
       "(                 label     score  forecast\n",
       " conversation_id                           \n",
       " utt0_con0            0  0.481174       0.0\n",
       " utt0_con1            0  0.785086       1.0\n",
       " utt0_con2            0  0.540673       0.0\n",
       " utt0_con3            0  0.376359       0.0\n",
       " utt0_con4            0  0.868184       1.0\n",
       " ...                ...       ...       ...\n",
       " utt0_con2102         0  0.677453       1.0\n",
       " utt0_con2103         1  0.954360       1.0\n",
       " utt0_con2104         0  0.645120       1.0\n",
       " utt0_con2105         0  0.737709       1.0\n",
       " utt0_con2106         0  0.264288       0.0\n",
       " \n",
       " [2107 rows x 3 columns],\n",
       " {'Accuracy': np.float64(0.4504034171808258),\n",
       "  'Precision': np.float64(0.23322033898305083),\n",
       "  'Recall': np.float64(0.9272237196765498),\n",
       "  'FPR': np.float64(0.6514976958525346),\n",
       "  'F1': np.float64(0.37269772481040087)})"
      ]
     },
     "execution_count": 12,
     "metadata": {},
     "output_type": "execute_result"
    }
   ],
   "source": [
    "forecaster.summarize(test_corp)"
   ]
  },
  {
   "cell_type": "markdown",
   "id": "9d9c96d1",
   "metadata": {},
   "source": [
    "### Make predictions on last utterance only (classification) - Is this a derailed conversation?"
   ]
  },
  {
   "cell_type": "code",
   "execution_count": 13,
   "id": "c2dcdfea",
   "metadata": {},
   "outputs": [
    {
     "name": "stderr",
     "output_type": "stream",
     "text": [
      "27498it [00:00, 70236.09it/s]\n"
     ]
    }
   ],
   "source": [
    "test_corp2= corp.corpusBuilder(final_data)\n",
    "for idx, row in final_data.getDataframe().iterrows():\n",
    "    convo_id = f\"utt0_con{idx}\"  # generate conversation_id format from index\n",
    "    label = row[\"dispute_outcome\"]  # update if your label column is named differently\n",
    "    if convo_id in test_corp2.conversations:\n",
    "        test_corp2.get_conversation(convo_id).meta[\"label\"] = label"
   ]
  },
  {
   "cell_type": "code",
   "execution_count": null,
   "id": "b17dcab6",
   "metadata": {},
   "outputs": [],
   "source": [
    "def last_utterance_selector(context_tuple):\n",
    "    all_utts = context_tuple.current_utterance.get_conversation().get_chronological_utterance_list()\n",
    "    return context_tuple.current_utterance.id == all_utts[-1].id\n",
    "\n",
    "test_corp_classification = forecaster.transform(test_corp2, last_utterance_selector)"
   ]
  },
  {
   "cell_type": "code",
   "execution_count": 15,
   "id": "fc0c12b4",
   "metadata": {},
   "outputs": [
    {
     "name": "stdout",
     "output_type": "stream",
     "text": [
      "Accuracy     0.831989\n",
      "Precision    0.517454\n",
      "Recall       0.679245\n",
      "FPR          0.135369\n",
      "F1           0.587413\n",
      "dtype: float64\n"
     ]
    },
    {
     "data": {
      "image/png": "[encoded data removed]",
      "text/plain": [
       "<Figure size 640x480 with 1 Axes>"
      ]
     },
     "metadata": {},
     "output_type": "display_data"
    },
    {
     "name": "stdout",
     "output_type": "stream",
     "text": [
      "Horizon statistics (# of comments between first positive forecast and conversation end):\n",
      "Mean = 1.0, Median = 1.0\n"
     ]
    }
   ],
   "source": [
    "convo_df, metrics = forecaster.summarize(test_corp2)"
   ]
  },
  {
   "cell_type": "markdown",
   "id": "ac692267",
   "metadata": {},
   "source": [
    "# Run predictions on fine-tuned REDDIT CMV dataset with CRAFT model"
   ]
  },
  {
   "cell_type": "markdown",
   "id": "0563dd97",
   "metadata": {},
   "source": [
    "### Fresh Kodis Corpus"
   ]
  },
  {
   "cell_type": "code",
   "execution_count": 16,
   "id": "72be63f8",
   "metadata": {},
   "outputs": [
    {
     "name": "stderr",
     "output_type": "stream",
     "text": [
      "27498it [00:00, 40008.33it/s]\n"
     ]
    }
   ],
   "source": [
    "test_corp3= corp.corpusBuilder(final_data)\n",
    "for idx, row in final_data.getDataframe().iterrows():\n",
    "    convo_id = f\"utt0_con{idx}\"  # generate conversation_id format from index\n",
    "    label = row[\"dispute_outcome\"]  # update if your label column is named differently\n",
    "    if convo_id in test_corp3.conversations:\n",
    "        test_corp3.get_conversation(convo_id).meta[\"label\"] = label\n"
   ]
  },
  {
   "cell_type": "markdown",
   "id": "780b3311",
   "metadata": {},
   "source": [
    "### Make predictions as conversation evolves (temporally) - When will this conversation derail?"
   ]
  },
  {
   "cell_type": "code",
   "execution_count": null,
   "id": "aad0e139",
   "metadata": {},
   "outputs": [],
   "source": [
    "test_corp3 = forecaster2.transform(test_corp3)"
   ]
  },
  {
   "cell_type": "code",
   "execution_count": 18,
   "id": "843f01c4",
   "metadata": {},
   "outputs": [
    {
     "name": "stdout",
     "output_type": "stream",
     "text": [
      "Accuracy     0.240152\n",
      "Precision    0.174603\n",
      "Recall       0.889488\n",
      "FPR          0.898618\n",
      "F1           0.291906\n",
      "dtype: float64\n"
     ]
    },
    {
     "data": {
      "image/png": "[encoded data removed]",
      "text/plain": [
       "<Figure size 640x480 with 1 Axes>"
      ]
     },
     "metadata": {},
     "output_type": "display_data"
    },
    {
     "name": "stdout",
     "output_type": "stream",
     "text": [
      "Horizon statistics (# of comments between first positive forecast and conversation end):\n",
      "Mean = 10.006060606060606, Median = 9.0\n"
     ]
    }
   ],
   "source": [
    "convo_df, metrics = forecaster2.summarize(test_corp3)"
   ]
  },
  {
   "cell_type": "markdown",
   "id": "febfeecc",
   "metadata": {},
   "source": [
    "### Make predictions on last utterance only (classification) - Is this a derailed conversation?\n"
   ]
  },
  {
   "cell_type": "code",
   "execution_count": 19,
   "id": "fca8a7e5",
   "metadata": {},
   "outputs": [
    {
     "name": "stderr",
     "output_type": "stream",
     "text": [
      "27498it [00:00, 70695.85it/s]\n"
     ]
    }
   ],
   "source": [
    "test_corp5= corp.corpusBuilder(final_data)\n",
    "for idx, row in final_data.getDataframe().iterrows():\n",
    "    convo_id = f\"utt0_con{idx}\"  # generate conversation_id format from index\n",
    "    label = row[\"dispute_outcome\"]  # update if your label column is named differently\n",
    "    if convo_id in test_corp5.conversations:\n",
    "        test_corp5.get_conversation(convo_id).meta[\"label\"] = label"
   ]
  },
  {
   "cell_type": "code",
   "execution_count": null,
   "id": "d54da2fd",
   "metadata": {},
   "outputs": [],
   "source": [
    "def last_utterance_selector(context_tuple):\n",
    "    all_utts = context_tuple.current_utterance.get_conversation().get_chronological_utterance_list()\n",
    "    return context_tuple.current_utterance.id == all_utts[-1].id\n",
    "\n",
    "test_corp_classification = forecaster.transform(test_corp5, last_utterance_selector)"
   ]
  },
  {
   "cell_type": "code",
   "execution_count": 21,
   "id": "5deacf8f",
   "metadata": {},
   "outputs": [
    {
     "name": "stdout",
     "output_type": "stream",
     "text": [
      "Accuracy     0.831989\n",
      "Precision    0.517454\n",
      "Recall       0.679245\n",
      "FPR          0.135369\n",
      "F1           0.587413\n",
      "dtype: float64\n"
     ]
    },
    {
     "data": {
      "image/png": "[encoded data removed]",
      "text/plain": [
       "<Figure size 640x480 with 1 Axes>"
      ]
     },
     "metadata": {},
     "output_type": "display_data"
    },
    {
     "name": "stdout",
     "output_type": "stream",
     "text": [
      "Horizon statistics (# of comments between first positive forecast and conversation end):\n",
      "Mean = 1.0, Median = 1.0\n"
     ]
    },
    {
     "data": {
      "text/plain": [
       "(                 label     score  forecast\n",
       " conversation_id                           \n",
       " utt0_con0            0  0.374480       0.0\n",
       " utt0_con1            0  0.673291       1.0\n",
       " utt0_con2            0  0.407664       0.0\n",
       " utt0_con3            0  0.188250       0.0\n",
       " utt0_con4            0  0.166284       0.0\n",
       " ...                ...       ...       ...\n",
       " utt0_con2102         0  0.326548       0.0\n",
       " utt0_con2103         1  0.762463       1.0\n",
       " utt0_con2104         0  0.463558       0.0\n",
       " utt0_con2105         0  0.270675       0.0\n",
       " utt0_con2106         0  0.088958       0.0\n",
       " \n",
       " [2107 rows x 3 columns],\n",
       " {'Accuracy': np.float64(0.8319886093972473),\n",
       "  'Precision': np.float64(0.5174537987679672),\n",
       "  'Recall': np.float64(0.6792452830188679),\n",
       "  'FPR': np.float64(0.13536866359447006),\n",
       "  'F1': np.float64(0.5874125874125874)})"
      ]
     },
     "execution_count": 21,
     "metadata": {},
     "output_type": "execute_result"
    }
   ],
   "source": [
    "forecaster2.summarize(test_corp_classification)"
   ]
  },
  {
   "cell_type": "markdown",
   "id": "0fef5cd3",
   "metadata": {},
   "source": [
    "# Run predictions on test sets for CMV and WIKI datasets using respecitve fine-tuned CRAFT Models (todo)"
   ]
  },
  {
   "cell_type": "code",
   "execution_count": null,
   "id": "bcd6cd00",
   "metadata": {},
   "outputs": [],
   "source": []
  },
  {
   "cell_type": "markdown",
   "id": "e745666e",
   "metadata": {},
   "source": [
    "# Comparing fine-tuned Models on KODIS Corpus"
   ]
  },
  {
   "cell_type": "markdown",
   "id": "90861a08",
   "metadata": {},
   "source": [
    "### Running predictions on both fine-tuned wiki and cmv CRAFT models temporally on all utterances"
   ]
  },
  {
   "cell_type": "code",
   "execution_count": null,
   "id": "d4f125f8",
   "metadata": {},
   "outputs": [],
   "source": [
    "import pandas as pd\n",
    "import matplotlib.pyplot as plt\n",
    "from sklearn.metrics import roc_auc_score, accuracy_score, f1_score\n",
    "from convokit import Corpus, Forecaster, CRAFTModel\n",
    "from modules.DataPreprocesser import DataPreprocesser  # adjust imports to your project structure\n",
    "from modules import CorpusUtils as corp\n",
    "\n",
    "\n",
    "# corpusBuilder should return a ConvoKit Corpus\n",
    "corp1 = corp.corpusBuilder(final_data)\n",
    "corp2 = corp.corpusBuilder(final_data)\n",
    "\n",
    "# Assign conversation-level labels\n",
    "for idx, row in final_data.getDataframe().iterrows():\n",
    "    convo_id = f\"utt0_con{idx}\"\n",
    "    label = row[\"dispute_outcome\"]\n",
    "    if convo_id in corp1.conversations:\n",
    "        corp1.get_conversation(convo_id).meta[\"label\"] = label\n",
    "    if convo_id in corp2.conversations:\n",
    "        corp2.get_conversation(convo_id).meta[\"label\"] = label\n",
    "\n",
    "# 2. Initialize two forecasters with different CRAFT weights\n",
    "device = \"cuda\" if torch.cuda.is_available() else \"cpu\"\n",
    "craft_wiki = CRAFTModel(\"craft-wiki-finetuned\", torch_device=device)\n",
    "craft_cmv  = CRAFTModel(\"craft-cmv-finetuned\",  torch_device=device)\n",
    "forecaster1 = Forecaster(craft_wiki, \"label\")\n",
    "forecaster2 = Forecaster(craft_cmv,  \"label\")\n",
    "\n",
    "# 3. Helper to apply transform and return utterance-level DataFrame\n",
    "\n",
    "def get_forecast_df(forecaster, corpus, selector=lambda ctx: True):\n",
    "    # Annotate the corpus\n",
    "    annotated = forecaster.transform(corpus, selector)\n",
    "    # Extract utterance-level DataFrame\n",
    "    return annotated\n",
    "\n",
    "# 4. Transform both corpora\n",
    "corp1 = get_forecast_df(forecaster1, corp1)\n",
    "corp2 = get_forecast_df(forecaster2, corp2)\n"
   ]
  },
  {
   "cell_type": "markdown",
   "id": "3e5d2415",
   "metadata": {},
   "source": [
    "### Getting average derailement prediction and frequency of forecast probabilities across all utterances"
   ]
  },
  {
   "cell_type": "code",
   "execution_count": 23,
   "id": "b681cd9f",
   "metadata": {},
   "outputs": [
    {
     "name": "stdout",
     "output_type": "stream",
     "text": [
      "Summary statistics for forecast probabilities:\n",
      "           mean_prob  std_prob  median_prob\n",
      "corp-wiki   0.440724  0.267856     0.381885\n",
      "corp-cmv    0.541044  0.271951     0.528305\n"
     ]
    },
    {
     "data": {
      "image/png": "[encoded data removed]",
      "text/plain": [
       "<Figure size 800x400 with 1 Axes>"
      ]
     },
     "metadata": {},
     "output_type": "display_data"
    }
   ],
   "source": [
    "import pandas as pd\n",
    "import matplotlib.pyplot as plt\n",
    "from sklearn.metrics import roc_auc_score, accuracy_score, f1_score\n",
    "\n",
    "# 1) extract the utterance‑level DataFrames from the two corpora\n",
    "utt_df1 = corp1.get_utterances_dataframe()\n",
    "utt_df2 = corp2.get_utterances_dataframe()\n",
    "\n",
    "\n",
    "# 5. Keep only the forecast columns and drop NA\n",
    "forecast_df1 = utt_df1[['meta.forecast', 'meta.forecast_prob']].dropna()\n",
    "forecast_df2 = utt_df2[['meta.forecast', 'meta.forecast_prob']].dropna()\n",
    "\n",
    "# 6. Summary statistics\n",
    "summary = pd.DataFrame({\n",
    "    'mean_prob':  [forecast_df1['meta.forecast_prob'].mean(),  forecast_df2['meta.forecast_prob'].mean()],\n",
    "    'std_prob':   [forecast_df1['meta.forecast_prob'].std(),   forecast_df2['meta.forecast_prob'].std()],\n",
    "    'median_prob':[forecast_df1['meta.forecast_prob'].median(),forecast_df2['meta.forecast_prob'].median()],\n",
    "}, index=['corp-wiki', 'corp-cmv'])\n",
    "print(\"Summary statistics for forecast probabilities:\")\n",
    "print(summary)\n",
    "\n",
    "# 7. Plot histograms\n",
    "plt.figure(figsize=(8,4))\n",
    "plt.hist(forecast_df1['meta.forecast_prob'], bins=50, alpha=0.6, label='craft-wiki')\n",
    "plt.hist(forecast_df2['meta.forecast_prob'], bins=50, alpha=0.6, label='craft-cmv')\n",
    "plt.xlabel('Forecast probability')\n",
    "plt.ylabel('Count')\n",
    "plt.legend()\n",
    "plt.show()\n"
   ]
  },
  {
   "cell_type": "markdown",
   "id": "bbfd82c2",
   "metadata": {},
   "source": [
    "### Conversation-level AUC and PR Curves\n",
    "to create these plots, I looked at [Forecasters](https://github.com/CornellNLP/ConvoKit/blob/master/convokit/forecaster/forecaster.py#L139) code for aggregating utternce-levele metrics on a conversation level where:\n",
    "- np.max(forecast_scores) is highest probability the model ever assigned to this conversation\n",
    "- np.max(forecasts) is if the model ever cross its decision threshold and predict 1 (derailement) for thsi conversation\n",
    "### Insights\n",
    "- baseline positive class rate (successful dispute) for KODIS is 17.6%.\n",
    "- PR curve bottoms out at baseline accuracy wuth higher decision thresholds, so no presicion-accuracy trade-off. Essesntially, lower decision threshold -> model is as good as baseline posititve rate, so never predicts derailment. Probably due to high impassee/success class imbalance\n",
    "- AUC still looks high for both bc of the class imbalance for derailement disputes I think"
   ]
  },
  {
   "cell_type": "code",
   "execution_count": 66,
   "id": "bbd3d086",
   "metadata": {},
   "outputs": [
    {
     "data": {
      "text/plain": [
       "meta.label\n",
       "0    1736\n",
       "1     371\n",
       "Name: count, dtype: int64"
      ]
     },
     "metadata": {},
     "output_type": "display_data"
    },
    {
     "name": "stdout",
     "output_type": "stream",
     "text": [
      "Positive class rate: 17.61%\n",
      "Baseline accuracy (derailement): 0.176\n"
     ]
    },
    {
     "data": {
      "image/png": "[encoded data removed]",
      "text/plain": [
       "<Figure size 1200x500 with 2 Axes>"
      ]
     },
     "metadata": {},
     "output_type": "display_data"
    }
   ],
   "source": [
    "import matplotlib.pyplot as plt\n",
    "from sklearn.metrics import roc_curve, precision_recall_curve, auc\n",
    "import numpy as np\n",
    "\n",
    "def get_conv_level_scores(corpus):\n",
    "    # 1) grab all utterances with a forecast\n",
    "    utt = (corpus\n",
    "            .get_utterances_dataframe()[['conversation_id','meta.forecast_prob']]\n",
    "            .dropna())\n",
    "    conv_scores = utt.groupby('conversation_id')['meta.forecast_prob'].max()\n",
    "    conv_df = corpus.get_conversations_dataframe()\n",
    "    conv_scores = conv_scores.reindex(conv_df.index, fill_value=0)\n",
    "    y_true = conv_df['meta.label'].astype(int)\n",
    "    y_scores = conv_scores.values\n",
    "    return y_true, y_scores\n",
    "\n",
    "def print_baseline_accuracy(corpus, label_field=\"label\"):\n",
    "    # pull out the conversation‑level labels\n",
    "    conv_df = corpus.get_conversations_dataframe()[[f\"meta.{label_field}\"]]\n",
    "    \n",
    "    # count each class\n",
    "    counts = conv_df[\"meta.label\"].value_counts()\n",
    "    min_label = counts.idxmin()    \n",
    "    min_count = counts.min()      \n",
    "    total     = counts.sum()\n",
    "    baseline_acc = min_count / total\n",
    "    print(f\"Baseline accuracy (derailement): {baseline_acc:.3f}\")\n",
    "    \n",
    "\n",
    "\n",
    "conv_df = corp1.get_conversations_dataframe()[[f\"meta.label\"]]\n",
    "display(conv_df[\"meta.label\"].value_counts())\n",
    "y1, s1 = get_conv_level_scores(corp1)\n",
    "y2, s2 = get_conv_level_scores(corp2)\n",
    "\n",
    "positive_rate = np.mean(y1)\n",
    "print(f\"Positive class rate: {positive_rate:.2%}\")\n",
    "print_baseline_accuracy(corp1)\n",
    "\n",
    "# compute ROC and PR metrics\n",
    "fpr1, tpr1, _    = roc_curve(y1, s1)\n",
    "roc_auc1         = auc(fpr1, tpr1)\n",
    "fpr2, tpr2, _    = roc_curve(y2, s2)\n",
    "roc_auc2         = auc(fpr2, tpr2)\n",
    "\n",
    "prec1, rec1, _   = precision_recall_curve(y1, s1)\n",
    "pr_auc1          = auc(rec1, prec1)\n",
    "prec2, rec2, _   = precision_recall_curve(y2, s2)\n",
    "pr_auc2          = auc(rec2, prec2)\n",
    "\n",
    "# plot side‑by‑side\n",
    "fig, (ax_roc, ax_pr) = plt.subplots(1, 2, figsize=(12,5))\n",
    "\n",
    "# ROC panel\n",
    "ax_roc.plot(fpr1, tpr1, label=f'corp-wiki (AUC={roc_auc1:.3f})')\n",
    "ax_roc.plot(fpr2, tpr2, label=f'corp-cmv (AUC={roc_auc2:.3f})')\n",
    "ax_roc.set_xlabel('False Positive Rate')\n",
    "ax_roc.set_ylabel('True Positive Rate')\n",
    "ax_roc.set_title('ROC Curves')\n",
    "ax_roc.legend()\n",
    "\n",
    "# PR panel\n",
    "ax_pr.plot(rec1, prec1, label=f'corp-wiki (AUC={pr_auc1:.3f})')\n",
    "ax_pr.plot(rec2, prec2, label=f'corp-cmv (AUC={pr_auc2:.3f})')\n",
    "ax_pr.set_xlabel('Recall')\n",
    "ax_pr.set_ylabel('Precision')\n",
    "ax_pr.set_title('Precision–Recall Curves')\n",
    "ax_pr.legend()\n",
    "\n",
    "plt.tight_layout()\n",
    "plt.show()"
   ]
  },
  {
   "cell_type": "markdown",
   "id": "7f257814",
   "metadata": {},
   "source": [
    "### Comparing forcaster summaries for both fine-tuned wiki and cmv CRAFT models predictions\n",
    "- Ran using Forecasers summarize function\n",
    "### Insights\n",
    "- since our dataset has an average length of 13.5 utterances, the forecast horizon on average is 9.72 and 10 respecitvely for the WIKI and cmv models, meaning derailement is forecats towards the end of a dispute\n",
    "- on a conversation-level, accuracy of predicting derailement is pretty low and F1 scores are low"
   ]
  },
  {
   "cell_type": "code",
   "execution_count": 65,
   "id": "2593f142",
   "metadata": {},
   "outputs": [
    {
     "name": "stdout",
     "output_type": "stream",
     "text": [
      "Average conversation length in pre-process KODIS: 13.05 utterances\n",
      "Stats for fine-tuned wiki model predicitons \n",
      " -------------------\n",
      "Accuracy     0.450403\n",
      "Precision    0.233220\n",
      "Recall       0.927224\n",
      "FPR          0.651498\n",
      "F1           0.372698\n",
      "dtype: float64\n"
     ]
    },
    {
     "data": {
      "image/png": "[encoded data removed]",
      "text/plain": [
       "<Figure size 640x480 with 1 Axes>"
      ]
     },
     "metadata": {},
     "output_type": "display_data"
    },
    {
     "name": "stdout",
     "output_type": "stream",
     "text": [
      "Horizon statistics (# of comments between first positive forecast and conversation end):\n",
      "Mean = 9.723837209302326, Median = 9.0\n",
      "\n",
      "\n",
      "Stats for fine-tuned cmv model predicitons  \n",
      " -------------------\n",
      "Accuracy     0.240152\n",
      "Precision    0.174603\n",
      "Recall       0.889488\n",
      "FPR          0.898618\n",
      "F1           0.291906\n",
      "dtype: float64\n"
     ]
    },
    {
     "data": {
      "image/png": "[encoded data removed]",
      "text/plain": [
       "<Figure size 640x480 with 1 Axes>"
      ]
     },
     "metadata": {},
     "output_type": "display_data"
    },
    {
     "name": "stdout",
     "output_type": "stream",
     "text": [
      "Horizon statistics (# of comments between first positive forecast and conversation end):\n",
      "Mean = 10.006060606060606, Median = 9.0\n",
      "=== Overall metrics ===\n"
     ]
    },
    {
     "data": {
      "application/vnd.microsoft.datawrangler.viewer.v0+json": {
       "columns": [
        {
         "name": "index",
         "rawType": "object",
         "type": "string"
        },
        {
         "name": "Accuracy",
         "rawType": "float64",
         "type": "float"
        },
        {
         "name": "Precision",
         "rawType": "float64",
         "type": "float"
        },
        {
         "name": "Recall",
         "rawType": "float64",
         "type": "float"
        },
        {
         "name": "FPR",
         "rawType": "float64",
         "type": "float"
        },
        {
         "name": "F1",
         "rawType": "float64",
         "type": "float"
        }
       ],
       "conversionMethod": "pd.DataFrame",
       "ref": "d4a83bac-16df-45aa-b4fb-439df26a95e9",
       "rows": [
        [
         "corp1",
         "0.4504034171808258",
         "0.23322033898305083",
         "0.9272237196765498",
         "0.6514976958525346",
         "0.37269772481040087"
        ],
        [
         "corp2",
         "0.2401518747033697",
         "0.1746031746031746",
         "0.889487870619946",
         "0.8986175115207373",
         "0.291906236178682"
        ]
       ],
       "shape": {
        "columns": 5,
        "rows": 2
       }
      },
      "text/html": [
       "<div>\n",
       "<style scoped>\n",
       "    .dataframe tbody tr th:only-of-type {\n",
       "        vertical-align: middle;\n",
       "    }\n",
       "\n",
       "    .dataframe tbody tr th {\n",
       "        vertical-align: top;\n",
       "    }\n",
       "\n",
       "    .dataframe thead th {\n",
       "        text-align: right;\n",
       "    }\n",
       "</style>\n",
       "<table border=\"1\" class=\"dataframe\">\n",
       "  <thead>\n",
       "    <tr style=\"text-align: right;\">\n",
       "      <th></th>\n",
       "      <th>Accuracy</th>\n",
       "      <th>Precision</th>\n",
       "      <th>Recall</th>\n",
       "      <th>FPR</th>\n",
       "      <th>F1</th>\n",
       "    </tr>\n",
       "  </thead>\n",
       "  <tbody>\n",
       "    <tr>\n",
       "      <th>corp1</th>\n",
       "      <td>0.450403</td>\n",
       "      <td>0.233220</td>\n",
       "      <td>0.927224</td>\n",
       "      <td>0.651498</td>\n",
       "      <td>0.372698</td>\n",
       "    </tr>\n",
       "    <tr>\n",
       "      <th>corp2</th>\n",
       "      <td>0.240152</td>\n",
       "      <td>0.174603</td>\n",
       "      <td>0.889488</td>\n",
       "      <td>0.898618</td>\n",
       "      <td>0.291906</td>\n",
       "    </tr>\n",
       "  </tbody>\n",
       "</table>\n",
       "</div>"
      ],
      "text/plain": [
       "       Accuracy  Precision    Recall       FPR        F1\n",
       "corp1  0.450403   0.233220  0.927224  0.651498  0.372698\n",
       "corp2  0.240152   0.174603  0.889488  0.898618  0.291906"
      ]
     },
     "metadata": {},
     "output_type": "display_data"
    },
    {
     "name": "stdout",
     "output_type": "stream",
     "text": [
      "=== Conversation‑level forecasts comparison ===\n"
     ]
    },
    {
     "data": {
      "application/vnd.microsoft.datawrangler.viewer.v0+json": {
       "columns": [
        {
         "name": "conversation_id",
         "rawType": "object",
         "type": "string"
        },
        {
         "name": "label",
         "rawType": "int64",
         "type": "integer"
        },
        {
         "name": "score1",
         "rawType": "float64",
         "type": "float"
        },
        {
         "name": "forecast1",
         "rawType": "float64",
         "type": "float"
        },
        {
         "name": "score2",
         "rawType": "float64",
         "type": "float"
        },
        {
         "name": "forecast2",
         "rawType": "float64",
         "type": "float"
        }
       ],
       "conversionMethod": "pd.DataFrame",
       "ref": "608c88c3-3101-41e0-b55b-65d6f0c41538",
       "rows": [
        [
         "utt0_con0",
         "0",
         "0.48117363452911377",
         "0.0",
         "0.9125463366508484",
         "1.0"
        ],
        [
         "utt0_con1",
         "0",
         "0.7850863933563232",
         "1.0",
         "0.7985146641731262",
         "1.0"
        ],
        [
         "utt0_con2",
         "0",
         "0.540672779083252",
         "0.0",
         "0.7344536781311035",
         "1.0"
        ],
        [
         "utt0_con3",
         "0",
         "0.3763587772846222",
         "0.0",
         "0.8813527822494507",
         "1.0"
        ],
        [
         "utt0_con4",
         "0",
         "0.8681837916374207",
         "1.0",
         "0.7751695513725281",
         "1.0"
        ],
        [
         "utt0_con5",
         "0",
         "0.44974085688591003",
         "0.0",
         "0.39064937829971313",
         "0.0"
        ],
        [
         "utt0_con6",
         "0",
         "0.8932183384895325",
         "1.0",
         "0.9401965737342834",
         "1.0"
        ],
        [
         "utt0_con7",
         "0",
         "0.9475294351577759",
         "1.0",
         "0.9295797944068909",
         "1.0"
        ],
        [
         "utt0_con8",
         "0",
         "0.9668788313865662",
         "1.0",
         "0.9674215316772461",
         "1.0"
        ],
        [
         "utt0_con9",
         "0",
         "0.40532758831977844",
         "0.0",
         "0.7694966793060303",
         "1.0"
        ],
        [
         "utt0_con10",
         "0",
         "0.3730466067790985",
         "0.0",
         "0.9329047799110413",
         "1.0"
        ],
        [
         "utt0_con11",
         "0",
         "0.9102243185043335",
         "1.0",
         "0.8809449672698975",
         "1.0"
        ],
        [
         "utt0_con12",
         "0",
         "0.46113356947898865",
         "0.0",
         "0.827078640460968",
         "1.0"
        ],
        [
         "utt0_con13",
         "0",
         "0.7992416620254517",
         "1.0",
         "0.9761389493942261",
         "1.0"
        ],
        [
         "utt0_con14",
         "0",
         "0.8771203756332397",
         "1.0",
         "0.7721678018569946",
         "1.0"
        ],
        [
         "utt0_con15",
         "0",
         "0.7195269465446472",
         "1.0",
         "0.40434330701828003",
         "0.0"
        ],
        [
         "utt0_con16",
         "0",
         "0.9250366687774658",
         "1.0",
         "0.880265474319458",
         "1.0"
        ],
        [
         "utt0_con17",
         "0",
         "0.370590478181839",
         "0.0",
         "0.682818591594696",
         "1.0"
        ],
        [
         "utt0_con18",
         "0",
         "0.5988754034042358",
         "1.0",
         "0.47600680589675903",
         "0.0"
        ],
        [
         "utt0_con19",
         "0",
         "0.5347643494606018",
         "0.0",
         "0.950978696346283",
         "1.0"
        ],
        [
         "utt0_con20",
         "0",
         "0.600669801235199",
         "1.0",
         "0.7565540671348572",
         "1.0"
        ],
        [
         "utt0_con21",
         "0",
         "0.8257836103439331",
         "1.0",
         "0.9573137164115906",
         "1.0"
        ],
        [
         "utt0_con22",
         "1",
         "0.7449904680252075",
         "1.0",
         "0.5256767868995667",
         "0.0"
        ],
        [
         "utt0_con23",
         "0",
         "0.390267938375473",
         "0.0",
         "0.6270741820335388",
         "1.0"
        ],
        [
         "utt0_con24",
         "0",
         "0.4226644039154053",
         "0.0",
         "0.35908791422843933",
         "0.0"
        ],
        [
         "utt0_con25",
         "0",
         "0.49122074246406555",
         "0.0",
         "0.8584033846855164",
         "1.0"
        ],
        [
         "utt0_con26",
         "1",
         "0.9714975357055664",
         "1.0",
         "0.963634729385376",
         "1.0"
        ],
        [
         "utt0_con27",
         "1",
         "0.9742338061332703",
         "1.0",
         "0.9107069969177246",
         "1.0"
        ],
        [
         "utt0_con28",
         "0",
         "0.744687020778656",
         "1.0",
         "0.5072246193885803",
         "0.0"
        ],
        [
         "utt0_con29",
         "0",
         "0.4755977392196655",
         "0.0",
         "0.9298385381698608",
         "1.0"
        ],
        [
         "utt0_con30",
         "0",
         "0.9258947968482971",
         "1.0",
         "0.9538018107414246",
         "1.0"
        ],
        [
         "utt0_con31",
         "1",
         "0.8366966247558594",
         "1.0",
         "0.9097023010253906",
         "1.0"
        ],
        [
         "utt0_con32",
         "0",
         "0.9455172419548035",
         "1.0",
         "0.9181221723556519",
         "1.0"
        ],
        [
         "utt0_con33",
         "0",
         "0.8728346824645996",
         "1.0",
         "0.9145419001579285",
         "1.0"
        ],
        [
         "utt0_con34",
         "1",
         "0.967854380607605",
         "1.0",
         "0.8811183571815491",
         "1.0"
        ],
        [
         "utt0_con35",
         "0",
         "0.8793951869010925",
         "1.0",
         "0.5294712781906128",
         "0.0"
        ],
        [
         "utt0_con36",
         "0",
         "0.4440714418888092",
         "0.0",
         "0.9178435206413269",
         "1.0"
        ],
        [
         "utt0_con37",
         "0",
         "0.3757551312446594",
         "0.0",
         "0.7369399666786194",
         "1.0"
        ],
        [
         "utt0_con38",
         "0",
         "0.6205571889877319",
         "1.0",
         "0.8062269687652588",
         "1.0"
        ],
        [
         "utt0_con39",
         "0",
         "0.35369673371315",
         "0.0",
         "0.8219190835952759",
         "1.0"
        ],
        [
         "utt0_con40",
         "1",
         "0.9572835564613342",
         "1.0",
         "0.9024709463119507",
         "1.0"
        ],
        [
         "utt0_con41",
         "1",
         "0.9413420557975769",
         "1.0",
         "0.35422632098197937",
         "0.0"
        ],
        [
         "utt0_con42",
         "0",
         "0.2575308680534363",
         "0.0",
         "0.6017076373100281",
         "1.0"
        ],
        [
         "utt0_con43",
         "0",
         "0.5116941332817078",
         "0.0",
         "0.7609273791313171",
         "1.0"
        ],
        [
         "utt0_con44",
         "0",
         "0.6506190896034241",
         "1.0",
         "0.7952970266342163",
         "1.0"
        ],
        [
         "utt0_con45",
         "1",
         "0.5466309785842896",
         "0.0",
         "0.9309819340705872",
         "1.0"
        ],
        [
         "utt0_con46",
         "0",
         "0.6324661374092102",
         "1.0",
         "0.7437015771865845",
         "1.0"
        ],
        [
         "utt0_con47",
         "0",
         "0.6990048885345459",
         "1.0",
         "0.552236795425415",
         "1.0"
        ],
        [
         "utt0_con48",
         "1",
         "0.6401596665382385",
         "1.0",
         "0.6824181079864502",
         "1.0"
        ],
        [
         "utt0_con49",
         "1",
         "0.9568962454795837",
         "1.0",
         "0.8791245222091675",
         "1.0"
        ]
       ],
       "shape": {
        "columns": 5,
        "rows": 2107
       }
      },
      "text/html": [
       "<div>\n",
       "<style scoped>\n",
       "    .dataframe tbody tr th:only-of-type {\n",
       "        vertical-align: middle;\n",
       "    }\n",
       "\n",
       "    .dataframe tbody tr th {\n",
       "        vertical-align: top;\n",
       "    }\n",
       "\n",
       "    .dataframe thead th {\n",
       "        text-align: right;\n",
       "    }\n",
       "</style>\n",
       "<table border=\"1\" class=\"dataframe\">\n",
       "  <thead>\n",
       "    <tr style=\"text-align: right;\">\n",
       "      <th></th>\n",
       "      <th>label</th>\n",
       "      <th>score1</th>\n",
       "      <th>forecast1</th>\n",
       "      <th>score2</th>\n",
       "      <th>forecast2</th>\n",
       "    </tr>\n",
       "    <tr>\n",
       "      <th>conversation_id</th>\n",
       "      <th></th>\n",
       "      <th></th>\n",
       "      <th></th>\n",
       "      <th></th>\n",
       "      <th></th>\n",
       "    </tr>\n",
       "  </thead>\n",
       "  <tbody>\n",
       "    <tr>\n",
       "      <th>utt0_con0</th>\n",
       "      <td>0</td>\n",
       "      <td>0.481174</td>\n",
       "      <td>0.0</td>\n",
       "      <td>0.912546</td>\n",
       "      <td>1.0</td>\n",
       "    </tr>\n",
       "    <tr>\n",
       "      <th>utt0_con1</th>\n",
       "      <td>0</td>\n",
       "      <td>0.785086</td>\n",
       "      <td>1.0</td>\n",
       "      <td>0.798515</td>\n",
       "      <td>1.0</td>\n",
       "    </tr>\n",
       "    <tr>\n",
       "      <th>utt0_con2</th>\n",
       "      <td>0</td>\n",
       "      <td>0.540673</td>\n",
       "      <td>0.0</td>\n",
       "      <td>0.734454</td>\n",
       "      <td>1.0</td>\n",
       "    </tr>\n",
       "    <tr>\n",
       "      <th>utt0_con3</th>\n",
       "      <td>0</td>\n",
       "      <td>0.376359</td>\n",
       "      <td>0.0</td>\n",
       "      <td>0.881353</td>\n",
       "      <td>1.0</td>\n",
       "    </tr>\n",
       "    <tr>\n",
       "      <th>utt0_con4</th>\n",
       "      <td>0</td>\n",
       "      <td>0.868184</td>\n",
       "      <td>1.0</td>\n",
       "      <td>0.775170</td>\n",
       "      <td>1.0</td>\n",
       "    </tr>\n",
       "    <tr>\n",
       "      <th>...</th>\n",
       "      <td>...</td>\n",
       "      <td>...</td>\n",
       "      <td>...</td>\n",
       "      <td>...</td>\n",
       "      <td>...</td>\n",
       "    </tr>\n",
       "    <tr>\n",
       "      <th>utt0_con2102</th>\n",
       "      <td>0</td>\n",
       "      <td>0.677453</td>\n",
       "      <td>1.0</td>\n",
       "      <td>0.727126</td>\n",
       "      <td>1.0</td>\n",
       "    </tr>\n",
       "    <tr>\n",
       "      <th>utt0_con2103</th>\n",
       "      <td>1</td>\n",
       "      <td>0.954360</td>\n",
       "      <td>1.0</td>\n",
       "      <td>0.890551</td>\n",
       "      <td>1.0</td>\n",
       "    </tr>\n",
       "    <tr>\n",
       "      <th>utt0_con2104</th>\n",
       "      <td>0</td>\n",
       "      <td>0.645120</td>\n",
       "      <td>1.0</td>\n",
       "      <td>0.844538</td>\n",
       "      <td>1.0</td>\n",
       "    </tr>\n",
       "    <tr>\n",
       "      <th>utt0_con2105</th>\n",
       "      <td>0</td>\n",
       "      <td>0.737709</td>\n",
       "      <td>1.0</td>\n",
       "      <td>0.950130</td>\n",
       "      <td>1.0</td>\n",
       "    </tr>\n",
       "    <tr>\n",
       "      <th>utt0_con2106</th>\n",
       "      <td>0</td>\n",
       "      <td>0.264288</td>\n",
       "      <td>0.0</td>\n",
       "      <td>0.812961</td>\n",
       "      <td>1.0</td>\n",
       "    </tr>\n",
       "  </tbody>\n",
       "</table>\n",
       "<p>2107 rows × 5 columns</p>\n",
       "</div>"
      ],
      "text/plain": [
       "                 label    score1  forecast1    score2  forecast2\n",
       "conversation_id                                                 \n",
       "utt0_con0            0  0.481174        0.0  0.912546        1.0\n",
       "utt0_con1            0  0.785086        1.0  0.798515        1.0\n",
       "utt0_con2            0  0.540673        0.0  0.734454        1.0\n",
       "utt0_con3            0  0.376359        0.0  0.881353        1.0\n",
       "utt0_con4            0  0.868184        1.0  0.775170        1.0\n",
       "...                ...       ...        ...       ...        ...\n",
       "utt0_con2102         0  0.677453        1.0  0.727126        1.0\n",
       "utt0_con2103         1  0.954360        1.0  0.890551        1.0\n",
       "utt0_con2104         0  0.645120        1.0  0.844538        1.0\n",
       "utt0_con2105         0  0.737709        1.0  0.950130        1.0\n",
       "utt0_con2106         0  0.264288        0.0  0.812961        1.0\n",
       "\n",
       "[2107 rows x 5 columns]"
      ]
     },
     "metadata": {},
     "output_type": "display_data"
    }
   ],
   "source": [
    "import pandas as pd\n",
    "from IPython.display import display\n",
    "\n",
    "lengths = [\n",
    "    len(convo.get_utterance_ids())\n",
    "    for convo in corp2.iter_conversations()\n",
    "]\n",
    "avg_len = sum(lengths) / len(lengths)\n",
    "\n",
    "print(f\"Average conversation length in pre-process KODIS: {avg_len:.2f} utterances\")\n",
    "\n",
    "print(\"Stats for fine-tuned wiki model predicitons \\n -------------------\")\n",
    "conv_df1, metrics1 = forecaster1.summarize(corp1)\n",
    "print(\"\\n\")\n",
    "print(\"Stats for fine-tuned cmv model predicitons  \\n -------------------\")\n",
    "conv_df2, metrics2 = forecaster2.summarize(corp2)\n",
    "\n",
    "metrics_df = pd.DataFrame([metrics1, metrics2], index=['corp1','corp2'])\n",
    "print(\"=== Overall metrics ===\")\n",
    "display(metrics_df)\n",
    "\n",
    "# 3) Merge the two conversation‐level forecasts side by side\n",
    "#    rename so you can see which is which\n",
    "conv1 = conv_df1.rename(columns={'label':'label','score':'score1','forecast':'forecast1'})\n",
    "conv2 = conv_df2.rename(columns={'score':'score2','forecast':'forecast2'})\n",
    "\n",
    "# join on conversation_id\n",
    "merged = conv1.join(conv2[['score2','forecast2']], how='inner')\n",
    "print(\"=== Conversation‑level forecasts comparison ===\")\n",
    "display(merged)\n"
   ]
  },
  {
   "cell_type": "markdown",
   "id": "43e30376",
   "metadata": {},
   "source": [
    "### Average length of tokenized utterances for wiki, cmv, and kodis corpora\n",
    "- CRAFT has max tokemization length of 80 tokens per utterance. Is this relevant ti the performance in anyway?"
   ]
  },
  {
   "cell_type": "code",
   "execution_count": 67,
   "id": "0355287b",
   "metadata": {},
   "outputs": [
    {
     "name": "stdout",
     "output_type": "stream",
     "text": [
      "Dataset already exists at /Users/mishkin/Desktop/Research/Convo_Kit/ConvoKit_Disputes/data/conversations-gone-awry-corpus\n",
      "Dataset already exists at /Users/mishkin/Desktop/Research/Convo_Kit/ConvoKit_Disputes/data/conversations-gone-awry-corpus/conversations-gone-awry-cmv-corpus\n"
     ]
    }
   ],
   "source": [
    "from convokit import download\n",
    "\n",
    "corpus_wiki = Corpus(filename=download(\"conversations-gone-awry-corpus\"))\n",
    "corpus_cmv = Corpus(filename=download(\"conversations-gone-awry-cmv-corpus\"))"
   ]
  },
  {
   "cell_type": "markdown",
   "id": "c5e47f8a",
   "metadata": {},
   "source": [
    "## Get tokenized utterances from training set data used in \"Trouble on the Horizon\" paper.\n",
    "- MAX_LENGTH = 80 for tokenized utterances"
   ]
  },
  {
   "cell_type": "code",
   "execution_count": null,
   "id": "59dfad34",
   "metadata": {},
   "outputs": [],
   "source": [
    "convo_ex =  next(corpus_wiki.iter_conversations())\n",
    "for key, val in convo_ex.meta.items():\n",
    "    print(f\"{key:20s} → {val}\")\n",
    "\n",
    "print(\"\\n\")\n",
    "convo_ex2 =  next(corpus_cmv.iter_conversations())\n",
    "for key, val in convo_ex2.meta.items():\n",
    "    print(f\"{key:20s} → {val}\")"
   ]
  },
  {
   "cell_type": "code",
   "execution_count": null,
   "id": "58f01fde",
   "metadata": {},
   "outputs": [],
   "source": [
    "import os\n",
    "import numpy as np\n",
    "from convokit import download, Corpus\n",
    "from convokit.forecaster.CRAFT.data import (\n",
    "    loadPrecomputedVoc,\n",
    "    tokenize,\n",
    "    Voc,\n",
    ")\n",
    "\n",
    "'''\n",
    "Need to get only the utterances used for training fine-tuned model. \n",
    "Choose only those utterances in conversations where mete.split == train\n",
    "'''\n",
    "\n",
    "def load_craft_vocab(model_name: str) -> Voc:\n",
    "    base = download(model_name, data_dir=os.path.expanduser(\"~/.convokit/models\"))\n",
    "    return loadPrecomputedVoc(\n",
    "        model_name,\n",
    "        os.path.join(base, \"word2index.json\"),\n",
    "        os.path.join(base, \"index2word.json\"),\n",
    "    )\n",
    "\n",
    "\n",
    "voc_wiki = load_craft_vocab(\"craft-wiki-finetuned\")\n",
    "voc_cmv  = load_craft_vocab(\"craft-cmv-finetuned\")\n"
   ]
  },
  {
   "cell_type": "code",
   "execution_count": 80,
   "id": "03fae09d",
   "metadata": {},
   "outputs": [
    {
     "data": {
      "application/vnd.microsoft.datawrangler.viewer.v0+json": {
       "columns": [
        {
         "name": "index",
         "rawType": "int64",
         "type": "integer"
        },
        {
         "name": "vocab",
         "rawType": "object",
         "type": "string"
        },
        {
         "name": "n_utt",
         "rawType": "float64",
         "type": "float"
        },
        {
         "name": "mean",
         "rawType": "float64",
         "type": "float"
        },
        {
         "name": "median",
         "rawType": "float64",
         "type": "float"
        },
        {
         "name": "std",
         "rawType": "float64",
         "type": "float"
        }
       ],
       "conversionMethod": "pd.DataFrame",
       "ref": "936a6ee0-3c2f-4233-bf86-2221deddf99b",
       "rows": [
        [
         "0",
         "craft‑wiki",
         "18042.0",
         "82.00133022946459",
         "47.0",
         "139.54979911961195"
        ],
        [
         "1",
         "craft‑cmv",
         "25885.0",
         "123.47247440602666",
         "72.0",
         "166.3299628565691"
        ],
        [
         "2",
         "kodis‑wiki",
         "27498.0",
         "24.15993890464761",
         "20.0",
         "20.964778803419026"
        ],
        [
         "3",
         "kodis‑cmv",
         "27498.0",
         "24.15993890464761",
         "20.0",
         "20.964778803419026"
        ]
       ],
       "shape": {
        "columns": 5,
        "rows": 4
       }
      },
      "text/html": [
       "<div>\n",
       "<style scoped>\n",
       "    .dataframe tbody tr th:only-of-type {\n",
       "        vertical-align: middle;\n",
       "    }\n",
       "\n",
       "    .dataframe tbody tr th {\n",
       "        vertical-align: top;\n",
       "    }\n",
       "\n",
       "    .dataframe thead th {\n",
       "        text-align: right;\n",
       "    }\n",
       "</style>\n",
       "<table border=\"1\" class=\"dataframe\">\n",
       "  <thead>\n",
       "    <tr style=\"text-align: right;\">\n",
       "      <th></th>\n",
       "      <th>vocab</th>\n",
       "      <th>n_utt</th>\n",
       "      <th>mean</th>\n",
       "      <th>median</th>\n",
       "      <th>std</th>\n",
       "    </tr>\n",
       "  </thead>\n",
       "  <tbody>\n",
       "    <tr>\n",
       "      <th>0</th>\n",
       "      <td>craft‑wiki</td>\n",
       "      <td>18042.0</td>\n",
       "      <td>82.001330</td>\n",
       "      <td>47.0</td>\n",
       "      <td>139.549799</td>\n",
       "    </tr>\n",
       "    <tr>\n",
       "      <th>1</th>\n",
       "      <td>craft‑cmv</td>\n",
       "      <td>25885.0</td>\n",
       "      <td>123.472474</td>\n",
       "      <td>72.0</td>\n",
       "      <td>166.329963</td>\n",
       "    </tr>\n",
       "    <tr>\n",
       "      <th>2</th>\n",
       "      <td>kodis‑wiki</td>\n",
       "      <td>27498.0</td>\n",
       "      <td>24.159939</td>\n",
       "      <td>20.0</td>\n",
       "      <td>20.964779</td>\n",
       "    </tr>\n",
       "    <tr>\n",
       "      <th>3</th>\n",
       "      <td>kodis‑cmv</td>\n",
       "      <td>27498.0</td>\n",
       "      <td>24.159939</td>\n",
       "      <td>20.0</td>\n",
       "      <td>20.964779</td>\n",
       "    </tr>\n",
       "  </tbody>\n",
       "</table>\n",
       "</div>"
      ],
      "text/plain": [
       "        vocab    n_utt        mean  median         std\n",
       "0  craft‑wiki  18042.0   82.001330    47.0  139.549799\n",
       "1   craft‑cmv  25885.0  123.472474    72.0  166.329963\n",
       "2  kodis‑wiki  27498.0   24.159939    20.0   20.964779\n",
       "3   kodis‑cmv  27498.0   24.159939    20.0   20.964779"
      ]
     },
     "metadata": {},
     "output_type": "display_data"
    }
   ],
   "source": [
    "\"\"\"\n",
    "    Walk through all conversations in `corpus`, select only those with\n",
    "    convo.meta[\"split\"] == split, tokenize each utterance via CRAFT's\n",
    "    tokenize(voc, text), and return summary stats on token counts.\n",
    "\"\"\"\n",
    "def summarize_token_lengths(corpus: Corpus, voc: Voc, split: str = None):\n",
    "    lengths = []\n",
    "    for convo in corpus.iter_conversations():\n",
    "        # if a split is specified, filter; otherwise include everything\n",
    "        if split is not None and convo.meta.get(\"split\") != split:\n",
    "            continue\n",
    "        for utt in convo.iter_utterances():\n",
    "            toks = tokenize(voc, utt.text or \"\")\n",
    "            lengths.append(len(toks))\n",
    "    if not lengths:\n",
    "        return {\"n_utt\": 0, \"mean\": np.nan, \"median\": np.nan, \"std\": np.nan}\n",
    "    arr = np.array(lengths)\n",
    "    return {\n",
    "        \"n_utt\":  int(arr.size),\n",
    "        \"mean\":   float(arr.mean()),\n",
    "        \"median\": float(np.median(arr)),\n",
    "        \"std\":    float(arr.std()),\n",
    "    }\n",
    "\n",
    "\n",
    "\n",
    "# -- 5) run it on all four settings --\n",
    "results = {\n",
    "    \"craft‑wiki\":   summarize_token_lengths(corpus_wiki, voc_wiki, split=\"train\"),\n",
    "    \"craft‑cmv\":    summarize_token_lengths(corpus_cmv,  voc_cmv,  split=\"train\"),\n",
    "    \"kodis‑wiki\":   summarize_token_lengths(corp1, voc_wiki),\n",
    "    \"kodis‑cmv\":    summarize_token_lengths(corp1, voc_cmv),\n",
    "\n",
    "}\n",
    "\n",
    "df = pd.DataFrame(results).T.reset_index().rename(columns={\"index\":\"vocab\"})\n",
    "display(df)"
   ]
  }
 ],
 "metadata": {
  "kernelspec": {
   "display_name": ".venv",
   "language": "python",
   "name": "python3"
  },
  "language_info": {
   "codemirror_mode": {
    "name": "ipython",
    "version": 3
   },
   "file_extension": ".py",
   "mimetype": "text/x-python",
   "name": "python",
   "nbconvert_exporter": "python",
   "pygments_lexer": "ipython3",
   "version": "3.11.11"
  }
 },
 "nbformat": 4,
 "nbformat_minor": 5
}
