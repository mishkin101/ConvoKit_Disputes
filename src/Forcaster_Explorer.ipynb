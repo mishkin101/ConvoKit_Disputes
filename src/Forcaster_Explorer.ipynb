{
 "cells": [
  {
   "cell_type": "markdown",
   "id": "0edc76b8",
   "metadata": {},
   "source": [
    "---\n",
    "title: \"Forecaster Prediction Performance\"\n",
    "author: \"Michelle Gelman\"\n",
    "date: \"04/21/2025\"\n",
    "format: \n",
    "  html:\n",
    "    code-fold: true\n",
    "    execute:\n",
    "      eval: false\n",
    "      echo: True\n",
    "      cache: True\n",
    "jupyter: python3\n",
    "---"
   ]
  },
  {
   "cell_type": "code",
   "execution_count": 1,
   "id": "c02ba9ac",
   "metadata": {},
   "outputs": [],
   "source": [
    "%%capture\n",
    "from tqdm import tqdm\n",
    "from convokit import Corpus, Speaker, Utterance\n",
    "from collections import defaultdict\n",
    "import pandas as pd\n",
    "import pprint as pp\n",
    "from IPython.display import display\n",
    "from modules.DataPreprocesser import DataPreprocesser\n",
    "from modules import CorpusUtils as corp\n",
    "import torch\n",
    "import pickle\n",
    "\n",
    "# Add the src directory to the path\n",
    "import sys\n",
    "import os\n",
    "\n",
    "# Add the src\n",
    "sys.path.append(os.path.abspath(\".\"))\n",
    "import import_ipynb\n",
    "\n",
    "#Convokit Imports\n",
    "from convokit.forecaster.CRAFTModel import CRAFTModel\n",
    "from convokit.forecaster.forecaster import Forecaster"
   ]
  },
  {
   "cell_type": "markdown",
   "id": "cd4e115d",
   "metadata": {},
   "source": [
    "### Todo:\n",
    "- [ ] Fighting words for impasse and success disputes\n",
    "- [ ] A [paper](https://arxiv.org/pdf/1805.05345) from paper from Jonathan P. Cheng (Horizon paper) that preceeeds the CRAFT model defines pragmatic devices—such as politeness strategies and rhetorical prompts—used to start a conversation, and analyze their relation to its future trajectory.\n",
    "    - [ ] Convokit has a [notebook](https://github.com/CornellNLP/ConvoKit/blob/master/examples/conversations-gone-awry/Conversations_Gone_Awry_Prediction.ipynb) (very recent-2025) that creates Prompt Types/politeness strategy labels for paired utterances to make derailement predicitons\n",
    "- [ ] Plot utterances frequenices across context length dimension (averaged across all conversations)\n",
    "- [ ] downsample KODIS (balanced) -> check performance\n",
    "- [ ] fine-tune wiki on KODIS -> check performance\n",
    "\n",
    "### Performance Considerations:\n",
    "- Is the relative horizon (normalizing for conversation length) for forcasting derailement in KODIS disputes similar to the horizon for WIKI and  CMV test dialogues?\n",
    "- How early is \"good enough\" for us? \n",
    "- Our tokenized utterances are very short (avg.len 23) vs 84/123. Is our in-vitro dispute comprable to other dispute datasets or are these confounding factors influencing the length of negotiation utterances? Shorter utterances influence CRAFT's performance significantly?"
   ]
  },
  {
   "cell_type": "markdown",
   "id": "427c73aa",
   "metadata": {},
   "source": [
    "# Creating KODIS Corpus Object"
   ]
  },
  {
   "cell_type": "markdown",
   "id": "7098bf69",
   "metadata": {},
   "source": [
    "### Create Corpus"
   ]
  },
  {
   "cell_type": "code",
   "execution_count": 2,
   "id": "0a0f8710",
   "metadata": {},
   "outputs": [
    {
     "name": "stderr",
     "output_type": "stream",
     "text": [
      "/Users/mishkin/Desktop/Research/Convo_Kit/ConvoKit_Disputes/src/modules/DataPreprocesser.py:111: FutureWarning: Setting an item of incompatible dtype is deprecated and will raise an error in a future version of pandas. Value '1702723625' has dtype incompatible with float64, please explicitly cast to a compatible dtype first.\n",
      "  self.utterancesDF.loc[13988, 'timestamp']= '1702723625'\n"
     ]
    },
    {
     "name": "stdout",
     "output_type": "stream",
     "text": [
      "2107\n"
     ]
    },
    {
     "name": "stderr",
     "output_type": "stream",
     "text": [
      "27498it [00:00, 58402.13it/s]\n"
     ]
    }
   ],
   "source": [
    "filepath = \"/Users/mishkin/Desktop/Research/Convo_Kit/ConvoKit_Disputes/data/preprocessed_dyads.csv\"\n",
    "final_data = DataPreprocesser(filepath)\n",
    "test_corp= corp.corpusBuilder(final_data)"
   ]
  },
  {
   "cell_type": "code",
   "execution_count": 3,
   "id": "e567ddb2",
   "metadata": {},
   "outputs": [
    {
     "name": "stdout",
     "output_type": "stream",
     "text": [
      "Number of Speakers: 4214\n",
      "Number of Utterances: 27498\n",
      "Number of Conversations: 2107\n"
     ]
    }
   ],
   "source": [
    "test_corp.print_summary_stats()"
   ]
  },
  {
   "cell_type": "markdown",
   "id": "0c85c7c9",
   "metadata": {},
   "source": [
    "### Add conversation lengths as conversation metadata\n",
    "- 1 is \"impasse\"\n",
    "- 0 is \"success\""
   ]
  },
  {
   "cell_type": "code",
   "execution_count": 4,
   "id": "bd8aa693",
   "metadata": {},
   "outputs": [
    {
     "name": "stdout",
     "output_type": "stream",
     "text": [
      "Length of conversation: 14\n"
     ]
    }
   ],
   "source": [
    "for convo in test_corp.iter_conversations():\n",
    "    convo_len = len(convo.get_utterance_ids())  # Count utterances in the conversation\n",
    "    convo.add_meta(\"convo_len\", convo_len)      # Store as conversation-level metadata\n",
    "    some_convo = test_corp.get_conversation(\"utt0_con0\")\n",
    "print(\"Length of conversation:\", some_convo.retrieve_meta(\"convo_len\"))"
   ]
  },
  {
   "cell_type": "markdown",
   "id": "dde6620f",
   "metadata": {},
   "source": [
    "### Add Conversation Labels from Final Pre-processed Dataframe as conversation metadata"
   ]
  },
  {
   "cell_type": "code",
   "execution_count": 5,
   "id": "0f35e516",
   "metadata": {},
   "outputs": [],
   "source": [
    "for idx, row in final_data.getDataframe().iterrows():\n",
    "    convo_id = f\"utt0_con{idx}\"  # generate conversation_id format from index\n",
    "    label = row[\"dispute_outcome\"]  # update if your label column is named differently\n",
    "    if convo_id in test_corp.conversations:\n",
    "        test_corp.get_conversation(convo_id).meta[\"label\"] = label"
   ]
  },
  {
   "cell_type": "markdown",
   "id": "7489f519",
   "metadata": {},
   "source": [
    "# Creating Forecaster and Model Objects"
   ]
  },
  {
   "cell_type": "markdown",
   "id": "67ee0482",
   "metadata": {},
   "source": [
    "### CMV Model and Forecaster Object for KODIS"
   ]
  },
  {
   "cell_type": "code",
   "execution_count": 17,
   "id": "9c115eff",
   "metadata": {},
   "outputs": [],
   "source": [
    "%%capture \n",
    "model2 = CRAFTModel(\n",
    "    initial_weights= \"craft-cmv-finetuned\",  # or \"craft-wiki-finetuned\"\n",
    "    torch_device=\"cuda\" if torch.cuda.is_available() else \"cpu\"\n",
    ")"
   ]
  },
  {
   "cell_type": "code",
   "execution_count": 18,
   "id": "cca2a6e5",
   "metadata": {},
   "outputs": [],
   "source": [
    "# Use 'label' because we added it to conversation.meta[\"label\"]\n",
    "forecaster2 = Forecaster(\n",
    "    forecaster_model=model2,\n",
    "    labeler=\"label\",  # uses conversation.meta[\"label\"]\n",
    "    forecast_attribute_name=\"prediction\",\n",
    "    forecast_prob_attribute_name=\"pred_score\"\n",
    ")"
   ]
  },
  {
   "cell_type": "markdown",
   "id": "2379f345",
   "metadata": {},
   "source": [
    "### Wiki Model and Forecaster Object for KODIS"
   ]
  },
  {
   "cell_type": "code",
   "execution_count": 15,
   "id": "6f3248bf",
   "metadata": {},
   "outputs": [],
   "source": [
    "%%capture \n",
    "model = CRAFTModel(\n",
    "    initial_weights= \"craft-wiki-finetuned\",  # or \"craft-wiki-finetuned\"\n",
    "    torch_device=\"cuda\" if torch.cuda.is_available() else \"cpu\"\n",
    ")"
   ]
  },
  {
   "cell_type": "code",
   "execution_count": 16,
   "id": "79b466b0",
   "metadata": {},
   "outputs": [],
   "source": [
    "# Use 'label' because we added it to conversation.meta[\"label\"]\n",
    "forecaster = Forecaster(\n",
    "    forecaster_model=model,\n",
    "    labeler=\"label\",  # uses conversation.meta[\"label\"]\n",
    "    forecast_attribute_name=\"prediction\",\n",
    "    forecast_prob_attribute_name=\"pred_score\"\n",
    ")"
   ]
  },
  {
   "cell_type": "markdown",
   "id": "305c67eb",
   "metadata": {},
   "source": [
    "### Forcaster Object for CMV and WIKI"
   ]
  },
  {
   "cell_type": "code",
   "execution_count": 10,
   "id": "528a89ca",
   "metadata": {},
   "outputs": [],
   "source": [
    "forecaster_cmv = Forecaster(\n",
    "    forecaster_model=model2,\n",
    "    labeler=\"has_removed_comment\",  # uses conversation.meta[\"label\"]\n",
    "    forecast_attribute_name=\"prediction\",\n",
    "    forecast_prob_attribute_name=\"pred_score\"\n",
    ")\n",
    "\n",
    "forecaster_wiki = Forecaster(\n",
    "    forecaster_model=model,\n",
    "    labeler=\"conversation_has_personal_attack\",  # uses conversation.meta[\"label\"]\n",
    "    forecast_attribute_name=\"prediction\",\n",
    "    forecast_prob_attribute_name=\"pred_score\"\n",
    ")"
   ]
  },
  {
   "cell_type": "markdown",
   "id": "a61e76c7",
   "metadata": {},
   "source": [
    "# Model Weight Info"
   ]
  },
  {
   "cell_type": "markdown",
   "id": "18e21c65",
   "metadata": {},
   "source": [
    "### **craft‑pretrained**\n",
    "\n",
    "- Contains only the utterance and context encoder layers pre‑trained on the CGA‑Wikipedia or CGA-CMV data (via next‑comment prediction), but its classifier head (the SingleTargetClf) is still at its random initialization.\n",
    "\n",
    "- Intended as a starting point if you want to fine‑tune CRAFT on your own conversational data (you’ll call fit to learn the classifier weights).\n",
    "\n",
    "### **craft‑finetuned** (used)\n",
    "- Builds on the above by having already fine‑tuned the entire network (including the classifier head).\n",
    "- Ready for inference only—you can call transform immediately and get sensible forecasts without any further training."
   ]
  },
  {
   "cell_type": "code",
   "execution_count": 11,
   "id": "200372a8",
   "metadata": {},
   "outputs": [
    {
     "data": {
      "text/plain": [
       "{'dropout': 0.1,\n",
       " 'batch_size': 64,\n",
       " 'clip': 50.0,\n",
       " 'learning_rate': 1e-05,\n",
       " 'print_every': 10,\n",
       " 'finetune_epochs': 30,\n",
       " 'validation_size': 0.2}"
      ]
     },
     "metadata": {},
     "output_type": "display_data"
    }
   ],
   "source": [
    "display(model._config)"
   ]
  },
  {
   "cell_type": "markdown",
   "id": "e745666e",
   "metadata": {},
   "source": [
    "# Comparing fine-tuned Models on KODIS Corpus"
   ]
  },
  {
   "cell_type": "markdown",
   "id": "90861a08",
   "metadata": {},
   "source": [
    "### Running predictions on both fine-tuned wiki and cmv CRAFT models temporally on all utterances"
   ]
  },
  {
   "cell_type": "code",
   "execution_count": 19,
   "id": "d4f125f8",
   "metadata": {},
   "outputs": [],
   "source": [
    "%%capture \n",
    "import pandas as pd\n",
    "import matplotlib.pyplot as plt\n",
    "from sklearn.metrics import roc_auc_score, accuracy_score, f1_score\n",
    "\n",
    "\n",
    "# corpusBuilder should return a ConvoKit Corpus\n",
    "corp1 = corp.corpusBuilder(final_data)\n",
    "corp2 = corp.corpusBuilder(final_data)\n",
    "\n",
    "# Assign conversation-level labels\n",
    "for idx, row in final_data.getDataframe().iterrows():\n",
    "    convo_id = f\"utt0_con{idx}\"\n",
    "    label = row[\"dispute_outcome\"]\n",
    "    if convo_id in corp1.conversations:\n",
    "        corp1.get_conversation(convo_id).meta[\"label\"] = label\n",
    "    if convo_id in corp2.conversations:\n",
    "        corp2.get_conversation(convo_id).meta[\"label\"] = label\n",
    "\n",
    "# # 2. Initialize two forecasters with different CRAFT weights\n",
    "# device = \"cuda\" if torch.cuda.is_available() else \"cpu\"\n",
    "# craft_wiki = CRAFTModel(\"craft-wiki-finetuned\", torch_device=device)\n",
    "# craft_cmv  = CRAFTModel(\"craft-cmv-finetuned\",  torch_device=device)\n",
    "# forecaster1 = Forecaster(craft_wiki, \"label\")\n",
    "# forecaster2 = Forecaster(craft_cmv,  \"label\")\n",
    "\n",
    "\n",
    "\n",
    "# 4. Transform both corpora\n",
    "corp1 = forecaster.transform(corp1)\n",
    "corp2 = forecaster2.transform(corp2)\n"
   ]
  },
  {
   "cell_type": "markdown",
   "id": "3e5d2415",
   "metadata": {},
   "source": [
    "### Getting average derailement prediction and frequency of forecast probabilities across all utterances\n",
    "- Prediciton is *per utterance* on surface, but CRAFT model behind-the-scenes makes predicitons on encoded contexts which contain the conversation history up to current utterance. \n",
    "- See [Predictor Class](https://github.com/CornellNLP/ConvoKit/blob/master/convokit/forecaster/CRAFT/runners.py#L15) in runnery.py for CRAFT model\n",
    "- We get the frequency of KODIS utterances across 50 probabilities [0, .02, .04, ...,1] binned from the  predicited probabilities of each utterance by the fine-tuned cmv and fine-tuned wiki model\n",
    "\n",
    "### **Insights**\n",
    "- craft-wiki tends to \n",
    "\n",
    "**TODO** Make 3D plot, add another dimension for the length of current context (collapse by coversation by averaging over all convos that have that context length)"
   ]
  },
  {
   "cell_type": "code",
   "execution_count": 21,
   "id": "b681cd9f",
   "metadata": {},
   "outputs": [
    {
     "name": "stdout",
     "output_type": "stream",
     "text": [
      "Summary statistics for forecast probabilities:\n",
      "           mean_prob  std_prob  median_prob\n",
      "corp-wiki   0.440724  0.267856     0.381885\n",
      "corp-cmv    0.541044  0.271951     0.528305\n"
     ]
    },
    {
     "data": {
      "image/png": "[encoded data removed]",
      "text/plain": [
       "<Figure size 800x400 with 1 Axes>"
      ]
     },
     "metadata": {},
     "output_type": "display_data"
    }
   ],
   "source": [
    "import pandas as pd\n",
    "import matplotlib.pyplot as plt\n",
    "from sklearn.metrics import roc_auc_score, accuracy_score, f1_score\n",
    "\n",
    "# 1) extract the utterance‑level DataFrames from the two corpora\n",
    "utt_df1 = corp1.get_utterances_dataframe()\n",
    "utt_df2 = corp2.get_utterances_dataframe()\n",
    "\n",
    "\n",
    "# 5. Keep only the forecast columns and drop NA\n",
    "forecast_df1 = utt_df1[['meta.prediction', 'meta.pred_score']].dropna()\n",
    "forecast_df2 = utt_df2[['meta.prediction', 'meta.pred_score']].dropna()\n",
    "\n",
    "# 6. Summary statistics\n",
    "summary = pd.DataFrame({\n",
    "    'mean_prob':  [forecast_df1['meta.pred_score'].mean(),  forecast_df2['meta.pred_score'].mean()],\n",
    "    'std_prob':   [forecast_df1['meta.pred_score'].std(),   forecast_df2['meta.pred_score'].std()],\n",
    "    'median_prob':[forecast_df1['meta.pred_score'].median(),forecast_df2['meta.pred_score'].median()],\n",
    "}, index=['corp-wiki', 'corp-cmv'])\n",
    "print(\"Summary statistics for forecast probabilities:\")\n",
    "print(summary)\n",
    "\n",
    "# 7. Plot histograms\n",
    "plt.figure(figsize=(8,4))\n",
    "plt.hist(forecast_df1['meta.pred_score'], bins=50, alpha=0.6, label='craft-wiki')\n",
    "plt.hist(forecast_df2['meta.pred_score'], bins=50, alpha=0.6, label='craft-cmv')\n",
    "plt.xlabel('Forecast Derailment probability')\n",
    "plt.ylabel('Number of Utterances')\n",
    "plt.legend()\n",
    "plt.show()\n"
   ]
  },
  {
   "cell_type": "markdown",
   "id": "bbfd82c2",
   "metadata": {},
   "source": [
    "### Conversation-level AUC and PR Curves\n",
    "to create these plots, I looked at [Forecasters](https://github.com/CornellNLP/ConvoKit/blob/master/convokit/forecaster/forecaster.py#L139) code for aggregating utternce-levele metrics on a conversation level where:\n",
    "\n",
    "- np.max(forecast_scores) is highest probability the model ever assigned to any utterance in this conversation\n",
    "- np.max(forecasts) is if the model ever cross its decision threshold and predict 1 (derailement) for thsi conversation\n",
    "\n",
    "### **Insights**\n",
    "- Baseline positive class rate (impasse dispute) for KODIS is 17.6% out of current 2107 disputes.\n",
    "\n",
    "**PR Curve**\n",
    "\n",
    "-  Bottoms out at baseline impasse rate with lower decision thresholds. Essesntially, as I lower decision threshold (less confident about classifying impasse) ->  **it mispredicts impasse a lot more for successful conversations since higher recall -> less chance of 0(success) outcome**. Therefore, model is as good as random classifier as it predicts the baseline derailment rate from the sample.  Probably due to high impassee/success class imbalance.\n",
    "\n",
    "- wiki model outperforms cmv model acrosss all decision thresholds, so it does better overall with getting successful disputes right\n",
    "\n",
    "\n",
    "**AUC Curve**\n",
    "\n",
    "-  AUC still looks high for both bc of the class imbalance for derailement disputes I think-- so this may be misleading currently\n",
    "\n",
    "    - need to downsample and check if we do better than random "
   ]
  },
  {
   "cell_type": "code",
   "execution_count": 23,
   "id": "bbd3d086",
   "metadata": {},
   "outputs": [
    {
     "data": {
      "text/plain": [
       "meta.label\n",
       "0    1736\n",
       "1     371\n",
       "Name: count, dtype: int64"
      ]
     },
     "metadata": {},
     "output_type": "display_data"
    },
    {
     "name": "stdout",
     "output_type": "stream",
     "text": [
      "Positive class rate (Derailement): 17.61%\n",
      "Baseline accuracy (derailement): 0.176\n"
     ]
    },
    {
     "data": {
      "image/png": "[encoded data removed]",
      "text/plain": [
       "<Figure size 1200x500 with 2 Axes>"
      ]
     },
     "metadata": {},
     "output_type": "display_data"
    }
   ],
   "source": [
    "import matplotlib.pyplot as plt\n",
    "from sklearn.metrics import roc_curve, precision_recall_curve, auc\n",
    "import numpy as np\n",
    "\n",
    "def get_conv_level_scores(corpus):\n",
    "    # 1) grab all utterances with a forecast\n",
    "    utt = (corpus\n",
    "            .get_utterances_dataframe()[['conversation_id','meta.pred_score']]\n",
    "            .dropna())\n",
    "    conv_scores = utt.groupby('conversation_id')['meta.pred_score'].max()\n",
    "    conv_df = corpus.get_conversations_dataframe()\n",
    "    conv_scores = conv_scores.reindex(conv_df.index, fill_value=0)\n",
    "    y_true = conv_df['meta.label'].astype(int)\n",
    "    y_scores = conv_scores.values\n",
    "    return y_true, y_scores\n",
    "\n",
    "def print_baseline_accuracy(corpus, label_field=\"label\"):\n",
    "    # pull out the conversation‑level labels\n",
    "    conv_df = corpus.get_conversations_dataframe()[[f\"meta.{label_field}\"]]\n",
    "    \n",
    "    # count each class\n",
    "    counts = conv_df[\"meta.label\"].value_counts()\n",
    "    min_label = counts.idxmin()    \n",
    "    min_count = counts.min()      \n",
    "    total     = counts.sum()\n",
    "    baseline_acc = min_count / total\n",
    "    print(f\"Baseline accuracy (derailement): {baseline_acc:.3f}\")\n",
    "    \n",
    "\n",
    "\n",
    "conv_df = corp1.get_conversations_dataframe()[[f\"meta.label\"]]\n",
    "display(conv_df[\"meta.label\"].value_counts())\n",
    "y1, s1 = get_conv_level_scores(corp1)\n",
    "y2, s2 = get_conv_level_scores(corp2)\n",
    "\n",
    "positive_rate = np.mean(y1)\n",
    "print(f\"Positive class rate (Derailement): {positive_rate:.2%}\")\n",
    "print_baseline_accuracy(corp1)\n",
    "\n",
    "# compute ROC and PR metrics\n",
    "fpr1, tpr1, _    = roc_curve(y1, s1)\n",
    "roc_auc1         = auc(fpr1, tpr1)\n",
    "fpr2, tpr2, _    = roc_curve(y2, s2)\n",
    "roc_auc2         = auc(fpr2, tpr2)\n",
    "\n",
    "prec1, rec1, _   = precision_recall_curve(y1, s1)\n",
    "pr_auc1          = auc(rec1, prec1)\n",
    "prec2, rec2, _   = precision_recall_curve(y2, s2)\n",
    "pr_auc2          = auc(rec2, prec2)\n",
    "\n",
    "# plot side‑by‑side\n",
    "fig, (ax_roc, ax_pr) = plt.subplots(1, 2, figsize=(12,5))\n",
    "\n",
    "# ROC panel\n",
    "ax_roc.plot(fpr1, tpr1, label=f'corp-wiki (AUC={roc_auc1:.3f})')\n",
    "ax_roc.plot(fpr2, tpr2, label=f'corp-cmv (AUC={roc_auc2:.3f})')\n",
    "ax_roc.set_xlabel('False Positive Rate')\n",
    "ax_roc.set_ylabel('True Positive Rate')\n",
    "ax_roc.set_title('ROC Curves')\n",
    "ax_roc.legend()\n",
    "\n",
    "# PR panel\n",
    "ax_pr.plot(rec1, prec1, label=f'corp-wiki (AUC={pr_auc1:.3f})')\n",
    "ax_pr.plot(rec2, prec2, label=f'corp-cmv (AUC={pr_auc2:.3f})')\n",
    "ax_pr.set_xlabel('Recall')\n",
    "ax_pr.set_ylabel('Precision')\n",
    "ax_pr.set_title('Precision–Recall Curves')\n",
    "ax_pr.legend()\n",
    "\n",
    "plt.tight_layout()\n",
    "plt.show()"
   ]
  },
  {
   "cell_type": "markdown",
   "id": "7f257814",
   "metadata": {},
   "source": [
    "### Comparing forcaster summaries for both fine-tuned wiki and cmv CRAFT models predictions\n",
    "- Ran using Forecasters summarize function for conversation-level statistics\n",
    "\n",
    "- both reddit and cmv have **Utterance-level labels for derailed comment** as well as classify derailment on a conversation level if the conversation contains a derailement comment.\n",
    "\n",
    "### Insights\n",
    "\n",
    "**Forecast Horizon: \"How early can we detect derailement?\"**\n",
    "\n",
    "- This measures the number of utterances after the derailed utterance the model predicted in a coversation.\n",
    "\n",
    "- Since our dataset has an average length of 13.5 utterances, the forecast horizon on average is 9.72 and 10 respecitvely for the WIKI and cmv models, meaning derailement is forecast towards the end of a KODIS dispute.\n",
    "\n",
    "\n",
    "**Conversation Metrics**\n",
    "- On a conversation-level, accuracy of predicting derailement is pretty low and F1 scores are low for both fine-tuned models\n",
    "\n",
    "- **Accuracy**: The model mispredicts derailements most of the time (for success class mainly) - out of 2017 disputes, 45% and 24% were wrongly flagged as derailed. -> low Accuracy\n",
    "\n",
    "- **Recall**: Models are very sensitive to derailement events and for all actual derailed disputes, it correctly flags them -> high Recall\n",
    "\n",
    "- **FPR**: Since there are many successul disputes (majority class), the models flag a lot of them as derailed -> high FPR\n",
    "\n",
    "**Calibration Curves**\n",
    "\n",
    "- both models underperform\n",
    "\n",
    "The above is why the \"good\" AUC curve is misleading I think"
   ]
  },
  {
   "cell_type": "code",
   "execution_count": 26,
   "id": "d1ce5aef",
   "metadata": {},
   "outputs": [],
   "source": [
    "%%capture\n",
    "import numpy as np\n",
    "import matplotlib.pyplot as plt\n",
    "horizon_kwiki = forecaster._draw_horizon_plot(corp1)\n",
    "horizon_kcmv  = forecaster2._draw_horizon_plot(corp2)\n",
    "conv_kwiki, metrics1_kwiki = forecaster.summarize(corp1)\n",
    "conv_kcmv, metrics2_kcmv = forecaster2.summarize(corp2)"
   ]
  },
  {
   "cell_type": "code",
   "execution_count": 30,
   "id": "2593f142",
   "metadata": {},
   "outputs": [
    {
     "name": "stdout",
     "output_type": "stream",
     "text": [
      "Average conversation length in KODIS is: 13.05 utterances\n",
      "\n",
      "-------------------\n",
      "OVERALL STATS FOR KODIS PREDICTIONS \n",
      "-------------------\n"
     ]
    },
    {
     "data": {
      "application/vnd.microsoft.datawrangler.viewer.v0+json": {
       "columns": [
        {
         "name": "index",
         "rawType": "object",
         "type": "string"
        },
        {
         "name": "Accuracy",
         "rawType": "float64",
         "type": "float"
        },
        {
         "name": "Precision",
         "rawType": "float64",
         "type": "float"
        },
        {
         "name": "Recall",
         "rawType": "float64",
         "type": "float"
        },
        {
         "name": "FPR",
         "rawType": "float64",
         "type": "float"
        },
        {
         "name": "F1",
         "rawType": "float64",
         "type": "float"
        }
       ],
       "conversionMethod": "pd.DataFrame",
       "ref": "9da4fb36-dcff-4796-b240-c0342ac2b7fd",
       "rows": [
        [
         "model_wiki",
         "0.4504034171808258",
         "0.23322033898305083",
         "0.9272237196765498",
         "0.6514976958525346",
         "0.37269772481040087"
        ],
        [
         "model_cmv",
         "0.2401518747033697",
         "0.1746031746031746",
         "0.889487870619946",
         "0.8986175115207373",
         "0.291906236178682"
        ]
       ],
       "shape": {
        "columns": 5,
        "rows": 2
       }
      },
      "text/html": [
       "<div>\n",
       "<style scoped>\n",
       "    .dataframe tbody tr th:only-of-type {\n",
       "        vertical-align: middle;\n",
       "    }\n",
       "\n",
       "    .dataframe tbody tr th {\n",
       "        vertical-align: top;\n",
       "    }\n",
       "\n",
       "    .dataframe thead th {\n",
       "        text-align: right;\n",
       "    }\n",
       "</style>\n",
       "<table border=\"1\" class=\"dataframe\">\n",
       "  <thead>\n",
       "    <tr style=\"text-align: right;\">\n",
       "      <th></th>\n",
       "      <th>Accuracy</th>\n",
       "      <th>Precision</th>\n",
       "      <th>Recall</th>\n",
       "      <th>FPR</th>\n",
       "      <th>F1</th>\n",
       "    </tr>\n",
       "  </thead>\n",
       "  <tbody>\n",
       "    <tr>\n",
       "      <th>model_wiki</th>\n",
       "      <td>0.450403</td>\n",
       "      <td>0.233220</td>\n",
       "      <td>0.927224</td>\n",
       "      <td>0.651498</td>\n",
       "      <td>0.372698</td>\n",
       "    </tr>\n",
       "    <tr>\n",
       "      <th>model_cmv</th>\n",
       "      <td>0.240152</td>\n",
       "      <td>0.174603</td>\n",
       "      <td>0.889488</td>\n",
       "      <td>0.898618</td>\n",
       "      <td>0.291906</td>\n",
       "    </tr>\n",
       "  </tbody>\n",
       "</table>\n",
       "</div>"
      ],
      "text/plain": [
       "            Accuracy  Precision    Recall       FPR        F1\n",
       "model_wiki  0.450403   0.233220  0.927224  0.651498  0.372698\n",
       "model_cmv   0.240152   0.174603  0.889488  0.898618  0.291906"
      ]
     },
     "metadata": {},
     "output_type": "display_data"
    },
    {
     "data": {
      "text/plain": [
       "'wiki model horizon stats:  Mean = 9.723837209302326, Median = 9.0'"
      ]
     },
     "metadata": {},
     "output_type": "display_data"
    },
    {
     "data": {
      "text/plain": [
       "'cmv model horizon stats: Mean = 10.006060606060606, Median = 9.0'"
      ]
     },
     "metadata": {},
     "output_type": "display_data"
    },
    {
     "data": {
      "image/png": "[encoded data removed]",
      "text/plain": [
       "<Figure size 1200x400 with 2 Axes>"
      ]
     },
     "metadata": {},
     "output_type": "display_data"
    },
    {
     "name": "stdout",
     "output_type": "stream",
     "text": [
      "Agreement rate between wiki vs. cmv predictions: 69.96%\n",
      "\n",
      "Disagreement breakdown (wiki  vs. cmv ):\n",
      "cmv_pred   0.0  1.0\n",
      "wiki_pred          \n",
      "0.0          0  524\n",
      "1.0        109    0\n",
      "\n",
      "\n"
     ]
    },
    {
     "data": {
      "image/png": "[encoded data removed]",
      "text/plain": [
       "<Figure size 1200x400 with 2 Axes>"
      ]
     },
     "metadata": {},
     "output_type": "display_data"
    },
    {
     "data": {
      "image/png": "[encoded data removed]",
      "text/plain": [
       "<Figure size 1000x400 with 4 Axes>"
      ]
     },
     "metadata": {},
     "output_type": "display_data"
    },
    {
     "name": "stdout",
     "output_type": "stream",
     "text": [
      "\n",
      "Summary statistics:\n"
     ]
    },
    {
     "data": {
      "application/vnd.microsoft.datawrangler.viewer.v0+json": {
       "columns": [
        {
         "name": "index",
         "rawType": "object",
         "type": "string"
        },
        {
         "name": "wiki_acc",
         "rawType": "float64",
         "type": "float"
        },
        {
         "name": "cmv_acc",
         "rawType": "float64",
         "type": "float"
        },
        {
         "name": "agreement_rate",
         "rawType": "float64",
         "type": "float"
        },
        {
         "name": "wiki_avg_prob",
         "rawType": "float64",
         "type": "float"
        },
        {
         "name": "cmv_avg_prob",
         "rawType": "float64",
         "type": "float"
        }
       ],
       "conversionMethod": "pd.DataFrame",
       "ref": "70c6f9ae-653e-42af-9387-d53e88964ffd",
       "rows": [
        [
         "utterance_level",
         "0.4504034171808258",
         "0.2401518747033697",
         "0.6995728523967727",
         "0.7086137116563563",
         "0.801741880202497"
        ]
       ],
       "shape": {
        "columns": 5,
        "rows": 1
       }
      },
      "text/html": [
       "<div>\n",
       "<style scoped>\n",
       "    .dataframe tbody tr th:only-of-type {\n",
       "        vertical-align: middle;\n",
       "    }\n",
       "\n",
       "    .dataframe tbody tr th {\n",
       "        vertical-align: top;\n",
       "    }\n",
       "\n",
       "    .dataframe thead th {\n",
       "        text-align: right;\n",
       "    }\n",
       "</style>\n",
       "<table border=\"1\" class=\"dataframe\">\n",
       "  <thead>\n",
       "    <tr style=\"text-align: right;\">\n",
       "      <th></th>\n",
       "      <th>wiki_acc</th>\n",
       "      <th>cmv_acc</th>\n",
       "      <th>agreement_rate</th>\n",
       "      <th>wiki_avg_prob</th>\n",
       "      <th>cmv_avg_prob</th>\n",
       "    </tr>\n",
       "  </thead>\n",
       "  <tbody>\n",
       "    <tr>\n",
       "      <th>utterance_level</th>\n",
       "      <td>0.450403</td>\n",
       "      <td>0.240152</td>\n",
       "      <td>0.699573</td>\n",
       "      <td>0.708614</td>\n",
       "      <td>0.801742</td>\n",
       "    </tr>\n",
       "  </tbody>\n",
       "</table>\n",
       "</div>"
      ],
      "text/plain": [
       "                 wiki_acc   cmv_acc  agreement_rate  wiki_avg_prob  \\\n",
       "utterance_level  0.450403  0.240152        0.699573       0.708614   \n",
       "\n",
       "                 cmv_avg_prob  \n",
       "utterance_level      0.801742  "
      ]
     },
     "metadata": {},
     "output_type": "display_data"
    }
   ],
   "source": [
    "import pandas as pd\n",
    "from IPython.display import display\n",
    "\n",
    "lengths = [\n",
    "    len(convo.get_utterance_ids())\n",
    "    for convo in corp2.iter_conversations()\n",
    "]\n",
    "avg_len = sum(lengths) / len(lengths)\n",
    "print(f\"Average conversation length in KODIS is: {avg_len:.2f} utterances\")\n",
    "\n",
    "print(\"\\n-------------------\")\n",
    "print(\"OVERALL STATS FOR KODIS PREDICTIONS \\n-------------------\")\n",
    "metrics_df = pd.DataFrame([metrics1_kwiki, metrics2_kcmv], index=['model_wiki','model_cmv'])\n",
    "display(metrics_df)\n",
    "\n",
    "\n",
    "vals_kwiki = np.array(list(horizon_kwiki.values()))\n",
    "vals_kcmv  = np.array(list(horizon_kcmv.values()))\n",
    "\n",
    "max_kwiki = vals_kwiki.max() if vals_kwiki.size else 1\n",
    "max_kcmv  = vals_kcmv.max()  if vals_kcmv.size  else 1\n",
    "\n",
    "bins_kwiki = range(1, max_kwiki)\n",
    "bins_kcmv  = range(1, max_kcmv)\n",
    "\n",
    "fig, (ax1, ax2) = plt.subplots(1, 2, figsize=(12,4), sharey=True)\n",
    "\n",
    "ax1.hist(vals_kwiki, bins=bins_kwiki, density=True, edgecolor=\"k\")\n",
    "ax1.set_title(\"Wiki model\\nForecast horizon\")\n",
    "ax1.set_xlabel(\"Number of comments between first positive\\nforecast and end of conversation\")\n",
    "ax1.set_ylabel(\"Percent of conversations\")\n",
    "\n",
    "ax2.hist(vals_kcmv, bins=bins_kcmv, density=True, edgecolor=\"k\")\n",
    "ax2.set_title(\"CMV model\\nForecast horizon\")\n",
    "ax2.set_xlabel(\"Number of comments between first positive\\nforecast and end of conversation\")\n",
    "display(\"wiki model horizon stats:  Mean = 9.723837209302326, Median = 9.0\")\n",
    "display(\"cmv model horizon stats: Mean = 10.006060606060606, Median = 9.0\")\n",
    "plt.tight_layout()\n",
    "plt.show()\n",
    "\n",
    "\n",
    "# 3) Merge the two conversation‐level forecasts side by side\n",
    "conv1 = conv_kwiki.rename(columns={'label':'label','score':'score_wiki','forecast':'forecast_wiki'})\n",
    "conv2 = conv_kcmv.rename(columns={'score':'score_cmv','forecast':'forecast_cmv'})\n",
    "\n",
    "# join on conversation_id\n",
    "merged = conv1.join(conv2[['score_cmv','forecast_cmv']], how='inner')\n",
    "# print(\"=== Conversation‑level forecasts comparison ===\")\n",
    "# display(merged)\n",
    "\n",
    "import pandas as pd\n",
    "import numpy as np\n",
    "import matplotlib.pyplot as plt\n",
    "from sklearn.metrics import confusion_matrix, ConfusionMatrixDisplay\n",
    "from sklearn.calibration import CalibrationDisplay\n",
    "from IPython.display import display\n",
    "\n",
    "\n",
    "# 1) Compute agreement flag\n",
    "merged['match'] = merged['forecast_wiki'] == merged['forecast_cmv']\n",
    "\n",
    "# 2) Overall agreement rate\n",
    "agree_rate = merged['match'].mean()\n",
    "print(f\"Agreement rate between wiki vs. cmv predictions: {agree_rate:.2%}\\n\")\n",
    "\n",
    "# 3) Where they disagree\n",
    "print(\"Disagreement breakdown (wiki  vs. cmv ):\")\n",
    "print(pd.crosstab(\n",
    "    merged.loc[~merged['match'], 'forecast_wiki'],\n",
    "    merged.loc[~merged['match'], 'forecast_cmv'],\n",
    "    rownames=['wiki_pred'], colnames=['cmv_pred']\n",
    "))\n",
    "print(\"\\n\")\n",
    "\n",
    "# 4) Calibration + histogram side by side\n",
    "fig, (ax_cal, ax_hist) = plt.subplots(1, 2, figsize=(12, 4))\n",
    "\n",
    "# 4a) overlayed calibration curves on the left\n",
    "CalibrationDisplay.from_predictions(\n",
    "    y_true=merged['label'],\n",
    "    y_prob=merged['score_wiki'],\n",
    "    n_bins=10,\n",
    "    name=\"Wiki\",\n",
    "    ax=ax_cal\n",
    ")\n",
    "CalibrationDisplay.from_predictions(\n",
    "    y_true=merged['label'],\n",
    "    y_prob=merged['score_cmv'],\n",
    "    n_bins=10,\n",
    "    name=\"CMV\",\n",
    "    ax=ax_cal\n",
    ")\n",
    "ax_cal.set_title(\"Calibration Curve (Reliability)\")\n",
    "ax_cal.set_xlabel(\"Mean predicted probability\")\n",
    "ax_cal.set_ylabel(\"Observed fraction\")\n",
    "ax_cal.legend(loc=\"lower right\")\n",
    "ax_cal.grid(True)\n",
    "\n",
    "# 4b) probability‐histogram on the right\n",
    "bins = np.linspace(0, 1, 11)\n",
    "ax_hist.hist(merged['score_wiki'], bins=bins, alpha=0.6, label='Wiki')\n",
    "ax_hist.hist(merged['score_cmv'],  bins=bins, alpha=0.6, label='CMV')\n",
    "ax_hist.set_title(\"Probability Histogram\")\n",
    "ax_hist.set_xlabel(\"Predicted probability\")\n",
    "ax_hist.set_ylabel(\"Count of utterances\")\n",
    "ax_hist.legend()\n",
    "ax_hist.grid(True)\n",
    "\n",
    "plt.tight_layout()\n",
    "plt.show()\n",
    "\n",
    "\n",
    "# 5) Confusion matrices side by side\n",
    "fig, (ax_wiki, ax_cmv) = plt.subplots(1, 2, figsize=(10, 4))\n",
    "\n",
    "ConfusionMatrixDisplay.from_predictions(\n",
    "    y_true=merged['label'],\n",
    "    y_pred=merged['forecast_wiki'],\n",
    "    display_labels=[\"Success\", \"Impasse\"],\n",
    "    cmap='Blues',\n",
    "    ax=ax_wiki\n",
    ")\n",
    "ax_wiki.set_title(\"Wiki Model\")\n",
    "\n",
    "ConfusionMatrixDisplay.from_predictions(\n",
    "    y_true=merged['label'],\n",
    "    y_pred=merged['forecast_cmv'],\n",
    "    display_labels=[\"Success\", \"Impasse\"],\n",
    "    cmap='Blues',\n",
    "    ax=ax_cmv\n",
    ")\n",
    "ax_cmv.set_title(\"CMV Model\")\n",
    "\n",
    "plt.tight_layout()\n",
    "plt.show()\n",
    "\n",
    "# 6) Summary table\n",
    "summary = pd.DataFrame({\n",
    "    'wiki_acc':       [(merged['label'] == merged['forecast_wiki']).mean()],\n",
    "    'cmv_acc':        [(merged['label'] == merged['forecast_cmv']).mean()],\n",
    "    'agreement_rate': [agree_rate],\n",
    "    'wiki_avg_prob':  [merged['score_wiki'].mean()],\n",
    "    'cmv_avg_prob':   [merged['score_cmv'].mean()],\n",
    "}, index=['utterance_level'])\n",
    "print(\"\\nSummary statistics:\")\n",
    "display(summary)\n",
    "\n"
   ]
  },
  {
   "cell_type": "code",
   "execution_count": 29,
   "id": "cc802cd4",
   "metadata": {},
   "outputs": [
    {
     "name": "stdout",
     "output_type": "stream",
     "text": [
      "label\n",
      "0    1736\n",
      "1     371\n",
      "Name: count, dtype: int64\n",
      "forecast_wiki\n",
      "1.0    1475\n",
      "0.0     632\n",
      "Name: count, dtype: int64\n",
      "forecast_cmv\n",
      "1.0    1890\n",
      "0.0     217\n",
      "Name: count, dtype: int64\n"
     ]
    }
   ],
   "source": [
    "print(merged['label'].value_counts())\n",
    "print(merged['forecast_wiki'].value_counts())\n",
    "print(merged['forecast_cmv'].value_counts())"
   ]
  },
  {
   "cell_type": "markdown",
   "id": "43e30376",
   "metadata": {},
   "source": [
    "### Average length of tokenized utterances for wiki test , cmv test, and kodis corpora from CRAFT tokenization scheme\n",
    "- CRAFT has max tokenization length of 80 tokens per utterance. Is this relevant to the performance in anyway? More specifically:\n",
    "    - what are the tokenization lengths of the utterances for the data used in the train sets for CMV and Wiki?\n",
    "    - what is the average tokenization length for a KODIS utterance?\n",
    "\n",
    "Is it even relevant to affecting performance, and how to measure this?"
   ]
  },
  {
   "cell_type": "code",
   "execution_count": null,
   "id": "0355287b",
   "metadata": {},
   "outputs": [],
   "source": [
    "from convokit import download, Corpus\n",
    "\n",
    "\n",
    "corpus_cmv = Corpus(\"/Users/mishkin/Desktop/Research/Convo_Kit/ConvoKit_Disputes/data/convokit_datasets/conversations-gone-awry-cmv-corpus\")\n",
    "corpus_wiki = Corpus(\"/Users/mishkin/Desktop/Research/Convo_Kit/ConvoKit_Disputes/data/convokit_datasets/conversations-gone-awry-corpus\")"
   ]
  },
  {
   "cell_type": "code",
   "execution_count": null,
   "id": "59dfad34",
   "metadata": {},
   "outputs": [
    {
     "name": "stdout",
     "output_type": "stream",
     "text": [
      "Conversation Meta data for wiki conversation \n",
      "======================\n",
      "page_title           → User talk:2005\n",
      "page_id              → 1003212\n",
      "pair_id              → 143890867.11926.11926\n",
      "conversation_has_personal_attack → False\n",
      "verified             → True\n",
      "pair_verified        → True\n",
      "annotation_year      → 2018\n",
      "split                → train\n",
      "\n",
      "\n",
      "Conversation Meta data for cmv conversation \n",
      " ======================\n",
      "pair_id              → cue8uxd\n",
      "has_removed_comment  → True\n",
      "split                → train\n",
      "summary_meta         → []\n"
     ]
    }
   ],
   "source": [
    "convo_ex =  next(corpus_wiki.iter_conversations())\n",
    "print(\"Conversation Meta data for wiki conversation \\n\"\n",
    "\"======================\")\n",
    "for key, val in convo_ex.meta.items():\n",
    "  \n",
    "    print(f\"{key:20s} → {val}\")\n",
    "\n",
    "\n",
    "print(\"\\n\")\n",
    "convo_ex2 =  next(corpus_cmv.iter_conversations())\n",
    "print(\"Conversation Meta data for cmv conversation \\n \"\n",
    "\"======================\")\n",
    "for key, val in convo_ex2.meta.items():\n",
    "    print(f\"{key:20s} → {val}\")\n"
   ]
  },
  {
   "cell_type": "code",
   "execution_count": null,
   "id": "58f01fde",
   "metadata": {},
   "outputs": [],
   "source": [
    "import os\n",
    "import numpy as np\n",
    "from convokit import download, Corpus\n",
    "from convokit.forecaster.CRAFT.data import (\n",
    "    loadPrecomputedVoc,\n",
    "    tokenize,\n",
    "    Voc,\n",
    ")\n",
    "\n",
    "'''\n",
    "Need to get only the utterances used for training fine-tuned model. \n",
    "Choose only those utterances in conversations where mete.split == train\n",
    "'''\n",
    "\n",
    "def load_craft_vocab(model_name: str) -> Voc:\n",
    "    base = download(model_name, data_dir=os.path.expanduser(\"~/.convokit/models\"))\n",
    "    return loadPrecomputedVoc(\n",
    "        model_name,\n",
    "        os.path.join(base, \"word2index.json\"),\n",
    "        os.path.join(base, \"index2word.json\"),\n",
    "    )\n",
    "\n",
    "\n",
    "voc_wiki = load_craft_vocab(\"craft-wiki-finetuned\")\n",
    "voc_cmv  = load_craft_vocab(\"craft-cmv-finetuned\")\n"
   ]
  },
  {
   "cell_type": "code",
   "execution_count": null,
   "id": "03fae09d",
   "metadata": {},
   "outputs": [
    {
     "data": {
      "application/vnd.microsoft.datawrangler.viewer.v0+json": {
       "columns": [
        {
         "name": "index",
         "rawType": "int64",
         "type": "integer"
        },
        {
         "name": "vocab",
         "rawType": "object",
         "type": "string"
        },
        {
         "name": "n_utt",
         "rawType": "float64",
         "type": "float"
        },
        {
         "name": "mean",
         "rawType": "float64",
         "type": "float"
        },
        {
         "name": "median",
         "rawType": "float64",
         "type": "float"
        },
        {
         "name": "std",
         "rawType": "float64",
         "type": "float"
        }
       ],
       "conversionMethod": "pd.DataFrame",
       "ref": "86baa3cb-ad61-4f9f-9b19-dbe5bf46df6f",
       "rows": [
        [
         "0",
         "craft‑wiki",
         "18042.0",
         "82.00133022946459",
         "47.0",
         "139.54979911961195"
        ],
        [
         "1",
         "craft‑cmv",
         "25885.0",
         "123.47247440602666",
         "72.0",
         "166.3299628565691"
        ],
        [
         "2",
         "kodis‑wiki",
         "27498.0",
         "24.15993890464761",
         "20.0",
         "20.964778803419026"
        ],
        [
         "3",
         "kodis‑cmv",
         "27498.0",
         "24.15993890464761",
         "20.0",
         "20.964778803419026"
        ]
       ],
       "shape": {
        "columns": 5,
        "rows": 4
       }
      },
      "text/html": [
       "<div>\n",
       "<style scoped>\n",
       "    .dataframe tbody tr th:only-of-type {\n",
       "        vertical-align: middle;\n",
       "    }\n",
       "\n",
       "    .dataframe tbody tr th {\n",
       "        vertical-align: top;\n",
       "    }\n",
       "\n",
       "    .dataframe thead th {\n",
       "        text-align: right;\n",
       "    }\n",
       "</style>\n",
       "<table border=\"1\" class=\"dataframe\">\n",
       "  <thead>\n",
       "    <tr style=\"text-align: right;\">\n",
       "      <th></th>\n",
       "      <th>vocab</th>\n",
       "      <th>n_utt</th>\n",
       "      <th>mean</th>\n",
       "      <th>median</th>\n",
       "      <th>std</th>\n",
       "    </tr>\n",
       "  </thead>\n",
       "  <tbody>\n",
       "    <tr>\n",
       "      <th>0</th>\n",
       "      <td>craft‑wiki</td>\n",
       "      <td>18042.0</td>\n",
       "      <td>82.001330</td>\n",
       "      <td>47.0</td>\n",
       "      <td>139.549799</td>\n",
       "    </tr>\n",
       "    <tr>\n",
       "      <th>1</th>\n",
       "      <td>craft‑cmv</td>\n",
       "      <td>25885.0</td>\n",
       "      <td>123.472474</td>\n",
       "      <td>72.0</td>\n",
       "      <td>166.329963</td>\n",
       "    </tr>\n",
       "    <tr>\n",
       "      <th>2</th>\n",
       "      <td>kodis‑wiki</td>\n",
       "      <td>27498.0</td>\n",
       "      <td>24.159939</td>\n",
       "      <td>20.0</td>\n",
       "      <td>20.964779</td>\n",
       "    </tr>\n",
       "    <tr>\n",
       "      <th>3</th>\n",
       "      <td>kodis‑cmv</td>\n",
       "      <td>27498.0</td>\n",
       "      <td>24.159939</td>\n",
       "      <td>20.0</td>\n",
       "      <td>20.964779</td>\n",
       "    </tr>\n",
       "  </tbody>\n",
       "</table>\n",
       "</div>"
      ],
      "text/plain": [
       "        vocab    n_utt        mean  median         std\n",
       "0  craft‑wiki  18042.0   82.001330    47.0  139.549799\n",
       "1   craft‑cmv  25885.0  123.472474    72.0  166.329963\n",
       "2  kodis‑wiki  27498.0   24.159939    20.0   20.964779\n",
       "3   kodis‑cmv  27498.0   24.159939    20.0   20.964779"
      ]
     },
     "metadata": {},
     "output_type": "display_data"
    }
   ],
   "source": [
    "\"\"\"\n",
    "    Walk through all conversations in `corpus`, select only those with\n",
    "    convo.meta[\"split\"] == split, tokenize each utterance via CRAFT's\n",
    "    tokenize(voc, text), and return summary stats on token counts.\n",
    "\"\"\"\n",
    "\n",
    "def summarize_token_lengths(corpus: Corpus, voc: Voc, split: str = None):\n",
    "    lengths = []\n",
    "    for convo in corpus.iter_conversations():\n",
    "        # if a split is specified, filter; otherwise include everything\n",
    "        if split is not None and convo.meta.get(\"split\") != split:\n",
    "            continue\n",
    "        for utt in convo.iter_utterances():\n",
    "            toks = tokenize(voc, utt.text or \"\")\n",
    "            lengths.append(len(toks))\n",
    "    if not lengths:\n",
    "        return {\"n_utt\": 0, \"mean\": np.nan, \"median\": np.nan, \"std\": np.nan}\n",
    "    arr = np.array(lengths)\n",
    "    return {\n",
    "        \"n_utt\":  int(arr.size),\n",
    "        \"mean\":   float(arr.mean()),\n",
    "        \"median\": float(np.median(arr)),\n",
    "        \"std\":    float(arr.std()),\n",
    "    }\n",
    "\n",
    "\n",
    "\n",
    "# -- 5) run it on all four settings --\n",
    "results = {\n",
    "    \"craft‑wiki\":   summarize_token_lengths(corpus_wiki, voc_wiki, split=\"train\"),\n",
    "    \"craft‑cmv\":    summarize_token_lengths(corpus_cmv,  voc_cmv,  split=\"train\"),\n",
    "    \"kodis‑wiki\":   summarize_token_lengths(corp1, voc_wiki),\n",
    "    \"kodis‑cmv\":    summarize_token_lengths(corp1, voc_cmv),\n",
    "\n",
    "}\n",
    "\n",
    "df = pd.DataFrame(results).T.reset_index().rename(columns={\"index\":\"vocab\"})\n",
    "display(df)"
   ]
  },
  {
   "cell_type": "markdown",
   "id": "b7641779",
   "metadata": {},
   "source": [
    "# Compare Predictions on test sets for CMV and WIKI datasets using respecitve fine-tuned CRAFT Models \n",
    "- for reproducability, need to check if any additions since 2018 for wiki data as it is public and growing. reddit cmv was created specifically for this paper, so no updates expected."
   ]
  },
  {
   "cell_type": "code",
   "execution_count": 37,
   "id": "b6f2895b",
   "metadata": {},
   "outputs": [],
   "source": [
    "def transform_selector(context_tuple):\n",
    "    \"\"\"\n",
    "    For transform we only need to check that the conversation is in the test split\n",
    "    \"\"\"\n",
    "    return (context_tuple.current_utterance.get_conversation().meta[\"split\"] == \"test\")\n",
    "\n",
    "corpus_cmv = Corpus(\"/Users/mishkin/Desktop/Research/Convo_Kit/ConvoKit_Disputes/data/convokit_datasets/conversations-gone-awry-cmv-corpus\")\n",
    "corpus_wiki = Corpus(\"/Users/mishkin/Desktop/Research/Convo_Kit/ConvoKit_Disputes/data/convokit_datasets/conversations-gone-awry-corpus\")"
   ]
  },
  {
   "cell_type": "code",
   "execution_count": null,
   "id": "202f9980",
   "metadata": {},
   "outputs": [],
   "source": [
    "corp_test_wiki = forecaster_wiki.transform(corpus_wiki, context_selector= transform_selector)\n",
    "corp_test_cmv = forecaster_cmv.transform(corpus_cmv, context_selector= transform_selector)"
   ]
  },
  {
   "cell_type": "code",
   "execution_count": 39,
   "id": "8858ff55",
   "metadata": {},
   "outputs": [],
   "source": [
    "%%capture\n",
    "import numpy as np\n",
    "import matplotlib.pyplot as plt\n",
    "test_selector = lambda c: c.meta.get(\"split\") == \"test\"\n",
    "horizon_wiki = forecaster_wiki._draw_horizon_plot(corp_test_wiki, test_selector)\n",
    "horizon_cmv  = forecaster_cmv._draw_horizon_plot(corp_test_cmv, test_selector)\n",
    "conv_df1, metrics1 = forecaster_wiki.summarize(corp_test_wiki,  lambda c: c.meta['split'] == \"test\")\n",
    "conv_df2, metrics2 = forecaster_cmv.summarize(corp_test_cmv,  lambda c: c.meta['split'] == \"test\")"
   ]
  },
  {
   "cell_type": "code",
   "execution_count": 45,
   "id": "18a415a4",
   "metadata": {},
   "outputs": [
    {
     "name": "stdout",
     "output_type": "stream",
     "text": [
      "Average conversation length in test WIKI is: 7.17 utterances\n",
      "Average conversation length in test CMV is: 6.28 utterances\n",
      "\n",
      "-------------------\n",
      "OVERALL STATS FOR TEST SET PREDICTIONS \n",
      " -------------------\n"
     ]
    },
    {
     "data": {
      "application/vnd.microsoft.datawrangler.viewer.v0+json": {
       "columns": [
        {
         "name": "index",
         "rawType": "object",
         "type": "string"
        },
        {
         "name": "Accuracy",
         "rawType": "float64",
         "type": "float"
        },
        {
         "name": "Precision",
         "rawType": "float64",
         "type": "float"
        },
        {
         "name": "Recall",
         "rawType": "float64",
         "type": "float"
        },
        {
         "name": "FPR",
         "rawType": "float64",
         "type": "float"
        },
        {
         "name": "F1",
         "rawType": "float64",
         "type": "float"
        }
       ],
       "conversionMethod": "pd.DataFrame",
       "ref": "13857d9c-8725-4cee-9b0d-fec21b349761",
       "rows": [
        [
         "corp_wiki_test",
         "0.7047619047619048",
         "0.6382636655948553",
         "0.9452380952380952",
         "0.5357142857142857",
         "0.7619961612284069"
        ],
        [
         "copr_cmv_test",
         "0.6206140350877193",
         "0.5899672846237731",
         "0.7909356725146199",
         "0.5497076023391813",
         "0.6758276077451593"
        ]
       ],
       "shape": {
        "columns": 5,
        "rows": 2
       }
      },
      "text/html": [
       "<div>\n",
       "<style scoped>\n",
       "    .dataframe tbody tr th:only-of-type {\n",
       "        vertical-align: middle;\n",
       "    }\n",
       "\n",
       "    .dataframe tbody tr th {\n",
       "        vertical-align: top;\n",
       "    }\n",
       "\n",
       "    .dataframe thead th {\n",
       "        text-align: right;\n",
       "    }\n",
       "</style>\n",
       "<table border=\"1\" class=\"dataframe\">\n",
       "  <thead>\n",
       "    <tr style=\"text-align: right;\">\n",
       "      <th></th>\n",
       "      <th>Accuracy</th>\n",
       "      <th>Precision</th>\n",
       "      <th>Recall</th>\n",
       "      <th>FPR</th>\n",
       "      <th>F1</th>\n",
       "    </tr>\n",
       "  </thead>\n",
       "  <tbody>\n",
       "    <tr>\n",
       "      <th>corp_wiki_test</th>\n",
       "      <td>0.704762</td>\n",
       "      <td>0.638264</td>\n",
       "      <td>0.945238</td>\n",
       "      <td>0.535714</td>\n",
       "      <td>0.761996</td>\n",
       "    </tr>\n",
       "    <tr>\n",
       "      <th>copr_cmv_test</th>\n",
       "      <td>0.620614</td>\n",
       "      <td>0.589967</td>\n",
       "      <td>0.790936</td>\n",
       "      <td>0.549708</td>\n",
       "      <td>0.675828</td>\n",
       "    </tr>\n",
       "  </tbody>\n",
       "</table>\n",
       "</div>"
      ],
      "text/plain": [
       "                Accuracy  Precision    Recall       FPR        F1\n",
       "corp_wiki_test  0.704762   0.638264  0.945238  0.535714  0.761996\n",
       "copr_cmv_test   0.620614   0.589967  0.790936  0.549708  0.675828"
      ]
     },
     "metadata": {},
     "output_type": "display_data"
    },
    {
     "data": {
      "image/png": "[encoded data removed]",
      "text/plain": [
       "<Figure size 1200x400 with 2 Axes>"
      ]
     },
     "metadata": {},
     "output_type": "display_data"
    }
   ],
   "source": [
    "\n",
    "lengths_cmv = [\n",
    "    len(convo.get_utterance_ids())\n",
    "    for convo in corp_test_cmv.iter_conversations()\n",
    "]\n",
    "lengths_wiki = [\n",
    "    len(convo.get_utterance_ids())\n",
    "    for convo in corp_test_wiki.iter_conversations()\n",
    "]\n",
    "avg_len_cmv = sum(lengths_cmv) / len(lengths_cmv)\n",
    "avg_len_wiki = sum(lengths_wiki) / len(lengths_wiki)\n",
    "print(f\"Average conversation length in test WIKI is: {avg_len_wiki:.2f} utterances\")\n",
    "print(f\"Average conversation length in test CMV is: {avg_len_cmv:.2f} utterances\")\n",
    "print(\"\\n-------------------\")\n",
    "print(\"OVERALL STATS FOR TEST SET PREDICTIONS \\n -------------------\")\n",
    "metrics_df = pd.DataFrame([metrics1, metrics2], index=['corp_wiki_test','copr_cmv_test'])\n",
    "display(metrics_df)\n",
    "\n",
    "\n",
    "vals_wiki = np.array(list(horizon_wiki.values()))\n",
    "vals_cmv  = np.array(list(horizon_cmv.values()))\n",
    "\n",
    "max_wiki = vals_wiki.max() if vals_wiki.size else 1\n",
    "max_cmv  = vals_cmv.max()  if vals_cmv.size  else 1\n",
    "\n",
    "bins_wiki = range(1, max_wiki)\n",
    "bins_cmv  = range(1, max_cmv)\n",
    "\n",
    "fig, (ax1, ax2) = plt.subplots(1, 2, figsize=(12,4), sharey=True)\n",
    "\n",
    "ax1.hist(vals_wiki, bins=bins_wiki, density=True, edgecolor=\"k\")\n",
    "ax1.set_title(\"Wiki model\\nForecast horizon\")\n",
    "ax1.set_xlabel(\"Number of comments between first positive\\nforecast and end of conversation\")\n",
    "ax1.set_ylabel(\"Percent of conversations\")\n",
    "\n",
    "ax2.hist(vals_cmv, bins=bins_cmv, density=True, edgecolor=\"k\")\n",
    "ax2.set_title(\"CMV model\\nForecast horizon\")\n",
    "ax2.set_xlabel(\"Number of comments between first positive\\nforecast and end of conversation\")\n",
    "\n",
    "plt.tight_layout()\n",
    "plt.show()"
   ]
  }
 ],
 "metadata": {
  "kernelspec": {
   "display_name": ".venv",
   "language": "python",
   "name": "python3"
  },
  "language_info": {
   "codemirror_mode": {
    "name": "ipython",
    "version": 3
   },
   "file_extension": ".py",
   "mimetype": "text/x-python",
   "name": "python",
   "nbconvert_exporter": "python",
   "pygments_lexer": "ipython3",
   "version": "3.11.11"
  }
 },
 "nbformat": 4,
 "nbformat_minor": 5
}
