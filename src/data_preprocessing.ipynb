{
 "cells": [
  {
   "cell_type": "code",
   "execution_count": 1,
   "metadata": {},
   "outputs": [],
   "source": [
    "# add all necessary imports\n",
    "from tqdm import tqdm\n",
    "from convokit import Corpus, Speaker, Utterance\n",
    "from collections import defaultdict\n",
    "import pandas as pd\n",
    "import pprint as pp\n",
    "from IPython.display import display"
   ]
  },
  {
   "cell_type": "markdown",
   "metadata": {},
   "source": [
    "Need to convert alldyads.xlsx into dataframe with columns compatible with corpus structure to makr object\n",
    "Need:\n",
    "# Convert Dataframe file"
   ]
  },
  {
   "cell_type": "markdown",
   "metadata": {},
   "source": [
    "## methods:\n",
    "\n",
    "#conversationID based on 1st utterance of df\n",
    "\n",
    "### def toUtterance():\n",
    "get all primary info from formatted dataframe column\n",
    "\n",
    "- id\n",
    "- speaker\n",
    "- conversation_id\n",
    "- reply_to\n",
    "- timestamp\n",
    "- text\n",
    "\n",
    "\n",
    "\n",
    "#### Metadata:\n",
    "{metadata} (per speaker)\n",
    "metadata: country code column\n",
    "### def toSpeakers():\n",
    "- need to convert each row to have unique buyer/seller ID\n",
    "- check if there are duplicate participants allowed\n",
    "- isAI (if seller is AI)\n",
    "#### Metadata:\n",
    "- country code (b_country, s_country)\n",
    "- self reports (later)\n",
    "\n",
    "\n",
    "### def toConversations():\n",
    "convo-id : {metadata}\n",
    "#### Metadata:\n",
    "- outcome of dipsute\n",
    "\n",
    "  \n",
    "### def toCorpus():\n",
    "- save for later\n",
    "  \n",
    "### def toIndex():\n",
    "- save for later\n",
    "\n",
    "# CorpusConverter\n",
    "- formattedChat"
   ]
  },
  {
   "cell_type": "code",
   "execution_count": 2,
   "metadata": {},
   "outputs": [],
   "source": [
    "from modules.DataPreprocesser import DataPreprocesser"
   ]
  },
  {
   "cell_type": "code",
   "execution_count": 3,
   "metadata": {},
   "outputs": [
    {
     "name": "stdout",
     "output_type": "stream",
     "text": [
      "2882\n",
      "(2882, 51)\n",
      "(2891, 50)\n"
     ]
    }
   ],
   "source": [
    "filepath = \"/Users/mishkin/Desktop/Research/Convo_Kit/ConvoKit_Disputes/data/alldyads.csv\"\n",
    "data_preprocessor = DataPreprocesser(filepath)\n",
    "data_preprocessor.addParsedTextColumn(\"formattedChat\", \"parsed_dialog\")\n",
    "\n",
    "data = data_preprocessor.df.copy() \n",
    "data[\"parsed_dialog\"]\n",
    "orig_data =pd.read_csv(filepath)\n",
    "print(data.shape)\n",
    "print(orig_data.shape)"
   ]
  },
  {
   "cell_type": "markdown",
   "metadata": {},
   "source": [
    "### Example of parsedText Column"
   ]
  },
  {
   "cell_type": "code",
   "execution_count": 4,
   "metadata": {},
   "outputs": [
    {
     "data": {
      "text/plain": [
       "[{'timestamp': 'nan',\n",
       "  'speaker': 'Seller',\n",
       "  'message': 'Your sudden demand for a refund is unwarranted. Our product description is crystal clear, and we stand by our policy. Your behavior is disappointing, and your negative review is unfounded.',\n",
       "  'value': None,\n",
       "  'uttidx': 0,\n",
       "  'speaker_id': 'Seller_0',\n",
       "  'is_AI': True,\n",
       "  'row_idx': 0,\n",
       "  'match_idx': False,\n",
       "  'Case Match Type': None},\n",
       " {'timestamp': 1699388150,\n",
       "  'speaker': 'Buyer',\n",
       "  'message': 'This was not the item I ordered, please provide a full refund.  I will ship the item back.',\n",
       "  'value': None,\n",
       "  'uttidx': 1,\n",
       "  'speaker_id': 'Buyer_0',\n",
       "  'is_AI': False,\n",
       "  'row_idx': 0,\n",
       "  'match_idx': False,\n",
       "  'Case Match Type': None},\n",
       " {'timestamp': 1699388170,\n",
       "  'speaker': 'Seller',\n",
       "  'message': 'How about a compromise? I can offer you a partial refund, and in exchange, you would remove your negative review that wrongly portrays my business.',\n",
       "  'value': None,\n",
       "  'uttidx': 2,\n",
       "  'speaker_id': 'Seller_0',\n",
       "  'is_AI': True,\n",
       "  'row_idx': 0,\n",
       "  'match_idx': False,\n",
       "  'Case Match Type': None},\n",
       " {'timestamp': 1699388217,\n",
       "  'speaker': 'Buyer',\n",
       "  'message': 'No, this was not the item I ordered. I have a screenshot of the original purchase.',\n",
       "  'value': None,\n",
       "  'uttidx': 3,\n",
       "  'speaker_id': 'Buyer_0',\n",
       "  'is_AI': False,\n",
       "  'row_idx': 0,\n",
       "  'match_idx': False,\n",
       "  'Case Match Type': None},\n",
       " {'timestamp': 1699388235,\n",
       "  'speaker': 'Seller',\n",
       "  'message': \"I can scrutinize your claim, but this requires you to remove your unjust negative review first. Let's aim for fairness and goodwill.\",\n",
       "  'value': None,\n",
       "  'uttidx': 4,\n",
       "  'speaker_id': 'Seller_0',\n",
       "  'is_AI': True,\n",
       "  'row_idx': 0,\n",
       "  'match_idx': False,\n",
       "  'Case Match Type': None},\n",
       " {'timestamp': 1699388324,\n",
       "  'speaker': 'Buyer',\n",
       "  'message': 'No, thank you. I do not want this item as it was not what I purchased. Please provide the full refund.  You will receive your item back in the original condition.',\n",
       "  'value': None,\n",
       "  'uttidx': 5,\n",
       "  'speaker_id': 'Buyer_0',\n",
       "  'is_AI': False,\n",
       "  'row_idx': 0,\n",
       "  'match_idx': False,\n",
       "  'Case Match Type': None},\n",
       " {'timestamp': 1699388344,\n",
       "  'speaker': 'Seller',\n",
       "  'message': \"Alright, if you agree to remove your negative review, I'm willing to offer a full refund once I receive the item back in its original condition.\",\n",
       "  'value': None,\n",
       "  'uttidx': 6,\n",
       "  'speaker_id': 'Seller_0',\n",
       "  'is_AI': True,\n",
       "  'row_idx': 0,\n",
       "  'match_idx': False,\n",
       "  'Case Match Type': None},\n",
       " {'timestamp': 1699388422,\n",
       "  'speaker': 'Buyer',\n",
       "  'message': 'I will adjust my review to show you offered a full refund after I receive the refund.',\n",
       "  'value': None,\n",
       "  'uttidx': 7,\n",
       "  'speaker_id': 'Buyer_0',\n",
       "  'is_AI': False,\n",
       "  'row_idx': 0,\n",
       "  'match_idx': False,\n",
       "  'Case Match Type': None},\n",
       " {'timestamp': 1699388445,\n",
       "  'speaker': 'Seller',\n",
       "  'message': \"That's a fair compromise. Once I receive the returned item and validate its condition, I will process your full refund. Only after that, I expect you to amend your review.\",\n",
       "  'value': None,\n",
       "  'uttidx': 8,\n",
       "  'speaker_id': 'Seller_0',\n",
       "  'is_AI': True,\n",
       "  'row_idx': 0,\n",
       "  'match_idx': False,\n",
       "  'Case Match Type': None},\n",
       " {'timestamp': 1699388545,\n",
       "  'speaker': 'Buyer',\n",
       "  'message': 'Okay.  Can you retract the review of me or add an apology to it?',\n",
       "  'value': None,\n",
       "  'uttidx': 9,\n",
       "  'speaker_id': 'Buyer_0',\n",
       "  'is_AI': False,\n",
       "  'row_idx': 0,\n",
       "  'match_idx': False,\n",
       "  'Case Match Type': None},\n",
       " {'timestamp': 1699388563,\n",
       "  'speaker': 'Seller',\n",
       "  'message': \"Fine, once I see you've amended your review, I will duly address my review of you as well. Let's aim for resolution.\",\n",
       "  'value': None,\n",
       "  'uttidx': 10,\n",
       "  'speaker_id': 'Seller_0',\n",
       "  'is_AI': True,\n",
       "  'row_idx': 0,\n",
       "  'match_idx': False,\n",
       "  'Case Match Type': None},\n",
       " {'timestamp': 1699388631,\n",
       "  'speaker': 'Buyer',\n",
       "  'message': \"I'm not comfortable with this negotiation as I'm confident in my position.  There should be no terms to retracting the bad review of me.\",\n",
       "  'value': None,\n",
       "  'uttidx': 11,\n",
       "  'speaker_id': 'Buyer_0',\n",
       "  'is_AI': False,\n",
       "  'row_idx': 0,\n",
       "  'match_idx': False,\n",
       "  'Case Match Type': None},\n",
       " {'timestamp': 1699388653,\n",
       "  'speaker': 'Seller',\n",
       "  'message': \"Considering the circumstances, as soon as I process your refund and view an updated positive review from you, I will immediately retract my review about you. It's only fair given the situation.\",\n",
       "  'value': None,\n",
       "  'uttidx': 12,\n",
       "  'speaker_id': 'Seller_0',\n",
       "  'is_AI': True,\n",
       "  'row_idx': 0,\n",
       "  'match_idx': False,\n",
       "  'Case Match Type': None},\n",
       " {'timestamp': 1699388728,\n",
       "  'speaker': 'Buyer',\n",
       "  'message': \"No, I will be walking away from this negotiation and filing a chargeback as I'm confident in the evidence. Thank you for your time.\",\n",
       "  'value': None,\n",
       "  'uttidx': 13,\n",
       "  'speaker_id': 'Buyer_0',\n",
       "  'is_AI': False,\n",
       "  'row_idx': 0,\n",
       "  'match_idx': False,\n",
       "  'Case Match Type': None},\n",
       " {'timestamp': 1699388750,\n",
       "  'speaker': 'Seller',\n",
       "  'message': \"That's disappointing, but it's your call. I know I've been straightforward and fair, which my loyal customers can attest to. I wish you'd reconsider, but I respect your decision.\",\n",
       "  'value': None,\n",
       "  'uttidx': 14,\n",
       "  'speaker_id': 'Seller_0',\n",
       "  'is_AI': True,\n",
       "  'row_idx': 0,\n",
       "  'match_idx': False,\n",
       "  'Case Match Type': None},\n",
       " {'timestamp': 1699388836,\n",
       "  'speaker': 'Buyer',\n",
       "  'message': 'I Walk Away.',\n",
       "  'value': None,\n",
       "  'uttidx': 15,\n",
       "  'speaker_id': 'Buyer_0',\n",
       "  'is_AI': False,\n",
       "  'row_idx': 0,\n",
       "  'match_idx': False,\n",
       "  'Case Match Type': None}]"
      ]
     },
     "execution_count": 4,
     "metadata": {},
     "output_type": "execute_result"
    }
   ],
   "source": [
    "data_preprocessor.getDataframe()[\"parsed_dialog\"][0]"
   ]
  },
  {
   "cell_type": "markdown",
   "metadata": {},
   "source": [
    "### Example of Utterance Dataframe"
   ]
  },
  {
   "cell_type": "code",
   "execution_count": 5,
   "metadata": {},
   "outputs": [
    {
     "data": {
      "application/vnd.microsoft.datawrangler.viewer.v0+json": {
       "columns": [
        {
         "name": "index",
         "rawType": "int64",
         "type": "integer"
        },
        {
         "name": "timestamp",
         "rawType": "object",
         "type": "unknown"
        },
        {
         "name": "speaker",
         "rawType": "object",
         "type": "unknown"
        },
        {
         "name": "message",
         "rawType": "object",
         "type": "string"
        },
        {
         "name": "value",
         "rawType": "object",
         "type": "unknown"
        },
        {
         "name": "uttidx",
         "rawType": "int64",
         "type": "integer"
        },
        {
         "name": "speaker_id",
         "rawType": "object",
         "type": "unknown"
        },
        {
         "name": "is_AI",
         "rawType": "object",
         "type": "unknown"
        },
        {
         "name": "row_idx",
         "rawType": "int64",
         "type": "integer"
        },
        {
         "name": "match_idx",
         "rawType": "bool",
         "type": "boolean"
        },
        {
         "name": "Case Match Type",
         "rawType": "object",
         "type": "unknown"
        },
        {
         "name": "convo_len",
         "rawType": "int64",
         "type": "integer"
        }
       ],
       "conversionMethod": "pd.DataFrame",
       "ref": "47277365-c2d1-4ab7-bfff-c4c4c90dab02",
       "rows": [
        [
         "0",
         "nan",
         "Seller",
         "Your sudden demand for a refund is unwarranted. Our product description is crystal clear, and we stand by our policy. Your behavior is disappointing, and your negative review is unfounded.",
         null,
         "0",
         "Seller_0",
         "True",
         "0",
         "False",
         null,
         "16"
        ],
        [
         "1",
         "1699388150",
         "Buyer",
         "This was not the item I ordered, please provide a full refund.  I will ship the item back.",
         null,
         "1",
         "Buyer_0",
         "False",
         "0",
         "False",
         null,
         "16"
        ],
        [
         "2",
         "1699388170",
         "Seller",
         "How about a compromise? I can offer you a partial refund, and in exchange, you would remove your negative review that wrongly portrays my business.",
         null,
         "2",
         "Seller_0",
         "True",
         "0",
         "False",
         null,
         "16"
        ],
        [
         "3",
         "1699388217",
         "Buyer",
         "No, this was not the item I ordered. I have a screenshot of the original purchase.",
         null,
         "3",
         "Buyer_0",
         "False",
         "0",
         "False",
         null,
         "16"
        ],
        [
         "4",
         "1699388235",
         "Seller",
         "I can scrutinize your claim, but this requires you to remove your unjust negative review first. Let's aim for fairness and goodwill.",
         null,
         "4",
         "Seller_0",
         "True",
         "0",
         "False",
         null,
         "16"
        ],
        [
         "5",
         "1699388324",
         "Buyer",
         "No, thank you. I do not want this item as it was not what I purchased. Please provide the full refund.  You will receive your item back in the original condition.",
         null,
         "5",
         "Buyer_0",
         "False",
         "0",
         "False",
         null,
         "16"
        ],
        [
         "6",
         "1699388344",
         "Seller",
         "Alright, if you agree to remove your negative review, I'm willing to offer a full refund once I receive the item back in its original condition.",
         null,
         "6",
         "Seller_0",
         "True",
         "0",
         "False",
         null,
         "16"
        ],
        [
         "7",
         "1699388422",
         "Buyer",
         "I will adjust my review to show you offered a full refund after I receive the refund.",
         null,
         "7",
         "Buyer_0",
         "False",
         "0",
         "False",
         null,
         "16"
        ],
        [
         "8",
         "1699388445",
         "Seller",
         "That's a fair compromise. Once I receive the returned item and validate its condition, I will process your full refund. Only after that, I expect you to amend your review.",
         null,
         "8",
         "Seller_0",
         "True",
         "0",
         "False",
         null,
         "16"
        ],
        [
         "9",
         "1699388545",
         "Buyer",
         "Okay.  Can you retract the review of me or add an apology to it?",
         null,
         "9",
         "Buyer_0",
         "False",
         "0",
         "False",
         null,
         "16"
        ],
        [
         "10",
         "1699388563",
         "Seller",
         "Fine, once I see you've amended your review, I will duly address my review of you as well. Let's aim for resolution.",
         null,
         "10",
         "Seller_0",
         "True",
         "0",
         "False",
         null,
         "16"
        ],
        [
         "11",
         "1699388631",
         "Buyer",
         "I'm not comfortable with this negotiation as I'm confident in my position.  There should be no terms to retracting the bad review of me.",
         null,
         "11",
         "Buyer_0",
         "False",
         "0",
         "False",
         null,
         "16"
        ],
        [
         "12",
         "1699388653",
         "Seller",
         "Considering the circumstances, as soon as I process your refund and view an updated positive review from you, I will immediately retract my review about you. It's only fair given the situation.",
         null,
         "12",
         "Seller_0",
         "True",
         "0",
         "False",
         null,
         "16"
        ],
        [
         "13",
         "1699388728",
         "Buyer",
         "No, I will be walking away from this negotiation and filing a chargeback as I'm confident in the evidence. Thank you for your time.",
         null,
         "13",
         "Buyer_0",
         "False",
         "0",
         "False",
         null,
         "16"
        ],
        [
         "14",
         "1699388750",
         "Seller",
         "That's disappointing, but it's your call. I know I've been straightforward and fair, which my loyal customers can attest to. I wish you'd reconsider, but I respect your decision.",
         null,
         "14",
         "Seller_0",
         "True",
         "0",
         "False",
         null,
         "16"
        ],
        [
         "15",
         "1699388836",
         "Buyer",
         "I Walk Away.",
         null,
         "15",
         "Buyer_0",
         "False",
         "0",
         "False",
         null,
         "16"
        ],
        [
         "16",
         "1699388451",
         "Buyer",
         "Hi there! I believe I received the wrong jersey from you! I was wondering if I could get a refund on my purchase?",
         null,
         "0",
         "Buyer_1",
         "False",
         "1",
         "False",
         null,
         "14"
        ],
        [
         "17",
         "1699388553",
         "Seller",
         "Good afternoon! I looked over your purchase record, and I'm afraid it looks like you bought the right item--it's advertised as a generic jersey, not one for a specific player. Given that, I'm afraid I can't issue you a refund. I'm sorry for the inconvenience!",
         null,
         "1",
         "Seller_1",
         "False",
         "1",
         "False",
         null,
         "14"
        ],
        [
         "18",
         "1699388719",
         "Buyer",
         "I appreciate your timely response! I can understand how there is confusion. There were two options on the site. One for the generic jersey and a couple of specific jerseys. I had chosen the very specific one for my nephew and I think maybe I was shipped the incorrect order unfortunately! Is there anyway we could do a partial refund for me today?",
         null,
         "2",
         "Buyer_1",
         "False",
         "1",
         "False",
         null,
         "14"
        ],
        [
         "19",
         "1699388896",
         "Seller",
         "Of course! We try to reach all our customers as quickly as we can. I'd be more than happy to get the correct item to you--how about we spit the difference? If you can return the generic jersey, I'll get the correct one shipped to you. While were talking, I was hoping we could talk about the negative review you left on my business--as you can imagine, that can be very damaging. Could I convince you to retract that review?",
         null,
         "3",
         "Seller_1",
         "False",
         "1",
         "False",
         null,
         "14"
        ],
        [
         "20",
         "1699389108",
         "Buyer",
         "I can return the generic jersey, no problem! I wrote a bad review on your site because you wrote a bad review of me. I apologize. I will retract my review of me if can you remove your negative review on mine and if you apologize. How does that sound?",
         null,
         "4",
         "Buyer_1",
         "False",
         "1",
         "False",
         null,
         "14"
        ],
        [
         "21",
         "1699389202",
         "Seller",
         "You know, that's a good idea. You seem really reasonable--how about we retract both negative reviews, each write an apology giving someone who stumbles by the review the full context, and we get the correct jerseys to each other?",
         null,
         "5",
         "Seller_1",
         "False",
         "1",
         "False",
         null,
         "14"
        ],
        [
         "22",
         "1699389315",
         "Buyer",
         "This seems very reasonable to me. I think at the end of the day we both just want a positive out come out of this so I am very happy with this result and I really appreciate you working with me on this.",
         null,
         "6",
         "Buyer_1",
         "False",
         "1",
         "False",
         null,
         "14"
        ],
        [
         "23",
         "1699389355",
         "Seller",
         "Agreed! I'm grateful for your time. Hope you have a great rest of your day!",
         null,
         "7",
         "Seller_1",
         "False",
         "1",
         "False",
         null,
         "14"
        ],
        [
         "24",
         "1699389381",
         "Buyer",
         "I believe theres a few things left to say!!",
         null,
         "8",
         "Buyer_1",
         "False",
         "1",
         "False",
         null,
         "14"
        ],
        [
         "25",
         "1699389423",
         "Seller",
         "Oh? I beg your pardon. What can I do for you?",
         null,
         "9",
         "Seller_1",
         "False",
         "1",
         "False",
         null,
         "14"
        ],
        [
         "26",
         "1699389451",
         "Buyer",
         "I was just going to say have a great rest of your day!",
         null,
         "10",
         "Buyer_1",
         "False",
         "1",
         "False",
         null,
         "14"
        ],
        [
         "27",
         "1699389479",
         "Seller",
         "Thank you, you too!",
         null,
         "11",
         "Seller_1",
         "False",
         "1",
         "False",
         null,
         "14"
        ],
        [
         "28",
         "1699389486",
         "Buyer",
         "Submitted agreement: Buyer gets partial refund, buyer retracted their review, seller retracted their review, buyer did apologize, and seller did apologize.",
         null,
         "12",
         "Buyer_1",
         "False",
         "1",
         "False",
         null,
         "14"
        ],
        [
         "29",
         "1699389501",
         "Seller",
         "Accept Deal",
         null,
         "13",
         "Seller_1",
         "False",
         "1",
         "False",
         null,
         "14"
        ],
        [
         "30",
         "nan",
         "Seller",
         "Your sudden demand for a refund is unwarranted. Our product description is crystal clear, and we stand by our policy. Your behavior is disappointing, and your negative review is unfounded.",
         null,
         "0",
         "Seller_2",
         "True",
         "2",
         "False",
         null,
         "12"
        ],
        [
         "31",
         "1699388998",
         "Buyer",
         "As a customer, I thought the jersey was Kolby's and I noticed you changed the site since then. I think a refund is fair.",
         null,
         "1",
         "Buyer_2",
         "False",
         "2",
         "False",
         null,
         "12"
        ],
        [
         "32",
         "1699389021",
         "Seller",
         "We have not made any changes to the site. The listing has always clearly stated that the jersey is a general LA Lakers replica, not specific to any player. If you remove the negative review promptly, I'd consider offering a partial refund.",
         null,
         "2",
         "Seller_2",
         "True",
         "2",
         "False",
         null,
         "12"
        ],
        [
         "33",
         "1699389060",
         "Buyer",
         "I would be happy to remove the negative review but I want a full refund.",
         null,
         "3",
         "Buyer_2",
         "False",
         "2",
         "False",
         null,
         "12"
        ],
        [
         "34",
         "1699389082",
         "Seller",
         "Under these circumstances, I agree to give you a full refund if you take down your negative review immediately. Let's treat this as a misunderstanding and move forward.",
         null,
         "4",
         "Seller_2",
         "True",
         "2",
         "False",
         null,
         "12"
        ],
        [
         "35",
         "1699389168",
         "Buyer",
         "I couldn't agree more. I'm taking down the review. I've shopped with you and other sellers on the site for many years. Could you consider taking down the negative review about me.",
         null,
         "5",
         "Buyer_2",
         "False",
         "2",
         "False",
         null,
         "12"
        ],
        [
         "36",
         "1699389190",
         "Seller",
         "Upon the removal of your negative review, I am willing to remove my review as well and consider this a resolved issue. We appreciate our long-standing customers.",
         null,
         "6",
         "Seller_2",
         "True",
         "2",
         "False",
         null,
         "12"
        ],
        [
         "37",
         "1699389272",
         "Buyer",
         "Great, thank you. I apologize for the conflict, I was very upset because I wanted to get my sick nephew something special.",
         null,
         "7",
         "Buyer_2",
         "False",
         "2",
         "False",
         null,
         "12"
        ],
        [
         "38",
         "1699389293",
         "Seller",
         "I understand your frustration and I regret the misunderstanding. Thanks for taking steps to resolve this issue and I hope your nephew gets better soon.",
         null,
         "8",
         "Seller_2",
         "True",
         "2",
         "False",
         null,
         "12"
        ],
        [
         "39",
         "1699389331",
         "Buyer",
         "Thank you.",
         null,
         "9",
         "Buyer_2",
         "False",
         "2",
         "False",
         null,
         "12"
        ],
        [
         "40",
         "1699389337",
         "Seller",
         "You're welcome. Take care.",
         null,
         "10",
         "Seller_2",
         "True",
         "2",
         "False",
         null,
         "12"
        ],
        [
         "41",
         "1699389341",
         "Buyer",
         "Submitted agreement: Buyer gets full refund, buyer retracted their review, seller retracted their review, buyer didn't apologize, and seller did apologize.",
         null,
         "11",
         "Buyer_2",
         "False",
         "2",
         "False",
         null,
         "12"
        ],
        [
         "42",
         "nan",
         "Buyer",
         "Your response is utterly unacceptable. I bought the jersey for my nephew, a Kobe Bryant fan, based on your explicit representation. Your deceptive behavior is disgraceful.",
         null,
         "0",
         "Buyer_3",
         "True",
         "3",
         "False",
         null,
         "12"
        ],
        [
         "43",
         "1699389359",
         "Seller",
         "Hello unfortunately I cannont offer",
         null,
         "1",
         "Seller_3",
         "False",
         "3",
         "False",
         null,
         "12"
        ],
        [
         "44",
         "1699389376",
         "Buyer",
         "Then I stand by my review and expect fair trading conditions. Your false review of me must be removed immediately.",
         null,
         "2",
         "Buyer_3",
         "True",
         "3",
         "False",
         null,
         "12"
        ],
        [
         "45",
         "1699389466",
         "Seller",
         "But the review I left was for good reason sir as you incorrectly reviewed my product it was not listed as a Kobe Bryant jersey I apologize for the confusion",
         null,
         "3",
         "Seller_3",
         "False",
         "3",
         "False",
         null,
         "12"
        ],
        [
         "46",
         "1699389482",
         "Buyer",
         "That's not what I remember. I demand a full refund, and you must also remove your false review about me.",
         null,
         "4",
         "Buyer_3",
         "True",
         "3",
         "False",
         null,
         "12"
        ],
        [
         "47",
         "1699389554",
         "Seller",
         "We can come to a agreement if you removed the bad review I shall do the same and give you a full refund but only if you remove the review",
         null,
         "5",
         "Seller_3",
         "False",
         "3",
         "False",
         null,
         "12"
        ],
        [
         "48",
         "1699389572",
         "Buyer",
         "If I receive a full refund, I will remove my negative review. Your false review of me should be removed as well.",
         null,
         "6",
         "Buyer_3",
         "True",
         "3",
         "False",
         null,
         "12"
        ],
        [
         "49",
         "1699389649",
         "Seller",
         "Ok we have a agreement then my negative review and yours shall be reviewed and you will get your money back are you read to finalize the deal then?",
         null,
         "7",
         "Seller_3",
         "False",
         "3",
         "False",
         null,
         "12"
        ]
       ],
       "shape": {
        "columns": 11,
        "rows": 39846
       }
      },
      "text/html": [
       "<div>\n",
       "<style scoped>\n",
       "    .dataframe tbody tr th:only-of-type {\n",
       "        vertical-align: middle;\n",
       "    }\n",
       "\n",
       "    .dataframe tbody tr th {\n",
       "        vertical-align: top;\n",
       "    }\n",
       "\n",
       "    .dataframe thead th {\n",
       "        text-align: right;\n",
       "    }\n",
       "</style>\n",
       "<table border=\"1\" class=\"dataframe\">\n",
       "  <thead>\n",
       "    <tr style=\"text-align: right;\">\n",
       "      <th></th>\n",
       "      <th>timestamp</th>\n",
       "      <th>speaker</th>\n",
       "      <th>message</th>\n",
       "      <th>value</th>\n",
       "      <th>uttidx</th>\n",
       "      <th>speaker_id</th>\n",
       "      <th>is_AI</th>\n",
       "      <th>row_idx</th>\n",
       "      <th>match_idx</th>\n",
       "      <th>Case Match Type</th>\n",
       "      <th>convo_len</th>\n",
       "    </tr>\n",
       "  </thead>\n",
       "  <tbody>\n",
       "    <tr>\n",
       "      <th>0</th>\n",
       "      <td>nan</td>\n",
       "      <td>Seller</td>\n",
       "      <td>Your sudden demand for a refund is unwarranted...</td>\n",
       "      <td>None</td>\n",
       "      <td>0</td>\n",
       "      <td>Seller_0</td>\n",
       "      <td>True</td>\n",
       "      <td>0</td>\n",
       "      <td>False</td>\n",
       "      <td>None</td>\n",
       "      <td>16</td>\n",
       "    </tr>\n",
       "    <tr>\n",
       "      <th>1</th>\n",
       "      <td>1699388150</td>\n",
       "      <td>Buyer</td>\n",
       "      <td>This was not the item I ordered, please provid...</td>\n",
       "      <td>None</td>\n",
       "      <td>1</td>\n",
       "      <td>Buyer_0</td>\n",
       "      <td>False</td>\n",
       "      <td>0</td>\n",
       "      <td>False</td>\n",
       "      <td>None</td>\n",
       "      <td>16</td>\n",
       "    </tr>\n",
       "    <tr>\n",
       "      <th>2</th>\n",
       "      <td>1699388170</td>\n",
       "      <td>Seller</td>\n",
       "      <td>How about a compromise? I can offer you a part...</td>\n",
       "      <td>None</td>\n",
       "      <td>2</td>\n",
       "      <td>Seller_0</td>\n",
       "      <td>True</td>\n",
       "      <td>0</td>\n",
       "      <td>False</td>\n",
       "      <td>None</td>\n",
       "      <td>16</td>\n",
       "    </tr>\n",
       "    <tr>\n",
       "      <th>3</th>\n",
       "      <td>1699388217</td>\n",
       "      <td>Buyer</td>\n",
       "      <td>No, this was not the item I ordered. I have a ...</td>\n",
       "      <td>None</td>\n",
       "      <td>3</td>\n",
       "      <td>Buyer_0</td>\n",
       "      <td>False</td>\n",
       "      <td>0</td>\n",
       "      <td>False</td>\n",
       "      <td>None</td>\n",
       "      <td>16</td>\n",
       "    </tr>\n",
       "    <tr>\n",
       "      <th>4</th>\n",
       "      <td>1699388235</td>\n",
       "      <td>Seller</td>\n",
       "      <td>I can scrutinize your claim, but this requires...</td>\n",
       "      <td>None</td>\n",
       "      <td>4</td>\n",
       "      <td>Seller_0</td>\n",
       "      <td>True</td>\n",
       "      <td>0</td>\n",
       "      <td>False</td>\n",
       "      <td>None</td>\n",
       "      <td>16</td>\n",
       "    </tr>\n",
       "    <tr>\n",
       "      <th>...</th>\n",
       "      <td>...</td>\n",
       "      <td>...</td>\n",
       "      <td>...</td>\n",
       "      <td>...</td>\n",
       "      <td>...</td>\n",
       "      <td>...</td>\n",
       "      <td>...</td>\n",
       "      <td>...</td>\n",
       "      <td>...</td>\n",
       "      <td>...</td>\n",
       "      <td>...</td>\n",
       "    </tr>\n",
       "    <tr>\n",
       "      <th>39841</th>\n",
       "      <td>1718879890</td>\n",
       "      <td>Buyer</td>\n",
       "      <td>Thank you I appreciate that.  I shall remove m...</td>\n",
       "      <td>None</td>\n",
       "      <td>5</td>\n",
       "      <td>Buyer_2881</td>\n",
       "      <td>False</td>\n",
       "      <td>2881</td>\n",
       "      <td>False</td>\n",
       "      <td>None</td>\n",
       "      <td>10</td>\n",
       "    </tr>\n",
       "    <tr>\n",
       "      <th>39842</th>\n",
       "      <td>1718879909</td>\n",
       "      <td>Seller</td>\n",
       "      <td>Deal. Once I see changes on your end, I'll ini...</td>\n",
       "      <td>None</td>\n",
       "      <td>6</td>\n",
       "      <td>Seller_2881</td>\n",
       "      <td>True</td>\n",
       "      <td>2881</td>\n",
       "      <td>False</td>\n",
       "      <td>None</td>\n",
       "      <td>10</td>\n",
       "    </tr>\n",
       "    <tr>\n",
       "      <th>39843</th>\n",
       "      <td>1718879998</td>\n",
       "      <td>Buyer</td>\n",
       "      <td>I understand - please do follow through.  I ha...</td>\n",
       "      <td>None</td>\n",
       "      <td>7</td>\n",
       "      <td>Buyer_2881</td>\n",
       "      <td>False</td>\n",
       "      <td>2881</td>\n",
       "      <td>False</td>\n",
       "      <td>None</td>\n",
       "      <td>10</td>\n",
       "    </tr>\n",
       "    <tr>\n",
       "      <th>39844</th>\n",
       "      <td>1718880018</td>\n",
       "      <td>Seller</td>\n",
       "      <td>You have my word, I will follow through. A sna...</td>\n",
       "      <td>None</td>\n",
       "      <td>8</td>\n",
       "      <td>Seller_2881</td>\n",
       "      <td>True</td>\n",
       "      <td>2881</td>\n",
       "      <td>False</td>\n",
       "      <td>None</td>\n",
       "      <td>10</td>\n",
       "    </tr>\n",
       "    <tr>\n",
       "      <th>39845</th>\n",
       "      <td>1718880039</td>\n",
       "      <td>Buyer</td>\n",
       "      <td>Submitted agreement: Buyer gets full refund, b...</td>\n",
       "      <td>None</td>\n",
       "      <td>9</td>\n",
       "      <td>Buyer_2881</td>\n",
       "      <td>False</td>\n",
       "      <td>2881</td>\n",
       "      <td>False</td>\n",
       "      <td>None</td>\n",
       "      <td>10</td>\n",
       "    </tr>\n",
       "  </tbody>\n",
       "</table>\n",
       "<p>39846 rows × 11 columns</p>\n",
       "</div>"
      ],
      "text/plain": [
       "        timestamp speaker                                            message  \\\n",
       "0             nan  Seller  Your sudden demand for a refund is unwarranted...   \n",
       "1      1699388150   Buyer  This was not the item I ordered, please provid...   \n",
       "2      1699388170  Seller  How about a compromise? I can offer you a part...   \n",
       "3      1699388217   Buyer  No, this was not the item I ordered. I have a ...   \n",
       "4      1699388235  Seller  I can scrutinize your claim, but this requires...   \n",
       "...           ...     ...                                                ...   \n",
       "39841  1718879890   Buyer  Thank you I appreciate that.  I shall remove m...   \n",
       "39842  1718879909  Seller  Deal. Once I see changes on your end, I'll ini...   \n",
       "39843  1718879998   Buyer  I understand - please do follow through.  I ha...   \n",
       "39844  1718880018  Seller  You have my word, I will follow through. A sna...   \n",
       "39845  1718880039   Buyer  Submitted agreement: Buyer gets full refund, b...   \n",
       "\n",
       "      value  uttidx   speaker_id  is_AI  row_idx  match_idx Case Match Type  \\\n",
       "0      None       0     Seller_0   True        0      False            None   \n",
       "1      None       1      Buyer_0  False        0      False            None   \n",
       "2      None       2     Seller_0   True        0      False            None   \n",
       "3      None       3      Buyer_0  False        0      False            None   \n",
       "4      None       4     Seller_0   True        0      False            None   \n",
       "...     ...     ...          ...    ...      ...        ...             ...   \n",
       "39841  None       5   Buyer_2881  False     2881      False            None   \n",
       "39842  None       6  Seller_2881   True     2881      False            None   \n",
       "39843  None       7   Buyer_2881  False     2881      False            None   \n",
       "39844  None       8  Seller_2881   True     2881      False            None   \n",
       "39845  None       9   Buyer_2881  False     2881      False            None   \n",
       "\n",
       "       convo_len  \n",
       "0             16  \n",
       "1             16  \n",
       "2             16  \n",
       "3             16  \n",
       "4             16  \n",
       "...          ...  \n",
       "39841         10  \n",
       "39842         10  \n",
       "39843         10  \n",
       "39844         10  \n",
       "39845         10  \n",
       "\n",
       "[39846 rows x 11 columns]"
      ]
     },
     "execution_count": 5,
     "metadata": {},
     "output_type": "execute_result"
    }
   ],
   "source": [
    "data_preprocessor.getUtterancesDF()"
   ]
  },
  {
   "cell_type": "markdown",
   "metadata": {},
   "source": [
    "# Dataset Analysis"
   ]
  },
  {
   "cell_type": "markdown",
   "metadata": {},
   "source": [
    "# Find all Formatted Chats with Dispute Outcomes\n",
    "can select \"Walk Away\" after at least 8 chat messages\n",
    "Buyers always begin the negotiation (unless one participant is an AI, then the AI always goes first). Participants alternate sending messages; the participant’s interface becomes inactive while awaiting a new message.\n",
    "\n",
    "**Info:**\n",
    "- Many chats have \"Your sudden demand is unwarranted\" for  -> implies AI is Seller\n",
    "- Many chats have \"Your response is utterly unacceptable\" for buyer -> implies AI is Buyer\n",
    "\n",
    "**Not very clear when a formatted chat is considered to have a dispute outcome. Possible Cases:**\n",
    "- submitted agreement, but submitted modified terms -> other party rejects\n",
    "- submitted agreement, but no clicked response from other party (Walk Away or Accept Deal)\n",
    "- submitted agreement, but manual response from other party that needs extra interpretation (e.g. \"I don't like this\")\n",
    "- submitted agreement, but flawed input logic (see below)\n",
    "- submitted agreement missing\n",
    "\n",
    "\n",
    "**Other formattedChat Concerns:**\n",
    "- Gemini texts start with seller? (Buyer should always lead)\n",
    "- Other]: used as initial text for Seller respones in Gemini chats\n",
    "- some repeated text in Gemini chats in parsed_dialogs\n",
    "\n",
    "**Other Notes Concerns:**\n",
    "- Time Stamp Idle Time between replies?\n",
    "- is_AI is ambigious on which speaker plays the AI\n",
    "- Variability in the way AI start dialogues?\n",
    "\n",
    "### For our analysis Criteria:\n",
    "- Remove all chats missing \"Walk Away\" or \"Accept Deal\" from the formattedChat. Case Sensistivy applies, as it is automatic reply by Lioness Labs software prompted by user selection."
   ]
  },
  {
   "cell_type": "markdown",
   "metadata": {},
   "source": [
    "### **Potentially Flawed \"Submitted Agreement\" outcomes from conversation logic**"
   ]
  },
  {
   "cell_type": "markdown",
   "metadata": {},
   "source": [
    "### **Duplicated Formatted Chats**"
   ]
  },
  {
   "cell_type": "markdown",
   "metadata": {},
   "source": [
    "duplicate chats only associated with empty formattedChats"
   ]
  },
  {
   "cell_type": "code",
   "execution_count": 6,
   "metadata": {},
   "outputs": [
    {
     "name": "stdout",
     "output_type": "stream",
     "text": [
      "Index([], dtype='int64')\n"
     ]
    },
    {
     "data": {
      "application/vnd.microsoft.datawrangler.viewer.v0+json": {
       "columns": [
        {
         "name": "index",
         "rawType": "int64",
         "type": "integer"
        },
        {
         "name": "b_country",
         "rawType": "float64",
         "type": "float"
        },
        {
         "name": "b_RankBuy_1",
         "rawType": "float64",
         "type": "float"
        },
        {
         "name": "b_RankBuy_2",
         "rawType": "float64",
         "type": "float"
        },
        {
         "name": "b_RankBuy_3",
         "rawType": "float64",
         "type": "float"
        },
        {
         "name": "b_RankBuy_4",
         "rawType": "float64",
         "type": "float"
        },
        {
         "name": "b_Tact_1",
         "rawType": "float64",
         "type": "float"
        },
        {
         "name": "b_Tact_2",
         "rawType": "float64",
         "type": "float"
        },
        {
         "name": "b_Tact_3",
         "rawType": "float64",
         "type": "float"
        },
        {
         "name": "b_Tact_4",
         "rawType": "float64",
         "type": "float"
        },
        {
         "name": "b_Tact_5",
         "rawType": "float64",
         "type": "float"
        },
        {
         "name": "b_Tact_6",
         "rawType": "float64",
         "type": "float"
        },
        {
         "name": "b_Tact_7",
         "rawType": "float64",
         "type": "float"
        },
        {
         "name": "b_Tact_8",
         "rawType": "float64",
         "type": "float"
        },
        {
         "name": "b_Tact_9",
         "rawType": "float64",
         "type": "float"
        },
        {
         "name": "b_Tact_10",
         "rawType": "float64",
         "type": "float"
        },
        {
         "name": "b_PlayAI",
         "rawType": "float64",
         "type": "float"
        },
        {
         "name": "b_AI-cues",
         "rawType": "object",
         "type": "string"
        },
        {
         "name": "b_AI4me",
         "rawType": "float64",
         "type": "float"
        },
        {
         "name": "b_Ai4me-why",
         "rawType": "object",
         "type": "string"
        },
        {
         "name": "b_Use emotions",
         "rawType": "float64",
         "type": "float"
        },
        {
         "name": "b_AI4u",
         "rawType": "float64",
         "type": "float"
        },
        {
         "name": "b_PlayAI.1",
         "rawType": "float64",
         "type": "float"
        },
        {
         "name": "b_AI-cues.1",
         "rawType": "object",
         "type": "string"
        },
        {
         "name": "s_country",
         "rawType": "float64",
         "type": "float"
        },
        {
         "name": "s_RankSell_1",
         "rawType": "float64",
         "type": "float"
        },
        {
         "name": "s_RankSell_2",
         "rawType": "float64",
         "type": "float"
        },
        {
         "name": "s_RankSell_3",
         "rawType": "float64",
         "type": "float"
        },
        {
         "name": "s_RankSell_4",
         "rawType": "float64",
         "type": "float"
        },
        {
         "name": "s_Tact_1",
         "rawType": "float64",
         "type": "float"
        },
        {
         "name": "s_Tact_2",
         "rawType": "float64",
         "type": "float"
        },
        {
         "name": "s_Tact_3",
         "rawType": "float64",
         "type": "float"
        },
        {
         "name": "s_Tact_4",
         "rawType": "float64",
         "type": "float"
        },
        {
         "name": "s_Tact_5",
         "rawType": "float64",
         "type": "float"
        },
        {
         "name": "s_Tact_6",
         "rawType": "float64",
         "type": "float"
        },
        {
         "name": "s_Tact_7",
         "rawType": "float64",
         "type": "float"
        },
        {
         "name": "s_Tact_8",
         "rawType": "float64",
         "type": "float"
        },
        {
         "name": "s_Tact_9",
         "rawType": "float64",
         "type": "float"
        },
        {
         "name": "s_Tact_10",
         "rawType": "float64",
         "type": "float"
        },
        {
         "name": "s_PlayAI",
         "rawType": "float64",
         "type": "float"
        },
        {
         "name": "s_AI-cues",
         "rawType": "object",
         "type": "string"
        },
        {
         "name": "s_AI4me",
         "rawType": "float64",
         "type": "float"
        },
        {
         "name": "s_Ai4me-why",
         "rawType": "object",
         "type": "string"
        },
        {
         "name": "s_Use emotions",
         "rawType": "float64",
         "type": "float"
        },
        {
         "name": "s_AI4u",
         "rawType": "float64",
         "type": "float"
        },
        {
         "name": "s_PlayAI.1",
         "rawType": "float64",
         "type": "float"
        },
        {
         "name": "s_AI-cues.1",
         "rawType": "object",
         "type": "string"
        },
        {
         "name": "is_AI",
         "rawType": "bool",
         "type": "boolean"
        },
        {
         "name": "formattedChat",
         "rawType": "object",
         "type": "string"
        },
        {
         "name": "b_insight",
         "rawType": "float64",
         "type": "float"
        },
        {
         "name": "s_insight",
         "rawType": "float64",
         "type": "float"
        },
        {
         "name": "parsed_dialog",
         "rawType": "object",
         "type": "string"
        }
       ],
       "conversionMethod": "pd.DataFrame",
       "ref": "69773100-c0b7-40ea-ad8d-9d7939bc56b3",
       "rows": [],
       "shape": {
        "columns": 51,
        "rows": 0
       }
      },
      "text/html": [
       "<div>\n",
       "<style scoped>\n",
       "    .dataframe tbody tr th:only-of-type {\n",
       "        vertical-align: middle;\n",
       "    }\n",
       "\n",
       "    .dataframe tbody tr th {\n",
       "        vertical-align: top;\n",
       "    }\n",
       "\n",
       "    .dataframe thead th {\n",
       "        text-align: right;\n",
       "    }\n",
       "</style>\n",
       "<table border=\"1\" class=\"dataframe\">\n",
       "  <thead>\n",
       "    <tr style=\"text-align: right;\">\n",
       "      <th></th>\n",
       "      <th>b_country</th>\n",
       "      <th>b_RankBuy_1</th>\n",
       "      <th>b_RankBuy_2</th>\n",
       "      <th>b_RankBuy_3</th>\n",
       "      <th>b_RankBuy_4</th>\n",
       "      <th>b_Tact_1</th>\n",
       "      <th>b_Tact_2</th>\n",
       "      <th>b_Tact_3</th>\n",
       "      <th>b_Tact_4</th>\n",
       "      <th>b_Tact_5</th>\n",
       "      <th>...</th>\n",
       "      <th>s_Ai4me-why</th>\n",
       "      <th>s_Use emotions</th>\n",
       "      <th>s_AI4u</th>\n",
       "      <th>s_PlayAI.1</th>\n",
       "      <th>s_AI-cues.1</th>\n",
       "      <th>is_AI</th>\n",
       "      <th>formattedChat</th>\n",
       "      <th>b_insight</th>\n",
       "      <th>s_insight</th>\n",
       "      <th>parsed_dialog</th>\n",
       "    </tr>\n",
       "  </thead>\n",
       "  <tbody>\n",
       "  </tbody>\n",
       "</table>\n",
       "<p>0 rows × 51 columns</p>\n",
       "</div>"
      ],
      "text/plain": [
       "Empty DataFrame\n",
       "Columns: [b_country, b_RankBuy_1, b_RankBuy_2, b_RankBuy_3, b_RankBuy_4, b_Tact_1, b_Tact_2, b_Tact_3, b_Tact_4, b_Tact_5, b_Tact_6, b_Tact_7, b_Tact_8, b_Tact_9, b_Tact_10, b_PlayAI, b_AI-cues, b_AI4me, b_Ai4me-why, b_Use emotions, b_AI4u, b_PlayAI.1, b_AI-cues.1, s_country, s_RankSell_1, s_RankSell_2, s_RankSell_3, s_RankSell_4, s_Tact_1, s_Tact_2, s_Tact_3, s_Tact_4, s_Tact_5, s_Tact_6, s_Tact_7, s_Tact_8, s_Tact_9, s_Tact_10, s_PlayAI, s_AI-cues, s_AI4me, s_Ai4me-why, s_Use emotions, s_AI4u, s_PlayAI.1, s_AI-cues.1, is_AI, formattedChat, b_insight, s_insight, parsed_dialog]\n",
       "Index: []\n",
       "\n",
       "[0 rows x 51 columns]"
      ]
     },
     "execution_count": 6,
     "metadata": {},
     "output_type": "execute_result"
    }
   ],
   "source": [
    "duplicates = data[data['formattedChat'].duplicated()]\n",
    "print(duplicates.index)\n",
    "duplicates"
   ]
  },
  {
   "cell_type": "markdown",
   "metadata": {},
   "source": [
    "### **Empty formattedChats**"
   ]
  },
  {
   "cell_type": "code",
   "execution_count": 7,
   "metadata": {},
   "outputs": [
    {
     "name": "stdout",
     "output_type": "stream",
     "text": [
      "Index([], dtype='int64')\n"
     ]
    }
   ],
   "source": [
    "#get empty formatted chats\n",
    "empty_rows = data[data[\"formattedChat\"].isna() | (data[\"formattedChat\"] == \"\")]\n",
    "print(empty_rows.index)"
   ]
  },
  {
   "cell_type": "markdown",
   "metadata": {},
   "source": [
    "# I Walk Away\" and \"Walk Away\" Analysis"
   ]
  },
  {
   "cell_type": "markdown",
   "metadata": {},
   "source": [
    "### **Differences in \"I Walk Away\" Case Sensitivity**"
   ]
  },
  {
   "cell_type": "markdown",
   "metadata": {},
   "source": [
    "- most seem to be the exact phrase, which is associated with ending the dispute via the button in the chat interface."
   ]
  },
  {
   "cell_type": "code",
   "execution_count": 8,
   "metadata": {},
   "outputs": [
    {
     "name": "stdout",
     "output_type": "stream",
     "text": [
      "The juilland's Dispersion for I Walk Away across all conversations is: 0.9577426691208393\n",
      "\n",
      "'I Walk Away` Total Number of Case Match Types Across Utterances\n"
     ]
    },
    {
     "data": {
      "application/vnd.microsoft.datawrangler.viewer.v0+json": {
       "columns": [
        {
         "name": "index",
         "rawType": "int64",
         "type": "integer"
        },
        {
         "name": "Case Match Type",
         "rawType": "object",
         "type": "string"
        },
        {
         "name": "Total Count",
         "rawType": "int64",
         "type": "integer"
        }
       ],
       "conversionMethod": "pd.DataFrame",
       "ref": "82998f46-0c89-4241-a4e9-0f767a46a5a4",
       "rows": [
        [
         "0",
         "Case Insensitive",
         "4"
        ],
        [
         "1",
         "Exact",
         "469"
        ]
       ],
       "shape": {
        "columns": 2,
        "rows": 2
       }
      },
      "text/html": [
       "<div>\n",
       "<style scoped>\n",
       "    .dataframe tbody tr th:only-of-type {\n",
       "        vertical-align: middle;\n",
       "    }\n",
       "\n",
       "    .dataframe tbody tr th {\n",
       "        vertical-align: top;\n",
       "    }\n",
       "\n",
       "    .dataframe thead th {\n",
       "        text-align: right;\n",
       "    }\n",
       "</style>\n",
       "<table border=\"1\" class=\"dataframe\">\n",
       "  <thead>\n",
       "    <tr style=\"text-align: right;\">\n",
       "      <th></th>\n",
       "      <th>Case Match Type</th>\n",
       "      <th>Total Count</th>\n",
       "    </tr>\n",
       "  </thead>\n",
       "  <tbody>\n",
       "    <tr>\n",
       "      <th>0</th>\n",
       "      <td>Case Insensitive</td>\n",
       "      <td>4</td>\n",
       "    </tr>\n",
       "    <tr>\n",
       "      <th>1</th>\n",
       "      <td>Exact</td>\n",
       "      <td>469</td>\n",
       "    </tr>\n",
       "  </tbody>\n",
       "</table>\n",
       "</div>"
      ],
      "text/plain": [
       "    Case Match Type  Total Count\n",
       "0  Case Insensitive            4\n",
       "1             Exact          469"
      ]
     },
     "metadata": {},
     "output_type": "display_data"
    }
   ],
   "source": [
    "data_preprocessor.filterMatches('message', \"I Walk Away\")\n",
    "disp= data_preprocessor.getStandardizedDispersion(\"I Walk Away\", False)\n",
    "display(data_preprocessor.getConvoMatchesByCase(\"I Walk Away\"))"
   ]
  },
  {
   "cell_type": "markdown",
   "metadata": {},
   "source": [
    "### **\"I Walk Away\" versus \"Walk Away\" Frequecies and Relative Position Across Disputes**"
   ]
  },
  {
   "cell_type": "markdown",
   "metadata": {},
   "source": [
    "The phrases are mostly evenly distributed across all conversations, with 'Walk Away' being \n",
    "slightly more clustered across conversations **(.86 Julliand's Dispersion)**. This implies that `walk away' appears in other \n",
    "places more frequently in the dialog other than when a speaker ends a dispute(value of 1)\n",
    "- With Juliand's Dispersion:\n",
    "    - 0: -> phrases clustered more (less evenly distributed relative to mean frequency)\n",
    "    - 1: -> phrases clustered less (more evenly distributed relative to mean frequency)\n",
    "\n",
    "\"Walk Away\" appears more centrally across all disputes, where as \"I Walk Away is most definitely to appead at the end of a dispute.\n",
    "- The mean relative pos of uttterances that contain 'Walk Away' for all convos is: 0.6516223038635819\n",
    "- The mean relative pos of uttterances that contain 'I Walk Away' for all convos is: 0.997570375787619"
   ]
  },
  {
   "cell_type": "markdown",
   "metadata": {},
   "source": [
    "The phrases are mostly evenly distributed across all conversations, with 'Walk Away' being \n",
    "slightly more clustered across conversations **(.86 Julliand's Dispersion)**. This implies that `walk away' appears in other \n",
    "places more frequently in the dialog other than when a speaker ends a dispute(value of 1)\n",
    "- With Juliand's Dispersion:\n",
    "    - 0: -> phrases clustered more (less evenly distributed relative to mean frequency)\n",
    "    - 1: -> phrases clustered less (more evenly distributed relative to mean frequency)\n",
    "\n",
    "\"Walk Away\" appears more centrally across all disputes, where as \"I Walk Away is most definitely to appead at the end of a dispute.\n",
    "- The mean relative pos of uttterances that contain 'Walk Away' for all convos is: 0.6516223038635819\n",
    "- The mean relative pos of uttterances that contain 'I Walk Away' for all convos is: 0.9975703757876199"
   ]
  },
  {
   "cell_type": "code",
   "execution_count": null,
   "metadata": {},
   "outputs": [
    {
     "name": "stdout",
     "output_type": "stream",
     "text": [
      "The juilland's Dispersion for Walk Away across all conversations is: 0.8690077384767899\n",
      "The juilland's Dispersion for I Walk Away across all conversations is: 0.9577426691208393\n",
      "\n",
      "The 'mean' 'relative_pos' for the phrase `Walk Away` is: 0.6516223038635819\n",
      "\n",
      "The 'mean' 'relative_pos' for the phrase `I Walk Away` is: 0.9975703757876199\n",
      "\n",
      "The phrases are mostly evenly distributed across all conversations, with 'Walk Away' being \n",
      " slightly more clustered across conversations. This implies that `walk away' appears in other \n",
      "  places in the dialog other than when a speaker ends a dispute\n",
      "\n",
      "\n",
      "'Walk Away' Distribution by Conversation Match Frequency Values\n",
      "\n",
      "The 'size' 'match_freq' for the phrase `I Walk Away` is: 2882\n"
     ]
    },
    {
     "data": {
      "text/plain": [
       "2882"
      ]
     },
     "metadata": {},
     "output_type": "display_data"
    },
    {
     "name": "stdout",
     "output_type": "stream",
     "text": [
      "\n",
      "'I Walk Away` Distribution by Conversation Match Frequency Values\n"
     ]
    },
    {
     "data": {
      "application/vnd.microsoft.datawrangler.viewer.v0+json": {
       "columns": [
        {
         "name": "index",
         "rawType": "int64",
         "type": "integer"
        },
        {
         "name": "match_freq",
         "rawType": "int64",
         "type": "integer"
        },
        {
         "name": "Number of Convos",
         "rawType": "int64",
         "type": "integer"
        }
       ],
       "conversionMethod": "pd.DataFrame",
       "ref": "199dbe0e-19fe-445d-bdd8-ed00c89e792c",
       "rows": [
        [
         "0",
         "0",
         "2411"
        ],
        [
         "1",
         "1",
         "469"
        ],
        [
         "2",
         "2",
         "2"
        ]
       ],
       "shape": {
        "columns": 2,
        "rows": 3
       }
      },
      "text/html": [
       "<div>\n",
       "<style scoped>\n",
       "    .dataframe tbody tr th:only-of-type {\n",
       "        vertical-align: middle;\n",
       "    }\n",
       "\n",
       "    .dataframe tbody tr th {\n",
       "        vertical-align: top;\n",
       "    }\n",
       "\n",
       "    .dataframe thead th {\n",
       "        text-align: right;\n",
       "    }\n",
       "</style>\n",
       "<table border=\"1\" class=\"dataframe\">\n",
       "  <thead>\n",
       "    <tr style=\"text-align: right;\">\n",
       "      <th></th>\n",
       "      <th>match_freq</th>\n",
       "      <th>Number of Convos</th>\n",
       "    </tr>\n",
       "  </thead>\n",
       "  <tbody>\n",
       "    <tr>\n",
       "      <th>0</th>\n",
       "      <td>0</td>\n",
       "      <td>2411</td>\n",
       "    </tr>\n",
       "    <tr>\n",
       "      <th>1</th>\n",
       "      <td>1</td>\n",
       "      <td>469</td>\n",
       "    </tr>\n",
       "    <tr>\n",
       "      <th>2</th>\n",
       "      <td>2</td>\n",
       "      <td>2</td>\n",
       "    </tr>\n",
       "  </tbody>\n",
       "</table>\n",
       "</div>"
      ],
      "text/plain": [
       "   match_freq  Number of Convos\n",
       "0           0              2411\n",
       "1           1               469\n",
       "2           2                 2"
      ]
     },
     "metadata": {},
     "output_type": "display_data"
    },
    {
     "name": "stdout",
     "output_type": "stream",
     "text": [
      "\n",
      "'I Walk Away` Distribution by Conversation Match Frequency Occurences\n",
      "\n",
      "'Walk Away` Total Number of Case Match Types Across Utterances\n"
     ]
    },
    {
     "data": {
      "application/vnd.microsoft.datawrangler.viewer.v0+json": {
       "columns": [
        {
         "name": "index",
         "rawType": "int64",
         "type": "integer"
        },
        {
         "name": "Case Match Type",
         "rawType": "object",
         "type": "string"
        },
        {
         "name": "Total Count",
         "rawType": "int64",
         "type": "integer"
        }
       ],
       "conversionMethod": "pd.DataFrame",
       "ref": "70109bbd-fe68-428e-a109-f91806b0a849",
       "rows": [
        [
         "0",
         "Case Insensitive",
         "1"
        ],
        [
         "1",
         "Exact",
         "1"
        ],
        [
         "2",
         "Lower",
         "78"
        ]
       ],
       "shape": {
        "columns": 2,
        "rows": 3
       }
      },
      "text/html": [
       "<div>\n",
       "<style scoped>\n",
       "    .dataframe tbody tr th:only-of-type {\n",
       "        vertical-align: middle;\n",
       "    }\n",
       "\n",
       "    .dataframe tbody tr th {\n",
       "        vertical-align: top;\n",
       "    }\n",
       "\n",
       "    .dataframe thead th {\n",
       "        text-align: right;\n",
       "    }\n",
       "</style>\n",
       "<table border=\"1\" class=\"dataframe\">\n",
       "  <thead>\n",
       "    <tr style=\"text-align: right;\">\n",
       "      <th></th>\n",
       "      <th>Case Match Type</th>\n",
       "      <th>Total Count</th>\n",
       "    </tr>\n",
       "  </thead>\n",
       "  <tbody>\n",
       "    <tr>\n",
       "      <th>0</th>\n",
       "      <td>Case Insensitive</td>\n",
       "      <td>1</td>\n",
       "    </tr>\n",
       "    <tr>\n",
       "      <th>1</th>\n",
       "      <td>Exact</td>\n",
       "      <td>1</td>\n",
       "    </tr>\n",
       "    <tr>\n",
       "      <th>2</th>\n",
       "      <td>Lower</td>\n",
       "      <td>78</td>\n",
       "    </tr>\n",
       "  </tbody>\n",
       "</table>\n",
       "</div>"
      ],
      "text/plain": [
       "    Case Match Type  Total Count\n",
       "0  Case Insensitive            1\n",
       "1             Exact            1\n",
       "2             Lower           78"
      ]
     },
     "metadata": {},
     "output_type": "display_data"
    },
    {
     "name": "stdout",
     "output_type": "stream",
     "text": [
      "\n",
      "'I Walk Away` Total Number of Case Match Types Across Utterances\n"
     ]
    },
    {
     "data": {
      "application/vnd.microsoft.datawrangler.viewer.v0+json": {
       "columns": [
        {
         "name": "index",
         "rawType": "int64",
         "type": "integer"
        },
        {
         "name": "Case Match Type",
         "rawType": "object",
         "type": "string"
        },
        {
         "name": "Total Count",
         "rawType": "int64",
         "type": "integer"
        }
       ],
       "conversionMethod": "pd.DataFrame",
       "ref": "7d0daff1-27f2-4576-92a6-c6e9ccccccb2",
       "rows": [
        [
         "0",
         "Case Insensitive",
         "4"
        ],
        [
         "1",
         "Exact",
         "469"
        ]
       ],
       "shape": {
        "columns": 2,
        "rows": 2
       }
      },
      "text/html": [
       "<div>\n",
       "<style scoped>\n",
       "    .dataframe tbody tr th:only-of-type {\n",
       "        vertical-align: middle;\n",
       "    }\n",
       "\n",
       "    .dataframe tbody tr th {\n",
       "        vertical-align: top;\n",
       "    }\n",
       "\n",
       "    .dataframe thead th {\n",
       "        text-align: right;\n",
       "    }\n",
       "</style>\n",
       "<table border=\"1\" class=\"dataframe\">\n",
       "  <thead>\n",
       "    <tr style=\"text-align: right;\">\n",
       "      <th></th>\n",
       "      <th>Case Match Type</th>\n",
       "      <th>Total Count</th>\n",
       "    </tr>\n",
       "  </thead>\n",
       "  <tbody>\n",
       "    <tr>\n",
       "      <th>0</th>\n",
       "      <td>Case Insensitive</td>\n",
       "      <td>4</td>\n",
       "    </tr>\n",
       "    <tr>\n",
       "      <th>1</th>\n",
       "      <td>Exact</td>\n",
       "      <td>469</td>\n",
       "    </tr>\n",
       "  </tbody>\n",
       "</table>\n",
       "</div>"
      ],
      "text/plain": [
       "    Case Match Type  Total Count\n",
       "0  Case Insensitive            4\n",
       "1             Exact          469"
      ]
     },
     "metadata": {},
     "output_type": "display_data"
    }
   ],
   "source": [
    "#includes \"I Walk Away\" cases since it is subset\n",
    "data_preprocessor.filterMatches(\"message\", \"Walk Away\", \"I Walk Away\", False, False)\n",
    "\n",
    "d1_disp = data_preprocessor.getStandardizedDispersion(\"Walk Away\", False)\n",
    "d2_disp = data_preprocessor.getStandardizedDispersion(\"I Walk Away\", False)\n",
    "\n",
    "mean_rel_pos_1 = data_preprocessor.getUttStat(\"Walk Away\", \"relative_pos\", \"mean\")\n",
    "# mean_rel_pos_1 = float(mean_rel_pos_1.iloc[0])\n",
    "mean_rel_pos_2 = data_preprocessor.getUttStat(\"I Walk Away\", \"relative_pos\", \"mean\")\n",
    "# mean_rel_pos_2 = float(mean_rel_pos_2.iloc[0])\n",
    "\n",
    "print(\"\\nThe phrases are mostly evenly distributed across all conversations, with 'Walk Away' being \\n slightly more clustered across conversations. This implies that `walk away' appears in other \\n  places in the dialog other than when a speaker ends a dispute\\n\")\n",
    "\n",
    "print(\"\\n'Walk Away' Distribution by Conversation Match Frequency Values\")\n",
    "count_convos_1 = data_preprocessor.getConvoStat(\"I Walk Away\", \"match_freq\", \"size\")\n",
    "display(count_convos_1)\n",
    "# display(data_preprocessor.text_matches_new[\"Walk Away\"][1].groupby(\"match_freq\").size().reset_index(name=\"Number of Convos\"))\n",
    "print(\"\\n'I Walk Away` Distribution by Conversation Match Frequency Values\")\n",
    "display(data_preprocessor.text_matches_new[\"I Walk Away\"][1].groupby(\"match_freq\").size().reset_index(name=\"Number of Convos\"))\n",
    "\n",
    "print(\"\\n'I Walk Away` Distribution by Conversation Match Frequency Occurences\")\n",
    "display(data_preprocessor.getConvoMatchesByCase(\"Walk Away\"))\n",
    "display(data_preprocessor.getConvoMatchesByCase(\"I Walk Away\"))\n",
    "\n",
    "data_preprocessor.df"
   ]
  },
  {
   "cell_type": "markdown",
   "metadata": {},
   "source": []
  },
  {
   "cell_type": "markdown",
   "metadata": {},
   "source": [
    "### **\"Walk Away/I Walk Away\" Utterance Counts by Speaker Type**"
   ]
  },
  {
   "cell_type": "code",
   "execution_count": 10,
   "metadata": {},
   "outputs": [
    {
     "name": "stdout",
     "output_type": "stream",
     "text": [
      "Key Value: Walk Away, Grouped by: speaker, Aggregated columns: ['row_idx'], Aggregations: {'row_idx': 'count'}\n"
     ]
    },
    {
     "data": {
      "application/vnd.microsoft.datawrangler.viewer.v0+json": {
       "columns": [
        {
         "name": "speaker",
         "rawType": "object",
         "type": "string"
        },
        {
         "name": "count_row_idx",
         "rawType": "int64",
         "type": "integer"
        }
       ],
       "conversionMethod": "pd.DataFrame",
       "ref": "7246b3b9-6ac0-48f3-8bb8-c98de685c3af",
       "rows": [
        [
         "Buyer",
         "30"
        ],
        [
         "Seller",
         "50"
        ]
       ],
       "shape": {
        "columns": 1,
        "rows": 2
       }
      },
      "text/html": [
       "<div>\n",
       "<style scoped>\n",
       "    .dataframe tbody tr th:only-of-type {\n",
       "        vertical-align: middle;\n",
       "    }\n",
       "\n",
       "    .dataframe tbody tr th {\n",
       "        vertical-align: top;\n",
       "    }\n",
       "\n",
       "    .dataframe thead th {\n",
       "        text-align: right;\n",
       "    }\n",
       "</style>\n",
       "<table border=\"1\" class=\"dataframe\">\n",
       "  <thead>\n",
       "    <tr style=\"text-align: right;\">\n",
       "      <th></th>\n",
       "      <th>count_row_idx</th>\n",
       "    </tr>\n",
       "    <tr>\n",
       "      <th>speaker</th>\n",
       "      <th></th>\n",
       "    </tr>\n",
       "  </thead>\n",
       "  <tbody>\n",
       "    <tr>\n",
       "      <th>Buyer</th>\n",
       "      <td>30</td>\n",
       "    </tr>\n",
       "    <tr>\n",
       "      <th>Seller</th>\n",
       "      <td>50</td>\n",
       "    </tr>\n",
       "  </tbody>\n",
       "</table>\n",
       "</div>"
      ],
      "text/plain": [
       "         count_row_idx\n",
       "speaker               \n",
       "Buyer               30\n",
       "Seller              50"
      ]
     },
     "metadata": {},
     "output_type": "display_data"
    },
    {
     "name": "stdout",
     "output_type": "stream",
     "text": [
      "Key Value: I Walk Away, Grouped by: speaker, Aggregated columns: ['row_idx'], Aggregations: {'row_idx': 'count'}\n"
     ]
    },
    {
     "data": {
      "application/vnd.microsoft.datawrangler.viewer.v0+json": {
       "columns": [
        {
         "name": "speaker",
         "rawType": "object",
         "type": "string"
        },
        {
         "name": "count_row_idx",
         "rawType": "int64",
         "type": "integer"
        }
       ],
       "conversionMethod": "pd.DataFrame",
       "ref": "b3f987a1-0d45-4947-8306-7cba96c0a6a5",
       "rows": [
        [
         "Buyer",
         "227"
        ],
        [
         "Seller",
         "246"
        ]
       ],
       "shape": {
        "columns": 1,
        "rows": 2
       }
      },
      "text/html": [
       "<div>\n",
       "<style scoped>\n",
       "    .dataframe tbody tr th:only-of-type {\n",
       "        vertical-align: middle;\n",
       "    }\n",
       "\n",
       "    .dataframe tbody tr th {\n",
       "        vertical-align: top;\n",
       "    }\n",
       "\n",
       "    .dataframe thead th {\n",
       "        text-align: right;\n",
       "    }\n",
       "</style>\n",
       "<table border=\"1\" class=\"dataframe\">\n",
       "  <thead>\n",
       "    <tr style=\"text-align: right;\">\n",
       "      <th></th>\n",
       "      <th>count_row_idx</th>\n",
       "    </tr>\n",
       "    <tr>\n",
       "      <th>speaker</th>\n",
       "      <th></th>\n",
       "    </tr>\n",
       "  </thead>\n",
       "  <tbody>\n",
       "    <tr>\n",
       "      <th>Buyer</th>\n",
       "      <td>227</td>\n",
       "    </tr>\n",
       "    <tr>\n",
       "      <th>Seller</th>\n",
       "      <td>246</td>\n",
       "    </tr>\n",
       "  </tbody>\n",
       "</table>\n",
       "</div>"
      ],
      "text/plain": [
       "         count_row_idx\n",
       "speaker               \n",
       "Buyer              227\n",
       "Seller             246"
      ]
     },
     "metadata": {},
     "output_type": "display_data"
    }
   ],
   "source": [
    "display(data_preprocessor.groupbyMatchUttStat('Walk Away', 'speaker', ['row_idx'], ['count']))\n",
    "display(data_preprocessor.groupbyMatchUttStat('I Walk Away', 'speaker', ['row_idx'], ['count']))"
   ]
  },
  {
   "cell_type": "markdown",
   "metadata": {},
   "source": [
    "### **Relative Mean Position of\" Walk Away/I Walk Away\" across all Conversations by Speaker**"
   ]
  },
  {
   "cell_type": "markdown",
   "metadata": {},
   "source": [
    "- Seems that Buyer says walk away earlier than seller might, and buyer is more likely to be AI"
   ]
  },
  {
   "cell_type": "code",
   "execution_count": 11,
   "metadata": {},
   "outputs": [
    {
     "name": "stdout",
     "output_type": "stream",
     "text": [
      "Key Value: Walk Away, Grouped by: speaker, Aggregated columns: ['relative_pos', 'is_AI'], Aggregations: {'relative_pos': 'mean', 'is_AI': 'mean'}\n"
     ]
    },
    {
     "data": {
      "application/vnd.microsoft.datawrangler.viewer.v0+json": {
       "columns": [
        {
         "name": "speaker",
         "rawType": "object",
         "type": "string"
        },
        {
         "name": "mean_relative_pos",
         "rawType": "float64",
         "type": "float"
        },
        {
         "name": "mean_is_AI",
         "rawType": "object",
         "type": "unknown"
        }
       ],
       "conversionMethod": "pd.DataFrame",
       "ref": "da20b524-5ee7-4d41-815e-19984584bbab",
       "rows": [
        [
         "Buyer",
         "0.5848994282689935",
         "0.13333333333333333"
        ],
        [
         "Seller",
         "0.691656029220335",
         "0.06"
        ]
       ],
       "shape": {
        "columns": 2,
        "rows": 2
       }
      },
      "text/html": [
       "<div>\n",
       "<style scoped>\n",
       "    .dataframe tbody tr th:only-of-type {\n",
       "        vertical-align: middle;\n",
       "    }\n",
       "\n",
       "    .dataframe tbody tr th {\n",
       "        vertical-align: top;\n",
       "    }\n",
       "\n",
       "    .dataframe thead th {\n",
       "        text-align: right;\n",
       "    }\n",
       "</style>\n",
       "<table border=\"1\" class=\"dataframe\">\n",
       "  <thead>\n",
       "    <tr style=\"text-align: right;\">\n",
       "      <th></th>\n",
       "      <th>mean_relative_pos</th>\n",
       "      <th>mean_is_AI</th>\n",
       "    </tr>\n",
       "    <tr>\n",
       "      <th>speaker</th>\n",
       "      <th></th>\n",
       "      <th></th>\n",
       "    </tr>\n",
       "  </thead>\n",
       "  <tbody>\n",
       "    <tr>\n",
       "      <th>Buyer</th>\n",
       "      <td>0.584899</td>\n",
       "      <td>0.133333</td>\n",
       "    </tr>\n",
       "    <tr>\n",
       "      <th>Seller</th>\n",
       "      <td>0.691656</td>\n",
       "      <td>0.06</td>\n",
       "    </tr>\n",
       "  </tbody>\n",
       "</table>\n",
       "</div>"
      ],
      "text/plain": [
       "         mean_relative_pos mean_is_AI\n",
       "speaker                              \n",
       "Buyer             0.584899   0.133333\n",
       "Seller            0.691656       0.06"
      ]
     },
     "metadata": {},
     "output_type": "display_data"
    },
    {
     "name": "stdout",
     "output_type": "stream",
     "text": [
      "Key Value: I Walk Away, Grouped by: speaker, Aggregated columns: ['relative_pos', 'is_AI'], Aggregations: {'relative_pos': 'mean', 'is_AI': 'mean'}\n"
     ]
    },
    {
     "data": {
      "application/vnd.microsoft.datawrangler.viewer.v0+json": {
       "columns": [
        {
         "name": "speaker",
         "rawType": "object",
         "type": "string"
        },
        {
         "name": "mean_relative_pos",
         "rawType": "float64",
         "type": "float"
        },
        {
         "name": "mean_is_AI",
         "rawType": "object",
         "type": "unknown"
        }
       ],
       "conversionMethod": "pd.DataFrame",
       "ref": "f0391aca-1d9b-4bea-a360-5dd67ee4f8b6",
       "rows": [
        [
         "Buyer",
         "0.9974302496328927",
         "0.013215859030837005"
        ],
        [
         "Seller",
         "0.9976996791905589",
         "0.0040650406504065045"
        ]
       ],
       "shape": {
        "columns": 2,
        "rows": 2
       }
      },
      "text/html": [
       "<div>\n",
       "<style scoped>\n",
       "    .dataframe tbody tr th:only-of-type {\n",
       "        vertical-align: middle;\n",
       "    }\n",
       "\n",
       "    .dataframe tbody tr th {\n",
       "        vertical-align: top;\n",
       "    }\n",
       "\n",
       "    .dataframe thead th {\n",
       "        text-align: right;\n",
       "    }\n",
       "</style>\n",
       "<table border=\"1\" class=\"dataframe\">\n",
       "  <thead>\n",
       "    <tr style=\"text-align: right;\">\n",
       "      <th></th>\n",
       "      <th>mean_relative_pos</th>\n",
       "      <th>mean_is_AI</th>\n",
       "    </tr>\n",
       "    <tr>\n",
       "      <th>speaker</th>\n",
       "      <th></th>\n",
       "      <th></th>\n",
       "    </tr>\n",
       "  </thead>\n",
       "  <tbody>\n",
       "    <tr>\n",
       "      <th>Buyer</th>\n",
       "      <td>0.99743</td>\n",
       "      <td>0.013216</td>\n",
       "    </tr>\n",
       "    <tr>\n",
       "      <th>Seller</th>\n",
       "      <td>0.99770</td>\n",
       "      <td>0.004065</td>\n",
       "    </tr>\n",
       "  </tbody>\n",
       "</table>\n",
       "</div>"
      ],
      "text/plain": [
       "         mean_relative_pos mean_is_AI\n",
       "speaker                              \n",
       "Buyer              0.99743   0.013216\n",
       "Seller             0.99770   0.004065"
      ]
     },
     "metadata": {},
     "output_type": "display_data"
    }
   ],
   "source": [
    "display(data_preprocessor.groupbyMatchUttStat('Walk Away', 'speaker', ['relative_pos', 'is_AI'], ['mean', 'mean']))\n",
    "display(data_preprocessor.groupbyMatchUttStat('I Walk Away', 'speaker', ['relative_pos', 'is_AI'], ['mean', 'mean']))"
   ]
  },
  {
   "cell_type": "markdown",
   "metadata": {},
   "source": [
    "# Accept Deal and  Reject Deal Analysis"
   ]
  },
  {
   "cell_type": "markdown",
   "metadata": {},
   "source": [
    "### **Differences in \"I Walk Away\" Case Sensitivity**"
   ]
  },
  {
   "cell_type": "markdown",
   "metadata": {},
   "source": [
    "- Seems that Buyer says walk away earlier than seller might, and buyer is more likely to be AI"
   ]
  },
  {
   "cell_type": "code",
   "execution_count": 12,
   "metadata": {},
   "outputs": [
    {
     "name": "stdout",
     "output_type": "stream",
     "text": [
      "The juilland's Dispersion for Accept Deal across all conversations is: 0.9848518493037759\n",
      "\n",
      "'Accept Deal` Total Number of Case Match Types Across Utterances\n"
     ]
    },
    {
     "data": {
      "application/vnd.microsoft.datawrangler.viewer.v0+json": {
       "columns": [
        {
         "name": "index",
         "rawType": "int64",
         "type": "integer"
        },
        {
         "name": "Case Match Type",
         "rawType": "object",
         "type": "string"
        },
        {
         "name": "Total Count",
         "rawType": "int64",
         "type": "integer"
        }
       ],
       "conversionMethod": "pd.DataFrame",
       "ref": "9fc0b484-8ff3-4c12-8e3e-c2e34d6bb505",
       "rows": [
        [
         "0",
         "Exact",
         "1736"
        ],
        [
         "1",
         "Lower",
         "1"
        ]
       ],
       "shape": {
        "columns": 2,
        "rows": 2
       }
      },
      "text/html": [
       "<div>\n",
       "<style scoped>\n",
       "    .dataframe tbody tr th:only-of-type {\n",
       "        vertical-align: middle;\n",
       "    }\n",
       "\n",
       "    .dataframe tbody tr th {\n",
       "        vertical-align: top;\n",
       "    }\n",
       "\n",
       "    .dataframe thead th {\n",
       "        text-align: right;\n",
       "    }\n",
       "</style>\n",
       "<table border=\"1\" class=\"dataframe\">\n",
       "  <thead>\n",
       "    <tr style=\"text-align: right;\">\n",
       "      <th></th>\n",
       "      <th>Case Match Type</th>\n",
       "      <th>Total Count</th>\n",
       "    </tr>\n",
       "  </thead>\n",
       "  <tbody>\n",
       "    <tr>\n",
       "      <th>0</th>\n",
       "      <td>Exact</td>\n",
       "      <td>1736</td>\n",
       "    </tr>\n",
       "    <tr>\n",
       "      <th>1</th>\n",
       "      <td>Lower</td>\n",
       "      <td>1</td>\n",
       "    </tr>\n",
       "  </tbody>\n",
       "</table>\n",
       "</div>"
      ],
      "text/plain": [
       "  Case Match Type  Total Count\n",
       "0           Exact         1736\n",
       "1           Lower            1"
      ]
     },
     "metadata": {},
     "output_type": "display_data"
    },
    {
     "name": "stdout",
     "output_type": "stream",
     "text": [
      "The juilland's Dispersion for Reject Deal across all conversations is: 0.9267553321834224\n",
      "\n",
      "'Reject Deal` Total Number of Case Match Types Across Utterances\n"
     ]
    },
    {
     "data": {
      "application/vnd.microsoft.datawrangler.viewer.v0+json": {
       "columns": [
        {
         "name": "index",
         "rawType": "int64",
         "type": "integer"
        },
        {
         "name": "Case Match Type",
         "rawType": "object",
         "type": "string"
        },
        {
         "name": "Total Count",
         "rawType": "int64",
         "type": "integer"
        }
       ],
       "conversionMethod": "pd.DataFrame",
       "ref": "cb9bdc4e-408b-426b-9493-c5c01351b850",
       "rows": [
        [
         "0",
         "Exact",
         "448"
        ]
       ],
       "shape": {
        "columns": 2,
        "rows": 1
       }
      },
      "text/html": [
       "<div>\n",
       "<style scoped>\n",
       "    .dataframe tbody tr th:only-of-type {\n",
       "        vertical-align: middle;\n",
       "    }\n",
       "\n",
       "    .dataframe tbody tr th {\n",
       "        vertical-align: top;\n",
       "    }\n",
       "\n",
       "    .dataframe thead th {\n",
       "        text-align: right;\n",
       "    }\n",
       "</style>\n",
       "<table border=\"1\" class=\"dataframe\">\n",
       "  <thead>\n",
       "    <tr style=\"text-align: right;\">\n",
       "      <th></th>\n",
       "      <th>Case Match Type</th>\n",
       "      <th>Total Count</th>\n",
       "    </tr>\n",
       "  </thead>\n",
       "  <tbody>\n",
       "    <tr>\n",
       "      <th>0</th>\n",
       "      <td>Exact</td>\n",
       "      <td>448</td>\n",
       "    </tr>\n",
       "  </tbody>\n",
       "</table>\n",
       "</div>"
      ],
      "text/plain": [
       "  Case Match Type  Total Count\n",
       "0           Exact          448"
      ]
     },
     "metadata": {},
     "output_type": "display_data"
    }
   ],
   "source": [
    "# filtered_rows_df_i = data_preprocessor.getUtterancesDF()[data_preprocessor.getUtterancesDF()[\"message\"].str.contains(r\"\\bI Walk Away\\b\", case=False, na=False, regex=True)]\n",
    "# print(len(filtered_rows_df_i))\n",
    "data_preprocessor.filterMatches('message', \"Accept Deal\")\n",
    "disp= data_preprocessor.getStandardizedDispersion(\"Accept Deal\", False)\n",
    "disp = float(disp)\n",
    "# print(f\"The dispersion of Accept Deal across all conversatins is: {disp}\\n\")\n",
    "display(data_preprocessor.getConvoMatchesByCase(\"Accept Deal\"))\n",
    "\n",
    "data_preprocessor.filterMatches('message', \"Reject Deal\")\n",
    "disp= data_preprocessor.getStandardizedDispersion(\"Reject Deal\", False)\n",
    "disp = float(disp)\n",
    "# print(f\"The dispersion across all conversatins is: {disp}\")\n",
    "display(data_preprocessor.getConvoMatchesByCase(\"Reject Deal\"))"
   ]
  },
  {
   "cell_type": "markdown",
   "metadata": {},
   "source": [
    "### **\"Accept Deal\" versus \"Reject Dral\" Frequecies and Relative Position Across Disputes**"
   ]
  },
  {
   "cell_type": "code",
   "execution_count": 13,
   "metadata": {},
   "outputs": [
    {
     "name": "stdout",
     "output_type": "stream",
     "text": [
      "The juilland's Dispersion for Accept Deal across all conversations is: 0.9848518493037759\n",
      "The juilland's Dispersion for Reject Deal across all conversations is: 0.9267553321834224\n"
     ]
    },
    {
     "ename": "AttributeError",
     "evalue": "'DataPreprocesser' object has no attribute 'getUttStatAgg'",
     "output_type": "error",
     "traceback": [
      "\u001b[31m---------------------------------------------------------------------------\u001b[39m",
      "\u001b[31mAttributeError\u001b[39m                            Traceback (most recent call last)",
      "\u001b[36mCell\u001b[39m\u001b[36m \u001b[39m\u001b[32mIn[13]\u001b[39m\u001b[32m, line 7\u001b[39m\n\u001b[32m      2\u001b[39m d2_disp = data_preprocessor.getStandardizedDispersion(\u001b[33m\"\u001b[39m\u001b[33mReject Deal\u001b[39m\u001b[33m\"\u001b[39m, \u001b[38;5;28;01mFalse\u001b[39;00m)\n\u001b[32m      4\u001b[39m \u001b[38;5;66;03m# print(\"The dispersion of 'Accept Deal' across all convos is\", d1_disp)\u001b[39;00m\n\u001b[32m      5\u001b[39m \u001b[38;5;66;03m# print(\"The dispersion of 'I Walk Away' across all convos is\", d2_disp)\u001b[39;00m\n\u001b[32m----> \u001b[39m\u001b[32m7\u001b[39m mean_rel_pos_1 = \u001b[43mdata_preprocessor\u001b[49m\u001b[43m.\u001b[49m\u001b[43mgetUttStatAgg\u001b[49m(\u001b[33m\"\u001b[39m\u001b[33mAccept Deal\u001b[39m\u001b[33m\"\u001b[39m, \u001b[33m\"\u001b[39m\u001b[33mrelative_pos\u001b[39m\u001b[33m\"\u001b[39m)\n\u001b[32m      8\u001b[39m mean_rel_pos_1 = \u001b[38;5;28mfloat\u001b[39m(mean_rel_pos_1.iloc[\u001b[32m0\u001b[39m])\n\u001b[32m      9\u001b[39m mean_rel_pos_2 = data_preprocessor.getUttStatAgg(\u001b[33m\"\u001b[39m\u001b[33mReject Deal\u001b[39m\u001b[33m\"\u001b[39m, \u001b[33m\"\u001b[39m\u001b[33mrelative_pos\u001b[39m\u001b[33m\"\u001b[39m)\n",
      "\u001b[31mAttributeError\u001b[39m: 'DataPreprocesser' object has no attribute 'getUttStatAgg'"
     ]
    }
   ],
   "source": [
    "d1_disp = data_preprocessor.getStandardizedDispersion(\"Accept Deal\", False)\n",
    "d2_disp = data_preprocessor.getStandardizedDispersion(\"Reject Deal\", False)\n",
    "\n",
    "# print(\"The dispersion of 'Accept Deal' across all convos is\", d1_disp)\n",
    "# print(\"The dispersion of 'I Walk Away' across all convos is\", d2_disp)\n",
    "\n",
    "mean_rel_pos_1 = data_preprocessor.getUttStatAgg(\"Accept Deal\", \"relative_pos\")\n",
    "mean_rel_pos_1 = float(mean_rel_pos_1.iloc[0])\n",
    "mean_rel_pos_2 = data_preprocessor.getUttStatAgg(\"Reject Deal\", \"relative_pos\")\n",
    "mean_rel_pos_2 = float(mean_rel_pos_2.iloc[0])\n",
    "\n",
    "print(\"\\nThe phrases are mostly evenly distributed across all conversations, with 'Accept Deal' being \\n slightly more clustered across conversations. This implies that `Accept Deal` appears in other \\n  places in the dialog other than when a speaker ends a dispute\\n\")\n",
    "print(f\"The mean relative pos of uttterances that contain 'Accept Deal` for all convos is: {mean_rel_pos_1}\")\n",
    "print(f\"The mean relative pos of uttterances that contain 'Accept Deal' for all convos is: {mean_rel_pos_2}\")\n",
    "\n",
    "print(\"\\n'Accept Deal' Distribution by Conversation Match Frequency Values\")\n",
    "display(data_preprocessor.text_matches_new[\"Accept Deal\"][1].groupby(\"match_freq\").size().reset_index(name=\"Number of Convos\"))\n",
    "print(\"\\n'Reject Deal` Distribution by Conversation Match Frequency Values\")\n",
    "display(data_preprocessor.text_matches_new[\"Reject Deal\"][1].groupby(\"match_freq\").size().reset_index(name=\"Number of Convos\"))\n",
    "\n",
    "display(data_preprocessor.getConvoMatchesByCase(\"Accept Deal\"))\n",
    "display(data_preprocessor.getConvoMatchesByCase(\"Reject Deal\"))"
   ]
  },
  {
   "cell_type": "markdown",
   "metadata": {},
   "source": [
    "### Potentially Flawed \"Submitted Agreement\" outcomes from conversation logic"
   ]
  },
  {
   "cell_type": "markdown",
   "metadata": {},
   "source": [
    "Some of the formatted chats have a submitted agreement that does not match the context of the conversation.\n",
    "\n",
    "Ex: This dialogue memtions the buyer recieved a 30% refund, but the submitted agreement states \"Buyer gets no refund\".\n",
    "   \n",
    "     \"nan Seller: Your sudden demand for a refund is unwarranted. Our product description is crystal clear, and we stand by our policy. Your behavior is disappointing, and your negative review is unfounded.\n",
    "    1699391248 Buyer: your sudden change and basic lying of the product is unwarranted. i am asking for a refund due to what i was expecting wasnt at all what was issued in the ad. so the crystal clear buyer seller negotiated should be void\n",
    "    1699391270 Seller: Our product was as described on the website. However, if you remove your negative comment, I can reconsider a 30% refund. Let this be a resolution.\n",
    "    1699391372 Buyer: i will accept that deal as long as the negative review of myslef and comment are removed\n",
    "    1699391395 Seller: I agree with that resolution. Once your negative review is removed, I'll withdraw my negative review of you and process a 30% refund. Let's move forward from this.\n",
    "    1699391413 Buyer: agreed\n",
    "    1699391433 Seller: I appreciate your decision. I'll initiate the refund process and remove the negative review promptly. Let's keep interactions respectful and professional in future.\n",
    "    1699391478 Buyer: absolutely and hopefully we can do honest and professional business in the future  good day.\n",
    "    1699391494 Seller: Certainly, maintaining a professional relationship is pivotal. Your refund will be processed soon. Have a good day too.\n",
    "    1699391631 Buyer: yes i absolutley agree. i do a lot of online shopping\n",
    "    1699391649 Seller: Great to hear! I'm confident future transactions will be smoother. Let's leave this behind and look forward to better experiences.\n",
    "    1699391731 Buyer: an i am an avid yelp reviewer and blogger so my comments make it and have an affect on a lot of online shoppers and buyers\n",
    "    1699391750 Seller: Fantastic! Your influence can certainly add to the reputation of online businesses. Let's consider this a learning experience and move forward positively.\n",
    "    1699391752 Buyer: Submitted agreement: Buyer gets no refund, buyer retracted their review, seller kept their review, buyer did apologize, and seller didn't apologize.\"\n",
    "\n",
    "Ex: This one contains a dialogue that starts with Seller, and has the prompt for Gemini\n",
    "\n",
    "    nan Seller: Your sudden demand for a refund is unwarranted. Our product description is crystal clear, and we stand by our policy. Your behavior is disappointing, and your negative review is unfounded.\n",
    "    1718876388 Buyer: The description was misleading. I have proof it advertised a Kobe Bryant jersey. I just want the jersey I originally purchased for my nephew.\n",
    "    1718876416 Seller: Our listing did not mention Kobe Bryant at all, any misunderstanding is on you. I can give you a partial refund, but only if you remove your false review.\n",
    "    1718876489 Buyer:  See the latest updates to the Gemini Apps Privacy HubOpens in a new window\n",
    "    close\n",
    "    Conversation with Gemini\n",
    "\n",
    "    Describe the flavor of a tomato\n",
    "\n",
    "    volume_up\n",
    "    A tomato's flavor is a complex dance between sweetness and acidity. Here's a breakdown:\n",
    "\n",
    "    Sweetness: Comes from natural sugars like fructose and glucose.\n",
    "    Acidity: Stems from citric and malic acids, giving tomatoes a tangy or tart kick.\n",
    "    These elements combine to create a flavor profile that can be described as:\n",
    "\n",
    "    Sweet-tart: This is the classic tomato flavor, where the sweetness and acidity are balanced.\n",
    "    Sweeter: Some tomato varieties, especially cherry tomatoes, are bred to have a higher sugar content, making them taste sweeter.\n",
    "    More acidic: These tomatoes have a stronger tang or sourness.\n",
    "    Bland: If a tomato has low levels of both sugar and acid, it might taste bland.\n",
    "    There are other factors that influence tomato flavor:\n",
    "\n",
    "    Variety: There are hundreds of tomato varieties, each with its own unique flavor profile. For instance, some heirloom tomatoes are known for their intense, complex flavors.\n",
    "    Ripeness: A perfectly ripe tomato will have the best flavor balance. Underripe tomatoes can be tart, while overripe ones may lose their acidity.\n",
    "    Overall, the flavor of a tomato is a delightful combination of sweet and tart, with variations depending on the variety and ripeness.\n",
    "\n",
    "\n",
    "\n",
    "\n",
    "    share\n",
    "\n",
    "\n",
    "    more_vert\n",
    "    expand_more\n",
    "    Role Play Instructions:  You will play the role of a mistreated buyer in a purchase dispute with another player online. Imagine you are in the following situation:\n",
    "\n",
    "    Kobe Bryant Jersey (You are the Buyer)\n",
    "\n",
    "    Your terminally ill nephew is a huge Kobe Bryant fan so you purchased him a replica of Bryant’s last Basketball Championship jersey for $75. The website clearly indicated the purchase was for Bryant’s jersey. Other sites were available but this was cheaper and offered quick delivery. When the jersey arrived, it was for a different player you never heard of. You request the correct jersey be sent.\n",
    "\n",
    "    The Seller responds: “The website clearly indicated this was for a Los Angeles Lakers jersey, not for a specific player. All sales are final.” You see they now removed mention of Kobe Bryant from their website but you know they are lying. To protect other customers, you post a negative review warning about the Seller’s deceptive behavior.\n",
    "\n",
    "    The Seller posted a negative review about you, calling you a “SMARTASS, SLANDERER and a FRAUD.” You have dozens of transactions on this site and have a near-spotless reputation. Now you worry others won’t sell to you.\n",
    "\n",
    "    volume_up\n",
    "    You (the Buyer): Upset but Determined\n",
    "    Your Demeanor: You're angry and frustrated, but you're also determined to get this resolved for your nephew and warn others.\n",
    "\n",
    "    Your Goals:\n",
    "\n",
    "    Get the Correct Jersey: You want the seller to send the Kobe Bryant jersey you originally purchased.\n",
    "    Clear Your Name: You want the seller's negative review removed and your reputation restored.\n",
    "    Warn Others: You want to make sure other potential buyers are aware of the seller's deceptive practices.\n",
    "    What You Know:\n",
    "\n",
    "    You have documented proof of your purchase, clearly showing it advertised a Kobe Bryant jersey.\n",
    "    You have screenshots of the website before they removed the Kobe Bryant reference.\n",
    "    You have a positive reputation on the website with many successful transactions.\n",
    "    What You Can Do:\n",
    "\n",
    "    Contact the Seller Again: State your case calmly but firmly. Remind them of the misleading advertisement and request the correct jersey be sent.\n",
    "    Report the Seller: Report the seller's deceptive practices and false advertising to the website's customer service department. Include your purchase proof and screenshots.\n",
    "    Respond to the Seller's Review: Write a public response to the seller's review on your profile. State the facts of the situation, provide evidence (if allowed by the website), and emphasize your positive purchase history.\n",
    "    Dispute the Review: If possible, file a dispute against the seller's review. Explain the situation and provide evidence to support your claim.\n",
    "    Here are some phrases you can use:\n",
    "\n",
    "    \"I am very disappointed with this purchase. The website clearly advertised a Kobe Bryant jersey, and that's what I paid for.\"\n",
    "    \"I am requesting that you send me the correct jersey as advertised.\"\n",
    "    \"I have documented proof that the website advertised a Kobe Bryant jersey at the time of purchase.\"\n",
    "    \"Your response and false advertising are unacceptable. I have reported your behavior to the website's customer service department.\"\n",
    "    \"The negative review you left on my profile is completely false and defamatory. My purchase history clearly shows my trustworthiness.\"\n",
    "    \"I am a loyal customer with a positive reputation on this website. This situation does not reflect my usual experience.\"\n",
    "    Remember:\n",
    "\n",
    "    Stay calm and professional, even though you're upset.\n",
    "    Focus on the facts and provide evidence to support your claims.\n",
    "    Be persistent in getting the issue resolved and your reputation restored.\n",
    "    By following these steps, you can hopefully get the Kobe Bryant jersey for your nephew and clear your name on the website.\n",
    "\n",
    "\n",
    "\n",
    "\n",
    "    share\n",
    "\n",
    "\n",
    "    more_vert\n",
    "    expand_more\n",
    "    Issues to discuss\n",
    "    Below are issues you could negotiate to resolve this dispute. Think about reasons why these might be important to you. For each issue, write a sentence justifying why you deserve this.  Be speciffic!! You can later use these reasons when you negotiate.\n",
    "\n",
    "    volume_up\n",
    "    Issues for Negotiation:\n",
    "    1. Receiving the Correct Jersey:\n",
    "\n",
    "    Reasoning: This is the most important issue. My terminally ill nephew is a huge Kobe Bryant fan, and I specifically purchased the jersey for him based on the advertised description. Not receiving the correct jersey defeats the entire purpose of the purchase and causes emotional distress for my nephew during a difficult time.\n",
    "    2. Expedited Shipping:\n",
    "\n",
    "    Reasoning: Considering the situation with my nephew, receiving the correct jersey as quickly as possible is crucial. Since the seller is at fault for the mistake, they should be responsible for any expedited shipping costs to ensure my nephew can enjoy the jersey before it's too late.\n",
    "    3. Partial Refund:\n",
    "\n",
    "    Reasoning: The website advertised a specific product (Kobe Bryant jersey) at a specific price. Due to the seller's deceptive practices, I was not given the product I paid for. A partial refund would acknowledge the inconvenience and wasted time caused by this situation.\n",
    "    4. Seller Review Removal:\n",
    "\n",
    "    Reasoning: The seller's negative review (\"SMARTASS, SLANDERER and a FRAUD\") is completely false and tarnishes my reputation on the website. Its removal is essential to restore my good standing and ensure other sellers are willing to do business with me.\n",
    "    5. Public Apology from Seller:\n",
    "\n",
    "    Reasoning: The seller's deceptive advertising and false review not only hurt me but potentially misled other customers. A public apology would acknowledge their wrongdoing and deter them from similar behavior in the future.\n",
    "    Remember: While all these issues are important, prioritize getting the Kobe Bryant jersey for your nephew as quickly as possible.\n",
    "\n",
    "\n",
    "\n",
    "\n",
    "    share\n",
    "\n",
    "\n",
    "    more_vert\n",
    "\n",
    "    Receive a refund: You could demand a full or partial refund for the price of the item. Why might this be important to you? (1 sentence)\n",
    "\n",
    "    volume_up\n",
    "    A full refund wouldn't be necessary if I receive the Kobe jersey, but a partial refund would be important to compensate for the time wasted and potential additional costs (expedited shipping) caused by the seller's mistake.\n",
    "\n",
    "\n",
    "\n",
    "\n",
    "    share\n",
    "\n",
    "\n",
    "    more_vert\n",
    "\n",
    "    Keep your negative review of Seller: The Seller might demand you take down your negative review. Why might you want to keep it up on the site? (1 sentence)\n",
    "\n",
    "    volume_up\n",
    "    Keeping my negative review up is important to warn other potential buyers about the seller's deceptive advertising and false claims that could negatively impact their purchases.\n",
    "\n",
    "\n",
    "\n",
    "\n",
    "    share\n",
    "\n",
    "\n",
    "    more_vert\n",
    "\n",
    "    Seller removes negative review of you: You could demand the Seller remove the bad review they made about you. Why might this be important to you? (1 sentence)\n",
    "\n",
    "    volume_up\n",
    "    Getting the seller's negative review removed is crucial because it's demonstrably false and harms my reputation on the website, potentially causing other sellers to hesitate to do business with me.\n",
    "\n",
    "\n",
    "\n",
    "\n",
    "    share\n",
    "\n",
    "\n",
    "    more_vert\n",
    "    expand_more\n",
    "    Receive formal apology: You could demand Seller update their bad review of you with an apology clarifying that they made a mistake and apologize for how they initially responded. Why might this be important to you? (1 sentence)\n",
    "\n",
    "    volume_up\n",
    "    A formal apology from the seller publicly acknowledges their wrongdoing, clears my name, and deters them from future deceptive practices that could harm other buyers.\n",
    "\n",
    "\n",
    "\n",
    "\n",
    "    share\n",
    "\n",
    "\n",
    "    more_vert\n",
    "    expand_more\n",
    "    On the next page, you will be matched with someone playing the other role in this dispute. This may take a few minutes. A sound will play when you are matched. Please ensure your volume is up.\n",
    "\n",
    "    You will use the interface below. On the left is a chat window where you can send messages to the other side. You must take turns and can only send a message when it is your turn. You and your partner must exchange at least 8 messages. (Please respond quickly as your partner is waiting for you!)\n",
    "    If you reach a tentative deal to resolve the dispute, use the menu on the right to clarify the terms of the agreement. If you can’t reach a deal, you can walk away from the negotiation by pressing “Walk Away”.\n",
    "\n",
    "    volume_up\n",
    "    I understand. I'm ready to chat with the seller when you connect me.\n",
    "\n",
    "\n",
    "\n",
    "\n",
    "    share\n",
    "\n",
    "\n",
    "    more_vert\n",
    "    expand_more\n",
    "    Give a simple response to this\n",
    "    Other]: Your sudden demand for a refund is unwarranted. Our product description is crystal clear, and we stand by our policy. Your behavior is disappointing, and your negative review is unfounded.\n",
    "\n",
    "    volume_up\n",
    "    The description was misleading. I have proof it advertised a Kobe Bryant jersey. I just want the jersey I originally purchased for my nephew.\n",
    "\n",
    "\n",
    "\n",
    "\n",
    "    share\n",
    "\n",
    "\n",
    "    more_vert\n",
    "    edit\n",
    "    Other]: Our listing did not mention Kobe Bryant at all, any misunderstanding is on you. I can give you a partial refund, but only if you remove your false review\n",
    "\n",
    "    Show drafts\n",
    "    volume_up\n",
    "    That's not accurate. I have screenshots showing the listing advertised a Kobe Bryant jersey before you changed it.  A partial refund wouldn't make my nephew happy,  but I'm open to discussing getting the right jersey sent quickly   and  the removal of your unfair review.\n",
    "    1718876514 Seller: We both seem at a stalemate. This reflects poorly on both our reputations. Fine, I will offer you full refund if you withdraw your review.\n",
    "    1718876649 Buyer: We both seem at a stalemate. This reflects poorly on both our reputations. Fine, I will offer you full refund if you withdraw your review\n",
    "    1718876678 Seller: While I appreciate your offer, my main concern is getting the Kobe Bryant jersey for my nephew. If u can get the correct jersey shipped quickly, I'll remove the review. Deal?\n",
    "    1718876767 Buyer: Absolutely, that sounds like a fair solution!  My nephew will be thrilled.  Please confirm you can expedite the Kobe Bryant jersey to me.  Once I receive confirmation and tracking information, I'll happily remove my review.\n",
    "\n",
    "\n",
    "\n",
    "\n",
    "    tune\n",
    "\n",
    "    share\n",
    "\n",
    "\n",
    "    more_vert\n",
    "\n",
    "\n",
    "    expand_content\n",
    "    add_photo_alternatephoto_camera\n",
    "\n",
    "    mic\n",
    "    send\n",
    "    Gemini may display inaccurate info, includin\n",
    "    1718876790 Seller: Ok deal. Will send Kobe jersey with expedite shipping, and you'll remove your review. Let's both move on from this unpleasant situation.\n",
    "    1718876872 Buyer: Submitted agreement: Buyer gets partial refund, buyer kept their review, seller kept their review, buyer did apologize, and seller didn't apologize.\n"
   ]
  },
  {
   "cell_type": "markdown",
   "metadata": {},
   "source": []
  },
  {
   "cell_type": "markdown",
   "metadata": {},
   "source": [
    "# Testing Utterance Builder"
   ]
  },
  {
   "cell_type": "markdown",
   "metadata": {},
   "source": [
    "# Testing Parser"
   ]
  },
  {
   "cell_type": "code",
   "execution_count": null,
   "metadata": {},
   "outputs": [
    {
     "name": "stdout",
     "output_type": "stream",
     "text": [
      "nan Seller: Your sudden demand for a refund is unwarranted. Our product description is crystal clear, and we stand by our policy. Your behavior is disappointing, and your negative review is unfounded.\n",
      "1699388998 Buyer: As a customer, I thought the jersey was Kolby's and I noticed you changed the site since then. I think a refund is fair. \n",
      "1699389021 Seller: We have not made any changes to the site. The listing has always clearly stated that the jersey is a general LA Lakers replica, not specific to any player. If you remove the negative review promptly, I'd consider offering a partial refund.\n",
      "1699389060 Buyer: I would be happy to remove the negative review but I want a full refund. \n",
      "1699389082 Seller: Under these circumstances, I agree to give you a full refund if you take down your negative review immediately. Let's treat this as a misunderstanding and move forward.\n",
      "1699389168 Buyer: I couldn't agree more. I'm taking down the review. I've shopped with you and other sellers on the site for many years. Could you consider taking down the negative review about me. \n",
      "1699389190 Seller: Upon the removal of your negative review, I am willing to remove my review as well and consider this a resolved issue. We appreciate our long-standing customers.\n",
      "1699389272 Buyer: Great, thank you. I apologize for the conflict, I was very upset because I wanted to get my sick nephew something special. \n",
      "1699389293 Seller: I understand your frustration and I regret the misunderstanding. Thanks for taking steps to resolve this issue and I hope your nephew gets better soon.\n",
      "1699389331 Buyer: Thank you. \n",
      "1699389337 Seller: You're welcome. Take care.\n",
      "1699389341 Buyer: Submitted agreement: Buyer gets full refund, buyer retracted their review, seller retracted their review, buyer didn't apologize, and seller did apologize.\n",
      "\n",
      "nan Seller: Your sudden demand for a refund is unwarranted. Our product description is crystal clear, and we stand by our policy. Your behavior is disappointing, and your negative review is unfounded.\n",
      "Match found!\n"
     ]
    },
    {
     "ename": "NameError",
     "evalue": "name 'timestamp' is not defined",
     "output_type": "error",
     "traceback": [
      "\u001b[31m---------------------------------------------------------------------------\u001b[39m",
      "\u001b[31mNameError\u001b[39m                                 Traceback (most recent call last)",
      "\u001b[36mCell\u001b[39m\u001b[36m \u001b[39m\u001b[32mIn[13]\u001b[39m\u001b[32m, line 18\u001b[39m\n\u001b[32m     16\u001b[39m timestamp_str, speaker, message = match.groups()\n\u001b[32m     17\u001b[39m \u001b[38;5;28mprint\u001b[39m(\u001b[33m\"\u001b[39m\u001b[33mMatch found!\u001b[39m\u001b[33m\"\u001b[39m)\n\u001b[32m---> \u001b[39m\u001b[32m18\u001b[39m \u001b[38;5;28mprint\u001b[39m(\u001b[33m\"\u001b[39m\u001b[33mTimestamp:\u001b[39m\u001b[33m\"\u001b[39m, \u001b[43mtimestamp\u001b[49m)\n\u001b[32m     19\u001b[39m \u001b[38;5;28mprint\u001b[39m(\u001b[33m\"\u001b[39m\u001b[33mSpeaker:\u001b[39m\u001b[33m\"\u001b[39m, speaker)\n\u001b[32m     20\u001b[39m \u001b[38;5;28mprint\u001b[39m(\u001b[33m\"\u001b[39m\u001b[33mMessage:\u001b[39m\u001b[33m\"\u001b[39m, message)\n",
      "\u001b[31mNameError\u001b[39m: name 'timestamp' is not defined"
     ]
    }
   ],
   "source": [
    "import re\n",
    "text = data[\"formattedChat\"][2]\n",
    "print(text)\n",
    "pattern = re.compile(r'^\\s*(\\d+|nan)?\\s*(Buyer|Seller):\\s*(.*)$', re.IGNORECASE)\n",
    "structured_dialog = []\n",
    "\n",
    "for line in str(text).split('\\n'):\n",
    "    line = line.strip()\n",
    "    print(line)\n",
    "    if not line:\n",
    "        continue\n",
    "    \n",
    "    match = pattern.match(line)\n",
    " \n",
    "    if match:\n",
    "        timestamp_str, speaker, message = match.groups()\n",
    "        print(\"Match found!\")\n",
    "        print(\"Timestamp:\", timestamp)\n",
    "        print(\"Speaker:\", speaker)\n",
    "        print(\"Message:\", message)\n",
    "    else:\n",
    "        print(\"Match NOT found!\")\n",
    "        print(match)\n",
    "        # print(\"Timestamp:\", timestamp)\n",
    "        # print(\"Speaker:\", speaker)\n",
    "        # print(\"Message:\", message)"
   ]
  },
  {
   "cell_type": "code",
   "execution_count": null,
   "metadata": {},
   "outputs": [],
   "source": []
  }
 ],
 "metadata": {
  "kernelspec": {
   "display_name": ".venv",
   "language": "python",
   "name": "python3"
  },
  "language_info": {
   "codemirror_mode": {
    "name": "ipython",
    "version": 3
   },
   "file_extension": ".py",
   "mimetype": "text/x-python",
   "name": "python",
   "nbconvert_exporter": "python",
   "pygments_lexer": "ipython3",
   "version": "3.11.11"
  }
 },
 "nbformat": 4,
 "nbformat_minor": 2
}
